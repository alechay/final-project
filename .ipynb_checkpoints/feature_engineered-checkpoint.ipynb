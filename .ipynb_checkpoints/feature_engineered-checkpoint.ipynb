{
 "cells": [
  {
   "cell_type": "markdown",
   "metadata": {},
   "source": [
    "## 2. Overview of classification methods"
   ]
  },
  {
   "cell_type": "markdown",
   "metadata": {},
   "source": [
    "Many of the method implement discriminative learning of linear classifiers under convex loss functions."
   ]
  },
  {
   "cell_type": "markdown",
   "metadata": {},
   "source": [
    "* **Nearest Neighbors classifier**\n",
    "\n",
    "http://scikit-learn.org/stable/modules/neighbors.html#nearest-neighbors-classification\n",
    "\n",
    "\n",
    "\n",
    "* **Logistic Regression**\n",
    "\n",
    "http://scikit-learn.org/stable/modules/linear_model.html#logistic-regression\n",
    "\n",
    "\n",
    "\n",
    "* **Neural networks**:\n",
    "    - Simplest example - Perceptron is very similar to logistic regression  http://scikit-learn.org/stable/modules/linear_model.html#perceptron\n",
    "   \n",
    "\n",
    "\n",
    "* **Linear and Quadratic Discriminant Analysis**\n",
    "http://scikit-learn.org/stable/modules/lda_qda.html\n",
    "\n",
    "    - Advantage: closed-form solution, no hyperparameters, can extend to multiclass classification.\n",
    "\n",
    "    - Disadvantage: assumptions about distibutions: Gaussian\n",
    "\n",
    "\n",
    "* **Support Vector Machines** - SVM Classifier: SVC http://scikit-learn.org/stable/modules/svm.html#classification\n",
    "\n",
    "    Optimize a hinge loss functions that defines the width of the decision boundary separating the classes. Support vectors are the examples from two classes closest to the boundary. The larger the boundary - the better. \n",
    "    Advantages include linear and nonlinear options with different kernels. Disadvantage is compuational complexity, does not scale well.\n",
    "    \n",
    "\n",
    "* A generalized version of linear classifiers **Stochastic Gradient Descent**:\n",
    "https://scikit-learn.org/stable/modules/generated/sklearn.linear_model.SGDClassifier.html\n",
    "SGDC has a choice of loss functions: hinge (as in SVM), log (as in logistic regression), ... and supports regularization.\n",
    "SGDC updates by calculating the gradient for each example separately, so it can be trained on very large datasets: out-of-core training with .partial_fit().\n",
    "\n",
    "\n",
    "* **Decision tree**\n",
    "http://scikit-learn.org/stable/modules/tree.html#classification\n",
    "\n",
    "\n",
    "* **Ensemble methods**:\n",
    "\n",
    "    - **Gradient Boosting** approach  http://scikit-learn.org/stable/modules/ensemble.html#gradient-tree-boosting\n",
    "\n",
    "    - Bagging approaches:\n",
    "\n",
    "        - **Voting**\n",
    "        http://scikit-learn.org/stable/modules/ensemble.html#voting-classifier\n",
    "\n",
    "        - **RandomForest**\n",
    "        http://scikit-learn.org/stable/modules/generated/sklearn.ensemble.RandomForestClassifier.html\n",
    "\n",
    "\n",
    "* **Naive Bayes** classifier:\n",
    "http://scikit-learn.org/stable/modules/naive_bayes.html#gaussian-naive-bayes\n",
    "\n",
    "    NB Can be extended to multiclass probelems. Can handle out-of-core training on large datasets easily.\n",
    "\n",
    "\n",
    "* For time series there exist different methods, like **Gaussian process** classifier:\n",
    "http://scikit-learn.org/stable/modules/gaussian_process.html#gaussian-process-classification-gpc\n"
   ]
  },
  {
   "cell_type": "markdown",
   "metadata": {},
   "source": [
    "Import basic packages"
   ]
  },
  {
   "cell_type": "code",
   "execution_count": 1,
   "metadata": {},
   "outputs": [],
   "source": [
    "import pandas as pd\n",
    "import numpy as np\n",
    "import matplotlib.pyplot as plt"
   ]
  },
  {
   "cell_type": "markdown",
   "metadata": {},
   "source": [
    "Text formatting class for readability of print outputs"
   ]
  },
  {
   "cell_type": "code",
   "execution_count": 2,
   "metadata": {},
   "outputs": [],
   "source": [
    "class color:\n",
    "   PURPLE = '\\033[95m'\n",
    "   CYAN = '\\033[96m'\n",
    "   DARKCYAN = '\\033[36m'\n",
    "   BLUE = '\\033[94m'\n",
    "   GREEN = '\\033[92m'\n",
    "   YELLOW = '\\033[93m'\n",
    "   RED = '\\033[91m'\n",
    "   BOLD = '\\033[1m'\n",
    "   UNDERLINE = '\\033[4m'\n",
    "   END = '\\033[0m'"
   ]
  },
  {
   "cell_type": "markdown",
   "metadata": {},
   "source": [
    "Function to load file as a numpy array:"
   ]
  },
  {
   "cell_type": "code",
   "execution_count": 3,
   "metadata": {},
   "outputs": [],
   "source": [
    "# load a single txt file as a numpy array\n",
    "def load_file(filepath):\n",
    "    df = pd.read_csv(filepath, header=None, delim_whitespace=True)\n",
    "    return df.values"
   ]
  },
  {
   "cell_type": "markdown",
   "metadata": {},
   "source": [
    "Load training data and print data shape"
   ]
  },
  {
   "cell_type": "code",
   "execution_count": 4,
   "metadata": {},
   "outputs": [
    {
     "name": "stdout",
     "output_type": "stream",
     "text": [
      "(7352, 1)\n",
      "(7352, 561)\n",
      "(7352, 1)\n"
     ]
    }
   ],
   "source": [
    "train_sub_map = load_file(\"~/Desktop/UCI HAR Dataset/train/subject_train.txt\")\n",
    "trainX = load_file(\"~/Desktop/UCI HAR Dataset/train/X_train.txt\")\n",
    "trainy = load_file(\"~/Desktop/UCI HAR Dataset/train/y_train.txt\")\n",
    "print(train_sub_map.shape)\n",
    "print(trainX.shape)\n",
    "print(trainy.shape)"
   ]
  },
  {
   "cell_type": "markdown",
   "metadata": {},
   "source": [
    "Load test data and print data shape"
   ]
  },
  {
   "cell_type": "code",
   "execution_count": 5,
   "metadata": {},
   "outputs": [
    {
     "name": "stdout",
     "output_type": "stream",
     "text": [
      "(2947, 1)\n",
      "(2947, 561)\n",
      "(2947, 1)\n"
     ]
    }
   ],
   "source": [
    "test_sub_map = load_file(\"~/Desktop/UCI HAR Dataset/test/subject_test.txt\")\n",
    "testX = load_file(\"~/Desktop/UCI HAR Dataset/test/X_test.txt\")\n",
    "testy = load_file(\"~/Desktop/UCI HAR Dataset/test/y_test.txt\")\n",
    "print(test_sub_map.shape)\n",
    "print(testX.shape)\n",
    "print(testy.shape)"
   ]
  },
  {
   "cell_type": "markdown",
   "metadata": {},
   "source": [
    "Need to use ravel for the y data to get it as a 1D array"
   ]
  },
  {
   "cell_type": "code",
   "execution_count": 6,
   "metadata": {},
   "outputs": [
    {
     "name": "stdout",
     "output_type": "stream",
     "text": [
      "<class 'numpy.ndarray'>\n",
      "(7352,)\n"
     ]
    }
   ],
   "source": [
    "print(type(trainy))\n",
    "print(trainy.ravel().shape)"
   ]
  },
  {
   "cell_type": "markdown",
   "metadata": {},
   "source": [
    "#### Precision (Positive predictive value)\n",
    "Out of all predicted positive, how many are actually positive?\n",
    "$$Precision = \\frac{TP}{TP + FP}$$\n",
    "\n",
    "#### True positive rate, also Sensitivity or Recall\n",
    "Out of all actual positive cases, how many do we predict as positive?\n",
    "$$ TPR = Sensitivity = Recall = \\frac{TP}{TP + FN} $$\n",
    "\n",
    "#### F score ($F_1$ score, F-measure)\n",
    "\n",
    "F score is a combination of precision and recall:\n",
    "\n",
    "$$F_1 = \\frac{2TP}{2TP + FP + FN}$$"
   ]
  },
  {
   "cell_type": "markdown",
   "metadata": {},
   "source": [
    "Tested logistic regression model on the data"
   ]
  },
  {
   "cell_type": "code",
   "execution_count": 7,
   "metadata": {},
   "outputs": [
    {
     "name": "stdout",
     "output_type": "stream",
     "text": [
      "\u001b[1mClassification report on lr_train_pred_y:\u001b[0m\n",
      "              precision    recall  f1-score   support\n",
      "\n",
      "           1       1.00      1.00      1.00      1226\n",
      "           2       1.00      1.00      1.00      1073\n",
      "           3       1.00      1.00      1.00       986\n",
      "           4       0.98      0.98      0.98      1286\n",
      "           5       0.98      0.98      0.98      1374\n",
      "           6       1.00      1.00      1.00      1407\n",
      "\n",
      "    accuracy                           0.99      7352\n",
      "   macro avg       0.99      0.99      0.99      7352\n",
      "weighted avg       0.99      0.99      0.99      7352\n",
      "\n",
      "\u001b[1mClassification report on lr_test_pred_y:\u001b[0m\n",
      "              precision    recall  f1-score   support\n",
      "\n",
      "           1       0.94      0.99      0.97       496\n",
      "           2       0.97      0.94      0.96       471\n",
      "           3       0.99      0.97      0.98       420\n",
      "           4       0.98      0.88      0.93       491\n",
      "           5       0.90      0.98      0.94       532\n",
      "           6       1.00      1.00      1.00       537\n",
      "\n",
      "    accuracy                           0.96      2947\n",
      "   macro avg       0.96      0.96      0.96      2947\n",
      "weighted avg       0.96      0.96      0.96      2947\n",
      "\n"
     ]
    }
   ],
   "source": [
    "from sklearn.linear_model import LogisticRegression\n",
    "from sklearn.metrics import classification_report\n",
    "\n",
    "# instantiate logistic regression\n",
    "# pass default solver 'lbfgs', large # of max iteration, and auto multi-class\n",
    "lr = LogisticRegression(solver='lbfgs', max_iter=10000, multi_class='auto')\n",
    "# fit the model to the training data\n",
    "lr.fit(trainX, trainy.ravel())\n",
    "\n",
    "# predict train y values and test y values\n",
    "lr_train_pred_y = lr.predict(trainX)\n",
    "lr_test_pred_y = lr.predict(testX)\n",
    "\n",
    "# evaluate classifier performance on test and train pred_y\n",
    "print(color.BOLD + 'Classification report on lr_train_pred_y:' + color.END)\n",
    "print(classification_report(trainy.ravel(), lr_train_pred_y))\n",
    "print(color.BOLD + 'Classification report on lr_test_pred_y:' + color.END)\n",
    "print(classification_report(testy.ravel(), lr_test_pred_y))"
   ]
  },
  {
   "cell_type": "markdown",
   "metadata": {},
   "source": [
    "Tested K nearest neighbors classifier on data"
   ]
  },
  {
   "cell_type": "code",
   "execution_count": 8,
   "metadata": {},
   "outputs": [
    {
     "name": "stdout",
     "output_type": "stream",
     "text": [
      "\u001b[1mClassification report on knn_train_pred_y:\u001b[0m\n",
      "              precision    recall  f1-score   support\n",
      "\n",
      "           1       1.00      1.00      1.00      1226\n",
      "           2       1.00      1.00      1.00      1073\n",
      "           3       1.00      0.99      1.00       986\n",
      "           4       0.97      0.93      0.95      1286\n",
      "           5       0.94      0.97      0.96      1374\n",
      "           6       1.00      1.00      1.00      1407\n",
      "\n",
      "    accuracy                           0.98      7352\n",
      "   macro avg       0.98      0.98      0.98      7352\n",
      "weighted avg       0.98      0.98      0.98      7352\n",
      "\n",
      "\u001b[1mClassification report on knn_test_pred_y:\u001b[0m\n",
      "              precision    recall  f1-score   support\n",
      "\n",
      "           1       0.84      0.97      0.90       496\n",
      "           2       0.90      0.90      0.90       471\n",
      "           3       0.95      0.79      0.86       420\n",
      "           4       0.91      0.80      0.85       491\n",
      "           5       0.84      0.93      0.89       532\n",
      "           6       1.00      0.99      1.00       537\n",
      "\n",
      "    accuracy                           0.90      2947\n",
      "   macro avg       0.91      0.90      0.90      2947\n",
      "weighted avg       0.91      0.90      0.90      2947\n",
      "\n"
     ]
    }
   ],
   "source": [
    "from sklearn.neighbors import KNeighborsClassifier\n",
    "\n",
    "# instantiate KNN classifier\n",
    "knn = KNeighborsClassifier(n_neighbors = 7)\n",
    "# fit the model to the training data\n",
    "knn.fit(trainX, trainy.ravel())\n",
    "\n",
    "# predict train y values and test y values\n",
    "knn_train_pred_y = knn.predict(trainX)\n",
    "knn_test_pred_y = knn.predict(testX)\n",
    "\n",
    "# evaluate classifier performance on test and train pred_y\n",
    "print(color.BOLD + 'Classification report on knn_train_pred_y:' + color.END)\n",
    "print(classification_report(trainy.ravel(), knn_train_pred_y))\n",
    "print(color.BOLD + 'Classification report on knn_test_pred_y:' + color.END)\n",
    "print(classification_report(testy.ravel(), knn_test_pred_y))"
   ]
  },
  {
   "cell_type": "markdown",
   "metadata": {},
   "source": [
    "One vs rest classifier"
   ]
  },
  {
   "cell_type": "code",
   "execution_count": 9,
   "metadata": {},
   "outputs": [],
   "source": [
    "from sklearn.preprocessing import label_binarize\n",
    "from sklearn import svm\n",
    "from sklearn.multiclass import OneVsRestClassifier\n",
    "\n",
    "# Binarize the output\n",
    "trainy_bin = label_binarize(trainy, classes=[1,2,3,4,5,6])\n",
    "testy_bin = label_binarize(testy, classes=[1,2,3,4,5,6])\n",
    "# now we have one binary column for each class instead of one column with many class names\n",
    "\n",
    "# instantiate one vs rest classifier\n",
    "ovr = OneVsRestClassifier(svm.SVC(kernel='linear', probability=True))\n",
    "# Learn to predict each class against the other\n",
    "y_score = ovr.fit(trainX, trainy_bin).decision_function(testX)"
   ]
  },
  {
   "cell_type": "markdown",
   "metadata": {},
   "source": [
    "Just to check shape of binarized y values for train and test datasets"
   ]
  },
  {
   "cell_type": "code",
   "execution_count": 10,
   "metadata": {},
   "outputs": [
    {
     "name": "stdout",
     "output_type": "stream",
     "text": [
      "6\n",
      "6\n"
     ]
    }
   ],
   "source": [
    "print(trainy_bin.shape[1])\n",
    "print(testy_bin.shape[1])"
   ]
  },
  {
   "cell_type": "markdown",
   "metadata": {},
   "source": [
    "Evaluate one vs rest classifier with ROC curve and precision-recall curve"
   ]
  },
  {
   "cell_type": "code",
   "execution_count": 11,
   "metadata": {},
   "outputs": [],
   "source": [
    "from sklearn.metrics import roc_curve, auc, precision_recall_curve, average_precision_score\n",
    "\n",
    "# get number of unique classes\n",
    "n_classes = trainy_bin.shape[1]\n",
    "\n",
    "# Compute ROC curve and ROC area for each class\n",
    "fpr = {}\n",
    "tpr = {}\n",
    "roc_auc = {}\n",
    "\n",
    "precision = {}\n",
    "recall = {}\n",
    "pr_auc = {}\n",
    "\n",
    "# we calculate 10 curves, one for each class\n",
    "for i in range(n_classes):\n",
    "    # ROC:\n",
    "    fpr[i], tpr[i], _ = roc_curve(testy_bin[:, i], y_score[:, i])\n",
    "    roc_auc[i] = auc(fpr[i], tpr[i])\n",
    "\n",
    "    # Precision-recall:\n",
    "    precision[i], recall[i], _ = precision_recall_curve(testy_bin[:, i], y_score[:, i])\n",
    "    pr_auc[i] = average_precision_score(testy_bin[:, i], y_score[:, i])"
   ]
  },
  {
   "cell_type": "markdown",
   "metadata": {},
   "source": [
    "ROC curve for activity #0 (walking)"
   ]
  },
  {
   "cell_type": "code",
   "execution_count": 12,
   "metadata": {},
   "outputs": [
    {
     "data": {
      "image/png": "[encoded data removed]",
      "text/plain": [
       "<Figure size 288x288 with 1 Axes>"
      ]
     },
     "metadata": {
      "needs_background": "light"
     },
     "output_type": "display_data"
    }
   ],
   "source": [
    "activity = 0\n",
    "\n",
    "plt.figure(figsize=(4,4))\n",
    "plt.plot(fpr[activity], tpr[activity], color='darkorange',\n",
    "         lw=2, label='ROC curve (area = %0.2f)' % roc_auc[activity])\n",
    "plt.plot([0, 1], [0, 1], color='navy', lw=2, linestyle='--')\n",
    "plt.xlim([0.0, 1.0])\n",
    "plt.ylim([0.0, 1.05])\n",
    "plt.xlabel('False Positive Rate (1 - Sensitivity)')\n",
    "plt.ylabel('True Positive Rate (Specificity)')\n",
    "plt.title('Receiver operating characteristic for activity ' + str(activity))\n",
    "plt.legend(loc=\"lower right\")\n",
    "plt.show()"
   ]
  },
  {
   "cell_type": "markdown",
   "metadata": {},
   "source": [
    "Precision-recall curve for activity #0 (walking)"
   ]
  },
  {
   "cell_type": "code",
   "execution_count": 13,
   "metadata": {},
   "outputs": [
    {
     "data": {
      "image/png": "[encoded data removed]",
      "text/plain": [
       "<Figure size 288x288 with 1 Axes>"
      ]
     },
     "metadata": {
      "needs_background": "light"
     },
     "output_type": "display_data"
    }
   ],
   "source": [
    "# Plot only one Precision-Recall curve for selected class\n",
    "activity = 0\n",
    "\n",
    "plt.figure(figsize=(4,4))\n",
    "plt.plot(recall[activity], precision[activity], color='green',\n",
    "         lw=2, label='PR curve (area = %0.2f)' % pr_auc[activity])\n",
    "plt.xlim([0.0, 1.0])\n",
    "plt.ylim([0.0, 1.05])\n",
    "plt.xlabel('Recall')\n",
    "plt.ylabel('Precision')\n",
    "plt.title('Precision-Recall for activity ' + str(activity))\n",
    "plt.legend(loc=\"lower right\")\n",
    "plt.show()"
   ]
  },
  {
   "cell_type": "markdown",
   "metadata": {},
   "source": [
    "One vs rest classifier take 2"
   ]
  },
  {
   "cell_type": "code",
   "execution_count": 14,
   "metadata": {},
   "outputs": [],
   "source": [
    "# instantiate one vs rest classifier\n",
    "ovr1 = OneVsRestClassifier(svm.SVC(kernel='linear', probability=True))\n",
    "# Learn to predict each class against the other\n",
    "ovr1.fit(trainX, trainy.ravel())\n",
    "\n",
    "# predict train y values and test y values\n",
    "ovr1_train_predy = ovr1.predict(trainX)\n",
    "ovr1_test_predy = ovr1.predict(testX)"
   ]
  },
  {
   "cell_type": "code",
   "execution_count": 15,
   "metadata": {},
   "outputs": [
    {
     "data": {
      "text/plain": [
       "array([[496,   0,   0,   0,   0,   0],\n",
       "       [ 19, 451,   1,   0,   0,   0],\n",
       "       [  3,   5, 412,   0,   0,   0],\n",
       "       [  0,   4,   0, 427,  59,   1],\n",
       "       [  1,   0,   0,  11, 520,   0],\n",
       "       [  0,   0,   0,   0,   0, 537]])"
      ]
     },
     "execution_count": 15,
     "metadata": {},
     "output_type": "execute_result"
    }
   ],
   "source": [
    "from sklearn.metrics import confusion_matrix\n",
    "confusion_matrix(testy, ovr1_test_predy)"
   ]
  },
  {
   "cell_type": "markdown",
   "metadata": {},
   "source": [
    "Classification report for one vs rest classifier"
   ]
  },
  {
   "cell_type": "code",
   "execution_count": 16,
   "metadata": {},
   "outputs": [
    {
     "name": "stdout",
     "output_type": "stream",
     "text": [
      "\u001b[1mClassification report on ovr1_train_pred_y:\u001b[0m\n",
      "              precision    recall  f1-score   support\n",
      "\n",
      "           1       1.00      1.00      1.00      1226\n",
      "           2       1.00      1.00      1.00      1073\n",
      "           3       1.00      1.00      1.00       986\n",
      "           4       0.98      0.98      0.98      1286\n",
      "           5       0.98      0.98      0.98      1374\n",
      "           6       1.00      1.00      1.00      1407\n",
      "\n",
      "    accuracy                           0.99      7352\n",
      "   macro avg       0.99      0.99      0.99      7352\n",
      "weighted avg       0.99      0.99      0.99      7352\n",
      "\n",
      "\u001b[1mClassification report on ovr1_test_pred_y:\u001b[0m\n",
      "              precision    recall  f1-score   support\n",
      "\n",
      "           1       0.96      1.00      0.98       496\n",
      "           2       0.98      0.96      0.97       471\n",
      "           3       1.00      0.98      0.99       420\n",
      "           4       0.97      0.87      0.92       491\n",
      "           5       0.90      0.98      0.94       532\n",
      "           6       1.00      1.00      1.00       537\n",
      "\n",
      "    accuracy                           0.96      2947\n",
      "   macro avg       0.97      0.96      0.96      2947\n",
      "weighted avg       0.97      0.96      0.96      2947\n",
      "\n"
     ]
    }
   ],
   "source": [
    "# evaluate classifier performance on test and train pred_y\n",
    "print(color.BOLD + 'Classification report on ovr1_train_pred_y:' + color.END)\n",
    "print(classification_report(trainy.ravel(), ovr1_train_predy))\n",
    "print(color.BOLD + 'Classification report on ovr1_test_pred_y:' + color.END)\n",
    "print(classification_report(testy.ravel(), ovr1_test_predy))"
   ]
  },
  {
   "cell_type": "markdown",
   "metadata": {},
   "source": [
    "Although here we have a balanced dataset with approx. equal support for each class, note the micro and macro averaging techniques:\n",
    "\n",
    "**\"macro\"** simply calculates the mean of the binary metrics, giving equal weight to each class. In problems where infrequent classes are nonetheless important, macro-averaging may be a means of highlighting their performance. On the other hand, the assumption that all classes are equally important is often untrue, such that macro-averaging will over-emphasize the typically low performance on an infrequent class.\n",
    "\n",
    "\n",
    "**\"weighted\"** accounts for class imbalance by computing the average of binary metrics in which each class’s score is weighted by its presence in the true data sample.\n",
    "\n",
    "\n",
    "**\"micro\"** gives each sample-class pair an equal contribution to the overall metric (except as a result of sample-weight). Rather than summing the metric per class, this sums the dividends and divisors that make up the per-class metrics to calculate an overall quotient. Micro-averaging may be preferred in multilabel settings, including multiclass classification where a majority class is to be ignored."
   ]
  },
  {
   "cell_type": "markdown",
   "metadata": {},
   "source": [
    "Multinomial naive bays applied to multiclass problem. Evaluated with stratified K-fold cross-validation"
   ]
  },
  {
   "cell_type": "markdown",
   "metadata": {},
   "source": [
    "First combine test and train datasets"
   ]
  },
  {
   "cell_type": "code",
   "execution_count": 17,
   "metadata": {},
   "outputs": [
    {
     "name": "stdout",
     "output_type": "stream",
     "text": [
      "(10299,)\n",
      "(10299, 561)\n",
      "(10299,)\n"
     ]
    }
   ],
   "source": [
    "concat_sub_map = np.concatenate((train_sub_map, test_sub_map), axis=None)\n",
    "concat_X = np.concatenate((trainX, testX), axis=0)\n",
    "concat_y = np.concatenate((trainy, testy), axis=None)\n",
    "print(concat_sub_map.shape)\n",
    "print(concat_X.shape)\n",
    "print(concat_y.shape)"
   ]
  },
  {
   "cell_type": "code",
   "execution_count": 18,
   "metadata": {},
   "outputs": [],
   "source": [
    "from sklearn.model_selection import KFold, GridSearchCV\n",
    "from sklearn.ensemble import RandomForestRegressor"
   ]
  },
  {
   "cell_type": "code",
   "execution_count": 19,
   "metadata": {},
   "outputs": [],
   "source": [
    "# Instantiate k fold cross-validator \n",
    "kf = KFold(n_splits=5, shuffle=True, random_state=42)\n",
    "# Instantiate RF regressor \n",
    "rf = RandomForestRegressor()"
   ]
  },
  {
   "cell_type": "markdown",
   "metadata": {},
   "source": [
    "Changing min_samples_leaf and min_samples_split doesn't change much. Even changing n_estimators doesn't change much. Changing max_depth changes a lot though."
   ]
  },
  {
   "cell_type": "code",
   "execution_count": 27,
   "metadata": {},
   "outputs": [
    {
     "data": {
      "text/html": [
       "<style  type=\"text/css\" >\n",
       "    #T_31931c40_8d83_11ea_97c3_9810e8f290cbrow0_col0 {\n",
       "            background-color:  #09000b;\n",
       "            color:  #f1f1f1;\n",
       "        }    #T_31931c40_8d83_11ea_97c3_9810e8f290cbrow0_col1 {\n",
       "            background-color:  #000000;\n",
       "            color:  #f1f1f1;\n",
       "        }    #T_31931c40_8d83_11ea_97c3_9810e8f290cbrow0_col2 {\n",
       "            background-color:  #09000b;\n",
       "            color:  #f1f1f1;\n",
       "        }    #T_31931c40_8d83_11ea_97c3_9810e8f290cbrow0_col3 {\n",
       "            background-color:  #09000b;\n",
       "            color:  #f1f1f1;\n",
       "        }    #T_31931c40_8d83_11ea_97c3_9810e8f290cbrow0_col4 {\n",
       "            background-color:  #09000b;\n",
       "            color:  #f1f1f1;\n",
       "        }    #T_31931c40_8d83_11ea_97c3_9810e8f290cbrow0_col5 {\n",
       "            background-color:  #130015;\n",
       "            color:  #f1f1f1;\n",
       "        }    #T_31931c40_8d83_11ea_97c3_9810e8f290cbrow0_col6 {\n",
       "            background-color:  #09000b;\n",
       "            color:  #f1f1f1;\n",
       "        }    #T_31931c40_8d83_11ea_97c3_9810e8f290cbrow0_col7 {\n",
       "            background-color:  #09000b;\n",
       "            color:  #f1f1f1;\n",
       "        }    #T_31931c40_8d83_11ea_97c3_9810e8f290cbrow0_col8 {\n",
       "            background-color:  #09000b;\n",
       "            color:  #f1f1f1;\n",
       "        }    #T_31931c40_8d83_11ea_97c3_9810e8f290cbrow1_col0 {\n",
       "            background-color:  #09000b;\n",
       "            color:  #f1f1f1;\n",
       "        }    #T_31931c40_8d83_11ea_97c3_9810e8f290cbrow1_col1 {\n",
       "            background-color:  #09000b;\n",
       "            color:  #f1f1f1;\n",
       "        }    #T_31931c40_8d83_11ea_97c3_9810e8f290cbrow1_col2 {\n",
       "            background-color:  #130015;\n",
       "            color:  #f1f1f1;\n",
       "        }    #T_31931c40_8d83_11ea_97c3_9810e8f290cbrow1_col3 {\n",
       "            background-color:  #09000b;\n",
       "            color:  #f1f1f1;\n",
       "        }    #T_31931c40_8d83_11ea_97c3_9810e8f290cbrow1_col4 {\n",
       "            background-color:  #09000b;\n",
       "            color:  #f1f1f1;\n",
       "        }    #T_31931c40_8d83_11ea_97c3_9810e8f290cbrow1_col5 {\n",
       "            background-color:  #09000b;\n",
       "            color:  #f1f1f1;\n",
       "        }    #T_31931c40_8d83_11ea_97c3_9810e8f290cbrow1_col6 {\n",
       "            background-color:  #09000b;\n",
       "            color:  #f1f1f1;\n",
       "        }    #T_31931c40_8d83_11ea_97c3_9810e8f290cbrow1_col7 {\n",
       "            background-color:  #09000b;\n",
       "            color:  #f1f1f1;\n",
       "        }    #T_31931c40_8d83_11ea_97c3_9810e8f290cbrow1_col8 {\n",
       "            background-color:  #09000b;\n",
       "            color:  #f1f1f1;\n",
       "        }    #T_31931c40_8d83_11ea_97c3_9810e8f290cbrow2_col0 {\n",
       "            background-color:  #130015;\n",
       "            color:  #f1f1f1;\n",
       "        }    #T_31931c40_8d83_11ea_97c3_9810e8f290cbrow2_col1 {\n",
       "            background-color:  #09000b;\n",
       "            color:  #f1f1f1;\n",
       "        }    #T_31931c40_8d83_11ea_97c3_9810e8f290cbrow2_col2 {\n",
       "            background-color:  #09000b;\n",
       "            color:  #f1f1f1;\n",
       "        }    #T_31931c40_8d83_11ea_97c3_9810e8f290cbrow2_col3 {\n",
       "            background-color:  #000000;\n",
       "            color:  #f1f1f1;\n",
       "        }    #T_31931c40_8d83_11ea_97c3_9810e8f290cbrow2_col4 {\n",
       "            background-color:  #09000b;\n",
       "            color:  #f1f1f1;\n",
       "        }    #T_31931c40_8d83_11ea_97c3_9810e8f290cbrow2_col5 {\n",
       "            background-color:  #09000b;\n",
       "            color:  #f1f1f1;\n",
       "        }    #T_31931c40_8d83_11ea_97c3_9810e8f290cbrow2_col6 {\n",
       "            background-color:  #130015;\n",
       "            color:  #f1f1f1;\n",
       "        }    #T_31931c40_8d83_11ea_97c3_9810e8f290cbrow2_col7 {\n",
       "            background-color:  #09000b;\n",
       "            color:  #f1f1f1;\n",
       "        }    #T_31931c40_8d83_11ea_97c3_9810e8f290cbrow2_col8 {\n",
       "            background-color:  #09000b;\n",
       "            color:  #f1f1f1;\n",
       "        }    #T_31931c40_8d83_11ea_97c3_9810e8f290cbrow3_col0 {\n",
       "            background-color:  #ff8d00;\n",
       "            color:  #000000;\n",
       "        }    #T_31931c40_8d83_11ea_97c3_9810e8f290cbrow3_col1 {\n",
       "            background-color:  #ff9900;\n",
       "            color:  #000000;\n",
       "        }    #T_31931c40_8d83_11ea_97c3_9810e8f290cbrow3_col2 {\n",
       "            background-color:  #ff9900;\n",
       "            color:  #000000;\n",
       "        }    #T_31931c40_8d83_11ea_97c3_9810e8f290cbrow3_col3 {\n",
       "            background-color:  #ff8d00;\n",
       "            color:  #000000;\n",
       "        }    #T_31931c40_8d83_11ea_97c3_9810e8f290cbrow3_col4 {\n",
       "            background-color:  #ff7500;\n",
       "            color:  #000000;\n",
       "        }    #T_31931c40_8d83_11ea_97c3_9810e8f290cbrow3_col5 {\n",
       "            background-color:  #ff8d00;\n",
       "            color:  #000000;\n",
       "        }    #T_31931c40_8d83_11ea_97c3_9810e8f290cbrow3_col6 {\n",
       "            background-color:  #ff7500;\n",
       "            color:  #000000;\n",
       "        }    #T_31931c40_8d83_11ea_97c3_9810e8f290cbrow3_col7 {\n",
       "            background-color:  #ff8d00;\n",
       "            color:  #000000;\n",
       "        }    #T_31931c40_8d83_11ea_97c3_9810e8f290cbrow3_col8 {\n",
       "            background-color:  #ff8d00;\n",
       "            color:  #000000;\n",
       "        }    #T_31931c40_8d83_11ea_97c3_9810e8f290cbrow4_col0 {\n",
       "            background-color:  #ff8d00;\n",
       "            color:  #000000;\n",
       "        }    #T_31931c40_8d83_11ea_97c3_9810e8f290cbrow4_col1 {\n",
       "            background-color:  #ffa100;\n",
       "            color:  #000000;\n",
       "        }    #T_31931c40_8d83_11ea_97c3_9810e8f290cbrow4_col2 {\n",
       "            background-color:  #ff9900;\n",
       "            color:  #000000;\n",
       "        }    #T_31931c40_8d83_11ea_97c3_9810e8f290cbrow4_col3 {\n",
       "            background-color:  #ff9900;\n",
       "            color:  #000000;\n",
       "        }    #T_31931c40_8d83_11ea_97c3_9810e8f290cbrow4_col4 {\n",
       "            background-color:  #ff8d00;\n",
       "            color:  #000000;\n",
       "        }    #T_31931c40_8d83_11ea_97c3_9810e8f290cbrow4_col5 {\n",
       "            background-color:  #ff8d00;\n",
       "            color:  #000000;\n",
       "        }    #T_31931c40_8d83_11ea_97c3_9810e8f290cbrow4_col6 {\n",
       "            background-color:  #ff8d00;\n",
       "            color:  #000000;\n",
       "        }    #T_31931c40_8d83_11ea_97c3_9810e8f290cbrow4_col7 {\n",
       "            background-color:  #ff9900;\n",
       "            color:  #000000;\n",
       "        }    #T_31931c40_8d83_11ea_97c3_9810e8f290cbrow4_col8 {\n",
       "            background-color:  #ff8d00;\n",
       "            color:  #000000;\n",
       "        }    #T_31931c40_8d83_11ea_97c3_9810e8f290cbrow5_col0 {\n",
       "            background-color:  #ff8d00;\n",
       "            color:  #000000;\n",
       "        }    #T_31931c40_8d83_11ea_97c3_9810e8f290cbrow5_col1 {\n",
       "            background-color:  #ffa100;\n",
       "            color:  #000000;\n",
       "        }    #T_31931c40_8d83_11ea_97c3_9810e8f290cbrow5_col2 {\n",
       "            background-color:  #ff9900;\n",
       "            color:  #000000;\n",
       "        }    #T_31931c40_8d83_11ea_97c3_9810e8f290cbrow5_col3 {\n",
       "            background-color:  #ff9900;\n",
       "            color:  #000000;\n",
       "        }    #T_31931c40_8d83_11ea_97c3_9810e8f290cbrow5_col4 {\n",
       "            background-color:  #ff9900;\n",
       "            color:  #000000;\n",
       "        }    #T_31931c40_8d83_11ea_97c3_9810e8f290cbrow5_col5 {\n",
       "            background-color:  #ff9900;\n",
       "            color:  #000000;\n",
       "        }    #T_31931c40_8d83_11ea_97c3_9810e8f290cbrow5_col6 {\n",
       "            background-color:  #ff8d00;\n",
       "            color:  #000000;\n",
       "        }    #T_31931c40_8d83_11ea_97c3_9810e8f290cbrow5_col7 {\n",
       "            background-color:  #ff9900;\n",
       "            color:  #000000;\n",
       "        }    #T_31931c40_8d83_11ea_97c3_9810e8f290cbrow5_col8 {\n",
       "            background-color:  #ffa100;\n",
       "            color:  #000000;\n",
       "        }    #T_31931c40_8d83_11ea_97c3_9810e8f290cbrow6_col0 {\n",
       "            background-color:  #ccbcbc;\n",
       "            color:  #000000;\n",
       "        }    #T_31931c40_8d83_11ea_97c3_9810e8f290cbrow6_col1 {\n",
       "            background-color:  #ccbcbc;\n",
       "            color:  #000000;\n",
       "        }    #T_31931c40_8d83_11ea_97c3_9810e8f290cbrow6_col2 {\n",
       "            background-color:  #ccacac;\n",
       "            color:  #000000;\n",
       "        }    #T_31931c40_8d83_11ea_97c3_9810e8f290cbrow6_col3 {\n",
       "            background-color:  #ccbcbc;\n",
       "            color:  #000000;\n",
       "        }    #T_31931c40_8d83_11ea_97c3_9810e8f290cbrow6_col4 {\n",
       "            background-color:  #cccccc;\n",
       "            color:  #000000;\n",
       "        }    #T_31931c40_8d83_11ea_97c3_9810e8f290cbrow6_col5 {\n",
       "            background-color:  #ccbcbc;\n",
       "            color:  #000000;\n",
       "        }    #T_31931c40_8d83_11ea_97c3_9810e8f290cbrow6_col6 {\n",
       "            background-color:  #cccccc;\n",
       "            color:  #000000;\n",
       "        }    #T_31931c40_8d83_11ea_97c3_9810e8f290cbrow6_col7 {\n",
       "            background-color:  #cccccc;\n",
       "            color:  #000000;\n",
       "        }    #T_31931c40_8d83_11ea_97c3_9810e8f290cbrow6_col8 {\n",
       "            background-color:  #ccbcbc;\n",
       "            color:  #000000;\n",
       "        }    #T_31931c40_8d83_11ea_97c3_9810e8f290cbrow7_col0 {\n",
       "            background-color:  #ccacac;\n",
       "            color:  #000000;\n",
       "        }    #T_31931c40_8d83_11ea_97c3_9810e8f290cbrow7_col1 {\n",
       "            background-color:  #ccbcbc;\n",
       "            color:  #000000;\n",
       "        }    #T_31931c40_8d83_11ea_97c3_9810e8f290cbrow7_col2 {\n",
       "            background-color:  #ccacac;\n",
       "            color:  #000000;\n",
       "        }    #T_31931c40_8d83_11ea_97c3_9810e8f290cbrow7_col3 {\n",
       "            background-color:  #ccbcbc;\n",
       "            color:  #000000;\n",
       "        }    #T_31931c40_8d83_11ea_97c3_9810e8f290cbrow7_col4 {\n",
       "            background-color:  #ccbcbc;\n",
       "            color:  #000000;\n",
       "        }    #T_31931c40_8d83_11ea_97c3_9810e8f290cbrow7_col5 {\n",
       "            background-color:  #ccbcbc;\n",
       "            color:  #000000;\n",
       "        }    #T_31931c40_8d83_11ea_97c3_9810e8f290cbrow7_col6 {\n",
       "            background-color:  #cccccc;\n",
       "            color:  #000000;\n",
       "        }    #T_31931c40_8d83_11ea_97c3_9810e8f290cbrow7_col7 {\n",
       "            background-color:  #cccccc;\n",
       "            color:  #000000;\n",
       "        }    #T_31931c40_8d83_11ea_97c3_9810e8f290cbrow7_col8 {\n",
       "            background-color:  #ccbcbc;\n",
       "            color:  #000000;\n",
       "        }    #T_31931c40_8d83_11ea_97c3_9810e8f290cbrow8_col0 {\n",
       "            background-color:  #ccacac;\n",
       "            color:  #000000;\n",
       "        }    #T_31931c40_8d83_11ea_97c3_9810e8f290cbrow8_col1 {\n",
       "            background-color:  #ccacac;\n",
       "            color:  #000000;\n",
       "        }    #T_31931c40_8d83_11ea_97c3_9810e8f290cbrow8_col2 {\n",
       "            background-color:  #ccbcbc;\n",
       "            color:  #000000;\n",
       "        }    #T_31931c40_8d83_11ea_97c3_9810e8f290cbrow8_col3 {\n",
       "            background-color:  #cccccc;\n",
       "            color:  #000000;\n",
       "        }    #T_31931c40_8d83_11ea_97c3_9810e8f290cbrow8_col4 {\n",
       "            background-color:  #ccacac;\n",
       "            color:  #000000;\n",
       "        }    #T_31931c40_8d83_11ea_97c3_9810e8f290cbrow8_col5 {\n",
       "            background-color:  #ccbcbc;\n",
       "            color:  #000000;\n",
       "        }    #T_31931c40_8d83_11ea_97c3_9810e8f290cbrow8_col6 {\n",
       "            background-color:  #cccccc;\n",
       "            color:  #000000;\n",
       "        }    #T_31931c40_8d83_11ea_97c3_9810e8f290cbrow8_col7 {\n",
       "            background-color:  #cccccc;\n",
       "            color:  #000000;\n",
       "        }    #T_31931c40_8d83_11ea_97c3_9810e8f290cbrow8_col8 {\n",
       "            background-color:  #cccccc;\n",
       "            color:  #000000;\n",
       "        }</style><table id=\"T_31931c40_8d83_11ea_97c3_9810e8f290cb\" ><thead>    <tr>        <th class=\"blank\" ></th>        <th class=\"index_name level0\" >param_n_estimators</th>        <th class=\"col_heading level0 col0\" colspan=3>2</th>        <th class=\"col_heading level0 col3\" colspan=3>3</th>        <th class=\"col_heading level0 col6\" colspan=3>4</th>    </tr>    <tr>        <th class=\"blank\" ></th>        <th class=\"index_name level1\" >param_min_samples_split</th>        <th class=\"col_heading level1 col0\" >2</th>        <th class=\"col_heading level1 col1\" >3</th>        <th class=\"col_heading level1 col2\" >4</th>        <th class=\"col_heading level1 col3\" >2</th>        <th class=\"col_heading level1 col4\" >3</th>        <th class=\"col_heading level1 col5\" >4</th>        <th class=\"col_heading level1 col6\" >2</th>        <th class=\"col_heading level1 col7\" >3</th>        <th class=\"col_heading level1 col8\" >4</th>    </tr>    <tr>        <th class=\"index_name level0\" >param_max_depth</th>        <th class=\"index_name level1\" >param_min_samples_leaf</th>        <th class=\"blank\" ></th>        <th class=\"blank\" ></th>        <th class=\"blank\" ></th>        <th class=\"blank\" ></th>        <th class=\"blank\" ></th>        <th class=\"blank\" ></th>        <th class=\"blank\" ></th>        <th class=\"blank\" ></th>        <th class=\"blank\" ></th>    </tr></thead><tbody>\n",
       "                <tr>\n",
       "                        <th id=\"T_31931c40_8d83_11ea_97c3_9810e8f290cblevel0_row0\" class=\"row_heading level0 row0\" rowspan=3>1</th>\n",
       "                        <th id=\"T_31931c40_8d83_11ea_97c3_9810e8f290cblevel1_row0\" class=\"row_heading level1 row0\" >1</th>\n",
       "                        <td id=\"T_31931c40_8d83_11ea_97c3_9810e8f290cbrow0_col0\" class=\"data row0 col0\" >0.78</td>\n",
       "                        <td id=\"T_31931c40_8d83_11ea_97c3_9810e8f290cbrow0_col1\" class=\"data row0 col1\" >0.779</td>\n",
       "                        <td id=\"T_31931c40_8d83_11ea_97c3_9810e8f290cbrow0_col2\" class=\"data row0 col2\" >0.78</td>\n",
       "                        <td id=\"T_31931c40_8d83_11ea_97c3_9810e8f290cbrow0_col3\" class=\"data row0 col3\" >0.78</td>\n",
       "                        <td id=\"T_31931c40_8d83_11ea_97c3_9810e8f290cbrow0_col4\" class=\"data row0 col4\" >0.78</td>\n",
       "                        <td id=\"T_31931c40_8d83_11ea_97c3_9810e8f290cbrow0_col5\" class=\"data row0 col5\" >0.781</td>\n",
       "                        <td id=\"T_31931c40_8d83_11ea_97c3_9810e8f290cbrow0_col6\" class=\"data row0 col6\" >0.78</td>\n",
       "                        <td id=\"T_31931c40_8d83_11ea_97c3_9810e8f290cbrow0_col7\" class=\"data row0 col7\" >0.78</td>\n",
       "                        <td id=\"T_31931c40_8d83_11ea_97c3_9810e8f290cbrow0_col8\" class=\"data row0 col8\" >0.78</td>\n",
       "            </tr>\n",
       "            <tr>\n",
       "                                <th id=\"T_31931c40_8d83_11ea_97c3_9810e8f290cblevel1_row1\" class=\"row_heading level1 row1\" >2</th>\n",
       "                        <td id=\"T_31931c40_8d83_11ea_97c3_9810e8f290cbrow1_col0\" class=\"data row1 col0\" >0.78</td>\n",
       "                        <td id=\"T_31931c40_8d83_11ea_97c3_9810e8f290cbrow1_col1\" class=\"data row1 col1\" >0.78</td>\n",
       "                        <td id=\"T_31931c40_8d83_11ea_97c3_9810e8f290cbrow1_col2\" class=\"data row1 col2\" >0.781</td>\n",
       "                        <td id=\"T_31931c40_8d83_11ea_97c3_9810e8f290cbrow1_col3\" class=\"data row1 col3\" >0.78</td>\n",
       "                        <td id=\"T_31931c40_8d83_11ea_97c3_9810e8f290cbrow1_col4\" class=\"data row1 col4\" >0.78</td>\n",
       "                        <td id=\"T_31931c40_8d83_11ea_97c3_9810e8f290cbrow1_col5\" class=\"data row1 col5\" >0.78</td>\n",
       "                        <td id=\"T_31931c40_8d83_11ea_97c3_9810e8f290cbrow1_col6\" class=\"data row1 col6\" >0.78</td>\n",
       "                        <td id=\"T_31931c40_8d83_11ea_97c3_9810e8f290cbrow1_col7\" class=\"data row1 col7\" >0.78</td>\n",
       "                        <td id=\"T_31931c40_8d83_11ea_97c3_9810e8f290cbrow1_col8\" class=\"data row1 col8\" >0.78</td>\n",
       "            </tr>\n",
       "            <tr>\n",
       "                                <th id=\"T_31931c40_8d83_11ea_97c3_9810e8f290cblevel1_row2\" class=\"row_heading level1 row2\" >3</th>\n",
       "                        <td id=\"T_31931c40_8d83_11ea_97c3_9810e8f290cbrow2_col0\" class=\"data row2 col0\" >0.781</td>\n",
       "                        <td id=\"T_31931c40_8d83_11ea_97c3_9810e8f290cbrow2_col1\" class=\"data row2 col1\" >0.78</td>\n",
       "                        <td id=\"T_31931c40_8d83_11ea_97c3_9810e8f290cbrow2_col2\" class=\"data row2 col2\" >0.78</td>\n",
       "                        <td id=\"T_31931c40_8d83_11ea_97c3_9810e8f290cbrow2_col3\" class=\"data row2 col3\" >0.779</td>\n",
       "                        <td id=\"T_31931c40_8d83_11ea_97c3_9810e8f290cbrow2_col4\" class=\"data row2 col4\" >0.78</td>\n",
       "                        <td id=\"T_31931c40_8d83_11ea_97c3_9810e8f290cbrow2_col5\" class=\"data row2 col5\" >0.78</td>\n",
       "                        <td id=\"T_31931c40_8d83_11ea_97c3_9810e8f290cbrow2_col6\" class=\"data row2 col6\" >0.781</td>\n",
       "                        <td id=\"T_31931c40_8d83_11ea_97c3_9810e8f290cbrow2_col7\" class=\"data row2 col7\" >0.78</td>\n",
       "                        <td id=\"T_31931c40_8d83_11ea_97c3_9810e8f290cbrow2_col8\" class=\"data row2 col8\" >0.78</td>\n",
       "            </tr>\n",
       "            <tr>\n",
       "                        <th id=\"T_31931c40_8d83_11ea_97c3_9810e8f290cblevel0_row3\" class=\"row_heading level0 row3\" rowspan=3>2</th>\n",
       "                        <th id=\"T_31931c40_8d83_11ea_97c3_9810e8f290cblevel1_row3\" class=\"row_heading level1 row3\" >1</th>\n",
       "                        <td id=\"T_31931c40_8d83_11ea_97c3_9810e8f290cbrow3_col0\" class=\"data row3 col0\" >0.922</td>\n",
       "                        <td id=\"T_31931c40_8d83_11ea_97c3_9810e8f290cbrow3_col1\" class=\"data row3 col1\" >0.921</td>\n",
       "                        <td id=\"T_31931c40_8d83_11ea_97c3_9810e8f290cbrow3_col2\" class=\"data row3 col2\" >0.921</td>\n",
       "                        <td id=\"T_31931c40_8d83_11ea_97c3_9810e8f290cbrow3_col3\" class=\"data row3 col3\" >0.922</td>\n",
       "                        <td id=\"T_31931c40_8d83_11ea_97c3_9810e8f290cbrow3_col4\" class=\"data row3 col4\" >0.923</td>\n",
       "                        <td id=\"T_31931c40_8d83_11ea_97c3_9810e8f290cbrow3_col5\" class=\"data row3 col5\" >0.922</td>\n",
       "                        <td id=\"T_31931c40_8d83_11ea_97c3_9810e8f290cbrow3_col6\" class=\"data row3 col6\" >0.923</td>\n",
       "                        <td id=\"T_31931c40_8d83_11ea_97c3_9810e8f290cbrow3_col7\" class=\"data row3 col7\" >0.922</td>\n",
       "                        <td id=\"T_31931c40_8d83_11ea_97c3_9810e8f290cbrow3_col8\" class=\"data row3 col8\" >0.922</td>\n",
       "            </tr>\n",
       "            <tr>\n",
       "                                <th id=\"T_31931c40_8d83_11ea_97c3_9810e8f290cblevel1_row4\" class=\"row_heading level1 row4\" >2</th>\n",
       "                        <td id=\"T_31931c40_8d83_11ea_97c3_9810e8f290cbrow4_col0\" class=\"data row4 col0\" >0.922</td>\n",
       "                        <td id=\"T_31931c40_8d83_11ea_97c3_9810e8f290cbrow4_col1\" class=\"data row4 col1\" >0.92</td>\n",
       "                        <td id=\"T_31931c40_8d83_11ea_97c3_9810e8f290cbrow4_col2\" class=\"data row4 col2\" >0.921</td>\n",
       "                        <td id=\"T_31931c40_8d83_11ea_97c3_9810e8f290cbrow4_col3\" class=\"data row4 col3\" >0.921</td>\n",
       "                        <td id=\"T_31931c40_8d83_11ea_97c3_9810e8f290cbrow4_col4\" class=\"data row4 col4\" >0.922</td>\n",
       "                        <td id=\"T_31931c40_8d83_11ea_97c3_9810e8f290cbrow4_col5\" class=\"data row4 col5\" >0.922</td>\n",
       "                        <td id=\"T_31931c40_8d83_11ea_97c3_9810e8f290cbrow4_col6\" class=\"data row4 col6\" >0.922</td>\n",
       "                        <td id=\"T_31931c40_8d83_11ea_97c3_9810e8f290cbrow4_col7\" class=\"data row4 col7\" >0.921</td>\n",
       "                        <td id=\"T_31931c40_8d83_11ea_97c3_9810e8f290cbrow4_col8\" class=\"data row4 col8\" >0.922</td>\n",
       "            </tr>\n",
       "            <tr>\n",
       "                                <th id=\"T_31931c40_8d83_11ea_97c3_9810e8f290cblevel1_row5\" class=\"row_heading level1 row5\" >3</th>\n",
       "                        <td id=\"T_31931c40_8d83_11ea_97c3_9810e8f290cbrow5_col0\" class=\"data row5 col0\" >0.922</td>\n",
       "                        <td id=\"T_31931c40_8d83_11ea_97c3_9810e8f290cbrow5_col1\" class=\"data row5 col1\" >0.92</td>\n",
       "                        <td id=\"T_31931c40_8d83_11ea_97c3_9810e8f290cbrow5_col2\" class=\"data row5 col2\" >0.921</td>\n",
       "                        <td id=\"T_31931c40_8d83_11ea_97c3_9810e8f290cbrow5_col3\" class=\"data row5 col3\" >0.921</td>\n",
       "                        <td id=\"T_31931c40_8d83_11ea_97c3_9810e8f290cbrow5_col4\" class=\"data row5 col4\" >0.921</td>\n",
       "                        <td id=\"T_31931c40_8d83_11ea_97c3_9810e8f290cbrow5_col5\" class=\"data row5 col5\" >0.921</td>\n",
       "                        <td id=\"T_31931c40_8d83_11ea_97c3_9810e8f290cbrow5_col6\" class=\"data row5 col6\" >0.922</td>\n",
       "                        <td id=\"T_31931c40_8d83_11ea_97c3_9810e8f290cbrow5_col7\" class=\"data row5 col7\" >0.921</td>\n",
       "                        <td id=\"T_31931c40_8d83_11ea_97c3_9810e8f290cbrow5_col8\" class=\"data row5 col8\" >0.92</td>\n",
       "            </tr>\n",
       "            <tr>\n",
       "                        <th id=\"T_31931c40_8d83_11ea_97c3_9810e8f290cblevel0_row6\" class=\"row_heading level0 row6\" rowspan=3>3</th>\n",
       "                        <th id=\"T_31931c40_8d83_11ea_97c3_9810e8f290cblevel1_row6\" class=\"row_heading level1 row6\" >1</th>\n",
       "                        <td id=\"T_31931c40_8d83_11ea_97c3_9810e8f290cbrow6_col0\" class=\"data row6 col0\" >0.956</td>\n",
       "                        <td id=\"T_31931c40_8d83_11ea_97c3_9810e8f290cbrow6_col1\" class=\"data row6 col1\" >0.956</td>\n",
       "                        <td id=\"T_31931c40_8d83_11ea_97c3_9810e8f290cbrow6_col2\" class=\"data row6 col2\" >0.955</td>\n",
       "                        <td id=\"T_31931c40_8d83_11ea_97c3_9810e8f290cbrow6_col3\" class=\"data row6 col3\" >0.956</td>\n",
       "                        <td id=\"T_31931c40_8d83_11ea_97c3_9810e8f290cbrow6_col4\" class=\"data row6 col4\" >0.957</td>\n",
       "                        <td id=\"T_31931c40_8d83_11ea_97c3_9810e8f290cbrow6_col5\" class=\"data row6 col5\" >0.956</td>\n",
       "                        <td id=\"T_31931c40_8d83_11ea_97c3_9810e8f290cbrow6_col6\" class=\"data row6 col6\" >0.957</td>\n",
       "                        <td id=\"T_31931c40_8d83_11ea_97c3_9810e8f290cbrow6_col7\" class=\"data row6 col7\" >0.957</td>\n",
       "                        <td id=\"T_31931c40_8d83_11ea_97c3_9810e8f290cbrow6_col8\" class=\"data row6 col8\" >0.956</td>\n",
       "            </tr>\n",
       "            <tr>\n",
       "                                <th id=\"T_31931c40_8d83_11ea_97c3_9810e8f290cblevel1_row7\" class=\"row_heading level1 row7\" >2</th>\n",
       "                        <td id=\"T_31931c40_8d83_11ea_97c3_9810e8f290cbrow7_col0\" class=\"data row7 col0\" >0.955</td>\n",
       "                        <td id=\"T_31931c40_8d83_11ea_97c3_9810e8f290cbrow7_col1\" class=\"data row7 col1\" >0.956</td>\n",
       "                        <td id=\"T_31931c40_8d83_11ea_97c3_9810e8f290cbrow7_col2\" class=\"data row7 col2\" >0.955</td>\n",
       "                        <td id=\"T_31931c40_8d83_11ea_97c3_9810e8f290cbrow7_col3\" class=\"data row7 col3\" >0.956</td>\n",
       "                        <td id=\"T_31931c40_8d83_11ea_97c3_9810e8f290cbrow7_col4\" class=\"data row7 col4\" >0.956</td>\n",
       "                        <td id=\"T_31931c40_8d83_11ea_97c3_9810e8f290cbrow7_col5\" class=\"data row7 col5\" >0.956</td>\n",
       "                        <td id=\"T_31931c40_8d83_11ea_97c3_9810e8f290cbrow7_col6\" class=\"data row7 col6\" >0.957</td>\n",
       "                        <td id=\"T_31931c40_8d83_11ea_97c3_9810e8f290cbrow7_col7\" class=\"data row7 col7\" >0.957</td>\n",
       "                        <td id=\"T_31931c40_8d83_11ea_97c3_9810e8f290cbrow7_col8\" class=\"data row7 col8\" >0.956</td>\n",
       "            </tr>\n",
       "            <tr>\n",
       "                                <th id=\"T_31931c40_8d83_11ea_97c3_9810e8f290cblevel1_row8\" class=\"row_heading level1 row8\" >3</th>\n",
       "                        <td id=\"T_31931c40_8d83_11ea_97c3_9810e8f290cbrow8_col0\" class=\"data row8 col0\" >0.955</td>\n",
       "                        <td id=\"T_31931c40_8d83_11ea_97c3_9810e8f290cbrow8_col1\" class=\"data row8 col1\" >0.955</td>\n",
       "                        <td id=\"T_31931c40_8d83_11ea_97c3_9810e8f290cbrow8_col2\" class=\"data row8 col2\" >0.956</td>\n",
       "                        <td id=\"T_31931c40_8d83_11ea_97c3_9810e8f290cbrow8_col3\" class=\"data row8 col3\" >0.957</td>\n",
       "                        <td id=\"T_31931c40_8d83_11ea_97c3_9810e8f290cbrow8_col4\" class=\"data row8 col4\" >0.955</td>\n",
       "                        <td id=\"T_31931c40_8d83_11ea_97c3_9810e8f290cbrow8_col5\" class=\"data row8 col5\" >0.956</td>\n",
       "                        <td id=\"T_31931c40_8d83_11ea_97c3_9810e8f290cbrow8_col6\" class=\"data row8 col6\" >0.957</td>\n",
       "                        <td id=\"T_31931c40_8d83_11ea_97c3_9810e8f290cbrow8_col7\" class=\"data row8 col7\" >0.957</td>\n",
       "                        <td id=\"T_31931c40_8d83_11ea_97c3_9810e8f290cbrow8_col8\" class=\"data row8 col8\" >0.957</td>\n",
       "            </tr>\n",
       "    </tbody></table>"
      ],
      "text/plain": [
       "<pandas.io.formats.style.Styler at 0x7fb8825d17f0>"
      ]
     },
     "execution_count": 27,
     "metadata": {},
     "output_type": "execute_result"
    }
   ],
   "source": [
    "# Instantiate grid search with 4 hyperparameters \n",
    "gscv = GridSearchCV(\n",
    "    rf, \n",
    "    {\"max_depth\": range(1, 4),\n",
    "     \"n_estimators\": range(2, 5), \n",
    "     \"min_samples_leaf\": range(1, 4),\n",
    "     \"min_samples_split\": range(2, 5)},\n",
    "    cv=kf, \n",
    "    n_jobs=-1\n",
    ")\n",
    "gscv.fit(concat_X, concat_y)\n",
    "\n",
    "# Get cross-validation data\n",
    "cv_df = pd.DataFrame(gscv.cv_results_)\n",
    "\n",
    "# Create a heatmap-style table, use df.pivot_table\n",
    "piv_df = cv_df.pivot_table(index=[\"param_max_depth\", \"param_min_samples_leaf\"],\n",
    "           columns=[\"param_n_estimators\", \"param_min_samples_split\"],\n",
    "           values=\"mean_test_score\").round(3)\n",
    "piv_df.style.background_gradient(cmap=\"nipy_spectral\", axis=None)"
   ]
  },
  {
   "cell_type": "markdown",
   "metadata": {},
   "source": [
    "Changing max_depth (levels of tree) improves classification score more than changing n_estimators (number of trees)"
   ]
  },
  {
   "cell_type": "code",
   "execution_count": 30,
   "metadata": {},
   "outputs": [
    {
     "name": "stderr",
     "output_type": "stream",
     "text": [
      "/Users/hayaw/anaconda3/lib/python3.7/site-packages/joblib/externals/loky/process_executor.py:706: UserWarning: A worker stopped while some jobs were given to the executor. This can be caused by a too short worker timeout or by a memory leak.\n",
      "  \"timeout or by a memory leak.\", UserWarning\n"
     ]
    },
    {
     "data": {
      "image/png": "[encoded data removed]",
      "text/plain": [
       "<Figure size 432x288 with 1 Axes>"
      ]
     },
     "metadata": {
      "needs_background": "light"
     },
     "output_type": "display_data"
    }
   ],
   "source": [
    "# rf and kf already instantiated\n",
    "\n",
    "# Instantiate grid search with 2 hyperparameters\n",
    "gscv1 = GridSearchCV(\n",
    "    rf, \n",
    "    {\"max_depth\": range(1, 8), \"n_estimators\": range(2, 8)}, \n",
    "    cv=kf, \n",
    "    n_jobs=-1\n",
    ")\n",
    "gscv1.fit(concat_X, concat_y)\n",
    "\n",
    "# Get cross-validation data\n",
    "cv1_df = pd.DataFrame(gscv1.cv_results_)\n",
    "\n",
    "# Pivot table\n",
    "pivoted_df = cv1_df.pivot(index=\"param_max_depth\",\n",
    "           columns=\"param_n_estimators\",\n",
    "           values=\"mean_test_score\").round(3)\n",
    "\n",
    "# Create a heatmap with seaborn\n",
    "import seaborn as sns\n",
    "import matplotlib.pyplot as plt\n",
    "sns.heatmap(pivoted_df,\n",
    "            cmap=\"nipy_spectral\",\n",
    "            cbar=False,\n",
    "            annot=True)\n",
    "plt.xlabel('Trees (n)')\n",
    "plt.ylabel('Levels (max)')\n",
    "# plt.xticks(size=14)\n",
    "plt.yticks(rotation=0);"
   ]
  },
  {
   "cell_type": "markdown",
   "metadata": {},
   "source": [
    "Gradient boosting regressor seems to be worse than random forest regressor. Need a lot of estimators to get a good model."
   ]
  },
  {
   "cell_type": "code",
   "execution_count": 28,
   "metadata": {},
   "outputs": [
    {
     "data": {
      "text/html": [
       "<style  type=\"text/css\" >\n",
       "    #T_6907bc2a_8d84_11ea_97c3_9810e8f290cbrow0_col0 {\n",
       "            background-color:  #000000;\n",
       "            color:  #f1f1f1;\n",
       "        }    #T_6907bc2a_8d84_11ea_97c3_9810e8f290cbrow0_col1 {\n",
       "            background-color:  #0000c1;\n",
       "            color:  #f1f1f1;\n",
       "        }    #T_6907bc2a_8d84_11ea_97c3_9810e8f290cbrow0_col2 {\n",
       "            background-color:  #009ecf;\n",
       "            color:  #000000;\n",
       "        }    #T_6907bc2a_8d84_11ea_97c3_9810e8f290cbrow0_col3 {\n",
       "            background-color:  #00a13d;\n",
       "            color:  #000000;\n",
       "        }    #T_6907bc2a_8d84_11ea_97c3_9810e8f290cbrow0_col4 {\n",
       "            background-color:  #00ca00;\n",
       "            color:  #000000;\n",
       "        }    #T_6907bc2a_8d84_11ea_97c3_9810e8f290cbrow0_col5 {\n",
       "            background-color:  #00fc00;\n",
       "            color:  #000000;\n",
       "        }    #T_6907bc2a_8d84_11ea_97c3_9810e8f290cbrow0_col6 {\n",
       "            background-color:  #c8fb00;\n",
       "            color:  #000000;\n",
       "        }    #T_6907bc2a_8d84_11ea_97c3_9810e8f290cbrow0_col7 {\n",
       "            background-color:  #f5df00;\n",
       "            color:  #000000;\n",
       "        }    #T_6907bc2a_8d84_11ea_97c3_9810e8f290cbrow1_col0 {\n",
       "            background-color:  #820093;\n",
       "            color:  #f1f1f1;\n",
       "        }    #T_6907bc2a_8d84_11ea_97c3_9810e8f290cbrow1_col1 {\n",
       "            background-color:  #0092dd;\n",
       "            color:  #000000;\n",
       "        }    #T_6907bc2a_8d84_11ea_97c3_9810e8f290cbrow1_col2 {\n",
       "            background-color:  #009c00;\n",
       "            color:  #000000;\n",
       "        }    #T_6907bc2a_8d84_11ea_97c3_9810e8f290cbrow1_col3 {\n",
       "            background-color:  #00fa00;\n",
       "            color:  #000000;\n",
       "        }    #T_6907bc2a_8d84_11ea_97c3_9810e8f290cbrow1_col4 {\n",
       "            background-color:  #efed00;\n",
       "            color:  #000000;\n",
       "        }    #T_6907bc2a_8d84_11ea_97c3_9810e8f290cbrow1_col5 {\n",
       "            background-color:  #ffa100;\n",
       "            color:  #000000;\n",
       "        }    #T_6907bc2a_8d84_11ea_97c3_9810e8f290cbrow1_col6 {\n",
       "            background-color:  #f60000;\n",
       "            color:  #f1f1f1;\n",
       "        }    #T_6907bc2a_8d84_11ea_97c3_9810e8f290cbrow1_col7 {\n",
       "            background-color:  #d60000;\n",
       "            color:  #f1f1f1;\n",
       "        }    #T_6907bc2a_8d84_11ea_97c3_9810e8f290cbrow2_col0 {\n",
       "            background-color:  #78009b;\n",
       "            color:  #f1f1f1;\n",
       "        }    #T_6907bc2a_8d84_11ea_97c3_9810e8f290cbrow2_col1 {\n",
       "            background-color:  #009fcb;\n",
       "            color:  #000000;\n",
       "        }    #T_6907bc2a_8d84_11ea_97c3_9810e8f290cbrow2_col2 {\n",
       "            background-color:  #00b400;\n",
       "            color:  #000000;\n",
       "        }    #T_6907bc2a_8d84_11ea_97c3_9810e8f290cbrow2_col3 {\n",
       "            background-color:  #75ff00;\n",
       "            color:  #000000;\n",
       "        }    #T_6907bc2a_8d84_11ea_97c3_9810e8f290cbrow2_col4 {\n",
       "            background-color:  #fdcf00;\n",
       "            color:  #000000;\n",
       "        }    #T_6907bc2a_8d84_11ea_97c3_9810e8f290cbrow2_col5 {\n",
       "            background-color:  #ff2100;\n",
       "            color:  #f1f1f1;\n",
       "        }    #T_6907bc2a_8d84_11ea_97c3_9810e8f290cbrow2_col6 {\n",
       "            background-color:  #d80000;\n",
       "            color:  #f1f1f1;\n",
       "        }    #T_6907bc2a_8d84_11ea_97c3_9810e8f290cbrow2_col7 {\n",
       "            background-color:  #cc6c6c;\n",
       "            color:  #000000;\n",
       "        }    #T_6907bc2a_8d84_11ea_97c3_9810e8f290cbrow3_col0 {\n",
       "            background-color:  #6d009c;\n",
       "            color:  #f1f1f1;\n",
       "        }    #T_6907bc2a_8d84_11ea_97c3_9810e8f290cbrow3_col1 {\n",
       "            background-color:  #00a2c3;\n",
       "            color:  #000000;\n",
       "        }    #T_6907bc2a_8d84_11ea_97c3_9810e8f290cbrow3_col2 {\n",
       "            background-color:  #00bc00;\n",
       "            color:  #000000;\n",
       "        }    #T_6907bc2a_8d84_11ea_97c3_9810e8f290cbrow3_col3 {\n",
       "            background-color:  #a1ff00;\n",
       "            color:  #000000;\n",
       "        }    #T_6907bc2a_8d84_11ea_97c3_9810e8f290cbrow3_col4 {\n",
       "            background-color:  #ffc100;\n",
       "            color:  #000000;\n",
       "        }    #T_6907bc2a_8d84_11ea_97c3_9810e8f290cbrow3_col5 {\n",
       "            background-color:  #fc0000;\n",
       "            color:  #f1f1f1;\n",
       "        }    #T_6907bc2a_8d84_11ea_97c3_9810e8f290cbrow3_col6 {\n",
       "            background-color:  #d30000;\n",
       "            color:  #f1f1f1;\n",
       "        }    #T_6907bc2a_8d84_11ea_97c3_9810e8f290cbrow3_col7 {\n",
       "            background-color:  #ccacac;\n",
       "            color:  #000000;\n",
       "        }    #T_6907bc2a_8d84_11ea_97c3_9810e8f290cbrow4_col0 {\n",
       "            background-color:  #58009f;\n",
       "            color:  #f1f1f1;\n",
       "        }    #T_6907bc2a_8d84_11ea_97c3_9810e8f290cbrow4_col1 {\n",
       "            background-color:  #00a4bb;\n",
       "            color:  #000000;\n",
       "        }    #T_6907bc2a_8d84_11ea_97c3_9810e8f290cbrow4_col2 {\n",
       "            background-color:  #00c200;\n",
       "            color:  #000000;\n",
       "        }    #T_6907bc2a_8d84_11ea_97c3_9810e8f290cbrow4_col3 {\n",
       "            background-color:  #bcff00;\n",
       "            color:  #000000;\n",
       "        }    #T_6907bc2a_8d84_11ea_97c3_9810e8f290cbrow4_col4 {\n",
       "            background-color:  #ffb900;\n",
       "            color:  #000000;\n",
       "        }    #T_6907bc2a_8d84_11ea_97c3_9810e8f290cbrow4_col5 {\n",
       "            background-color:  #f60000;\n",
       "            color:  #f1f1f1;\n",
       "        }    #T_6907bc2a_8d84_11ea_97c3_9810e8f290cbrow4_col6 {\n",
       "            background-color:  #cf0000;\n",
       "            color:  #f1f1f1;\n",
       "        }    #T_6907bc2a_8d84_11ea_97c3_9810e8f290cbrow4_col7 {\n",
       "            background-color:  #cccccc;\n",
       "            color:  #000000;\n",
       "        }</style><table id=\"T_6907bc2a_8d84_11ea_97c3_9810e8f290cb\" ><thead>    <tr>        <th class=\"index_name level0\" >param_n_estimators</th>        <th class=\"col_heading level0 col0\" >2</th>        <th class=\"col_heading level0 col1\" >3</th>        <th class=\"col_heading level0 col2\" >4</th>        <th class=\"col_heading level0 col3\" >5</th>        <th class=\"col_heading level0 col4\" >6</th>        <th class=\"col_heading level0 col5\" >7</th>        <th class=\"col_heading level0 col6\" >8</th>        <th class=\"col_heading level0 col7\" >9</th>    </tr>    <tr>        <th class=\"index_name level0\" >param_max_depth</th>        <th class=\"blank\" ></th>        <th class=\"blank\" ></th>        <th class=\"blank\" ></th>        <th class=\"blank\" ></th>        <th class=\"blank\" ></th>        <th class=\"blank\" ></th>        <th class=\"blank\" ></th>        <th class=\"blank\" ></th>    </tr></thead><tbody>\n",
       "                <tr>\n",
       "                        <th id=\"T_6907bc2a_8d84_11ea_97c3_9810e8f290cblevel0_row0\" class=\"row_heading level0 row0\" >1</th>\n",
       "                        <td id=\"T_6907bc2a_8d84_11ea_97c3_9810e8f290cbrow0_col0\" class=\"data row0 col0\" >0.268</td>\n",
       "                        <td id=\"T_6907bc2a_8d84_11ea_97c3_9810e8f290cbrow0_col1\" class=\"data row0 col1\" >0.365</td>\n",
       "                        <td id=\"T_6907bc2a_8d84_11ea_97c3_9810e8f290cbrow0_col2\" class=\"data row0 col2\" >0.444</td>\n",
       "                        <td id=\"T_6907bc2a_8d84_11ea_97c3_9810e8f290cbrow0_col3\" class=\"data row0 col3\" >0.508</td>\n",
       "                        <td id=\"T_6907bc2a_8d84_11ea_97c3_9810e8f290cbrow0_col4\" class=\"data row0 col4\" >0.56</td>\n",
       "                        <td id=\"T_6907bc2a_8d84_11ea_97c3_9810e8f290cbrow0_col5\" class=\"data row0 col5\" >0.603</td>\n",
       "                        <td id=\"T_6907bc2a_8d84_11ea_97c3_9810e8f290cbrow0_col6\" class=\"data row0 col6\" >0.641</td>\n",
       "                        <td id=\"T_6907bc2a_8d84_11ea_97c3_9810e8f290cbrow0_col7\" class=\"data row0 col7\" >0.673</td>\n",
       "            </tr>\n",
       "            <tr>\n",
       "                        <th id=\"T_6907bc2a_8d84_11ea_97c3_9810e8f290cblevel0_row1\" class=\"row_heading level0 row1\" >2</th>\n",
       "                        <td id=\"T_6907bc2a_8d84_11ea_97c3_9810e8f290cbrow1_col0\" class=\"data row1 col0\" >0.316</td>\n",
       "                        <td id=\"T_6907bc2a_8d84_11ea_97c3_9810e8f290cbrow1_col1\" class=\"data row1 col1\" >0.431</td>\n",
       "                        <td id=\"T_6907bc2a_8d84_11ea_97c3_9810e8f290cbrow1_col2\" class=\"data row1 col2\" >0.524</td>\n",
       "                        <td id=\"T_6907bc2a_8d84_11ea_97c3_9810e8f290cbrow1_col3\" class=\"data row1 col3\" >0.6</td>\n",
       "                        <td id=\"T_6907bc2a_8d84_11ea_97c3_9810e8f290cbrow1_col4\" class=\"data row1 col4\" >0.662</td>\n",
       "                        <td id=\"T_6907bc2a_8d84_11ea_97c3_9810e8f290cbrow1_col5\" class=\"data row1 col5\" >0.712</td>\n",
       "                        <td id=\"T_6907bc2a_8d84_11ea_97c3_9810e8f290cbrow1_col6\" class=\"data row1 col6\" >0.753</td>\n",
       "                        <td id=\"T_6907bc2a_8d84_11ea_97c3_9810e8f290cbrow1_col7\" class=\"data row1 col7\" >0.786</td>\n",
       "            </tr>\n",
       "            <tr>\n",
       "                        <th id=\"T_6907bc2a_8d84_11ea_97c3_9810e8f290cblevel0_row2\" class=\"row_heading level0 row2\" >3</th>\n",
       "                        <td id=\"T_6907bc2a_8d84_11ea_97c3_9810e8f290cbrow2_col0\" class=\"data row2 col0\" >0.328</td>\n",
       "                        <td id=\"T_6907bc2a_8d84_11ea_97c3_9810e8f290cbrow2_col1\" class=\"data row2 col1\" >0.447</td>\n",
       "                        <td id=\"T_6907bc2a_8d84_11ea_97c3_9810e8f290cbrow2_col2\" class=\"data row2 col2\" >0.544</td>\n",
       "                        <td id=\"T_6907bc2a_8d84_11ea_97c3_9810e8f290cbrow2_col3\" class=\"data row2 col3\" >0.623</td>\n",
       "                        <td id=\"T_6907bc2a_8d84_11ea_97c3_9810e8f290cbrow2_col4\" class=\"data row2 col4\" >0.687</td>\n",
       "                        <td id=\"T_6907bc2a_8d84_11ea_97c3_9810e8f290cbrow2_col5\" class=\"data row2 col5\" >0.739</td>\n",
       "                        <td id=\"T_6907bc2a_8d84_11ea_97c3_9810e8f290cbrow2_col6\" class=\"data row2 col6\" >0.781</td>\n",
       "                        <td id=\"T_6907bc2a_8d84_11ea_97c3_9810e8f290cbrow2_col7\" class=\"data row2 col7\" >0.815</td>\n",
       "            </tr>\n",
       "            <tr>\n",
       "                        <th id=\"T_6907bc2a_8d84_11ea_97c3_9810e8f290cblevel0_row3\" class=\"row_heading level0 row3\" >4</th>\n",
       "                        <td id=\"T_6907bc2a_8d84_11ea_97c3_9810e8f290cbrow3_col0\" class=\"data row3 col0\" >0.331</td>\n",
       "                        <td id=\"T_6907bc2a_8d84_11ea_97c3_9810e8f290cbrow3_col1\" class=\"data row3 col1\" >0.452</td>\n",
       "                        <td id=\"T_6907bc2a_8d84_11ea_97c3_9810e8f290cbrow3_col2\" class=\"data row3 col2\" >0.55</td>\n",
       "                        <td id=\"T_6907bc2a_8d84_11ea_97c3_9810e8f290cbrow3_col3\" class=\"data row3 col3\" >0.63</td>\n",
       "                        <td id=\"T_6907bc2a_8d84_11ea_97c3_9810e8f290cbrow3_col4\" class=\"data row3 col4\" >0.695</td>\n",
       "                        <td id=\"T_6907bc2a_8d84_11ea_97c3_9810e8f290cbrow3_col5\" class=\"data row3 col5\" >0.747</td>\n",
       "                        <td id=\"T_6907bc2a_8d84_11ea_97c3_9810e8f290cbrow3_col6\" class=\"data row3 col6\" >0.79</td>\n",
       "                        <td id=\"T_6907bc2a_8d84_11ea_97c3_9810e8f290cbrow3_col7\" class=\"data row3 col7\" >0.825</td>\n",
       "            </tr>\n",
       "            <tr>\n",
       "                        <th id=\"T_6907bc2a_8d84_11ea_97c3_9810e8f290cblevel0_row4\" class=\"row_heading level0 row4\" >5</th>\n",
       "                        <td id=\"T_6907bc2a_8d84_11ea_97c3_9810e8f290cbrow4_col0\" class=\"data row4 col0\" >0.334</td>\n",
       "                        <td id=\"T_6907bc2a_8d84_11ea_97c3_9810e8f290cbrow4_col1\" class=\"data row4 col1\" >0.455</td>\n",
       "                        <td id=\"T_6907bc2a_8d84_11ea_97c3_9810e8f290cbrow4_col2\" class=\"data row4 col2\" >0.554</td>\n",
       "                        <td id=\"T_6907bc2a_8d84_11ea_97c3_9810e8f290cbrow4_col3\" class=\"data row4 col3\" >0.634</td>\n",
       "                        <td id=\"T_6907bc2a_8d84_11ea_97c3_9810e8f290cbrow4_col4\" class=\"data row4 col4\" >0.699</td>\n",
       "                        <td id=\"T_6907bc2a_8d84_11ea_97c3_9810e8f290cbrow4_col5\" class=\"data row4 col5\" >0.752</td>\n",
       "                        <td id=\"T_6907bc2a_8d84_11ea_97c3_9810e8f290cbrow4_col6\" class=\"data row4 col6\" >0.795</td>\n",
       "                        <td id=\"T_6907bc2a_8d84_11ea_97c3_9810e8f290cbrow4_col7\" class=\"data row4 col7\" >0.83</td>\n",
       "            </tr>\n",
       "    </tbody></table>"
      ],
      "text/plain": [
       "<pandas.io.formats.style.Styler at 0x7fb88374b780>"
      ]
     },
     "execution_count": 28,
     "metadata": {},
     "output_type": "execute_result"
    }
   ],
   "source": [
    "from sklearn.ensemble import GradientBoostingRegressor\n",
    "\n",
    "# kf already instantiated\n",
    "\n",
    "# instantiate gradient boosting regressor \n",
    "gbr = GradientBoostingRegressor()\n",
    "\n",
    "# Instantiate grid search with 2 hyperparameters\n",
    "gscv2 = GridSearchCV(\n",
    "    gbr, \n",
    "    {\"max_depth\": range(1, 6), \"n_estimators\": range(2, 10)}, \n",
    "    cv=kf, \n",
    "    n_jobs=-1\n",
    ")\n",
    "gscv2.fit(concat_X, concat_y)\n",
    "\n",
    "# Get cross-validation data\n",
    "cv2_df = pd.DataFrame(gscv2.cv_results_)\n",
    "\n",
    "# Create a heatmap-style table, use df.pivot bc only 2 hyperparameters\n",
    "piv_df1 = cv2_df.pivot(index=\"param_max_depth\",\n",
    "           columns=\"param_n_estimators\",\n",
    "           values=\"mean_test_score\").round(3)\n",
    "piv_df1.style.background_gradient(\"nipy_spectral\", axis=None)"
   ]
  },
  {
   "cell_type": "markdown",
   "metadata": {},
   "source": [
    "Find best hyperparameters (number of neighbors) for the KNN classifier. Turns out the optimal number of neighbors is 3 and it provides a classification accuracy of 97%"
   ]
  },
  {
   "cell_type": "code",
   "execution_count": 25,
   "metadata": {},
   "outputs": [
    {
     "name": "stdout",
     "output_type": "stream",
     "text": [
      "GridSearch found optimal number of neighbors: 3\n",
      "Mean CV test scores are: [0.96922031 0.96727838 0.96601612 0.96387999]\n",
      "Accuracy: 0.9728155339805825\n"
     ]
    }
   ],
   "source": [
    "from sklearn.neighbors import KNeighborsClassifier\n",
    "from sklearn.model_selection import StratifiedShuffleSplit, StratifiedKFold\n",
    "from sklearn.metrics import accuracy_score\n",
    "\n",
    "X = concat_X\n",
    "y = concat_y\n",
    "\n",
    "sss = StratifiedShuffleSplit(n_splits=1, test_size=0.1, random_state=0)\n",
    "# print(len(tuple(sss.split(X, y))))\n",
    "train_index, test_index = tuple(sss.split(X, y))[0]\n",
    "X_train, X_test = X[train_index], X[test_index]\n",
    "y_train, y_test = y[train_index], y[test_index]\n",
    "\n",
    "knn = KNeighborsClassifier()\n",
    "\n",
    "# (Hyper)parameter grid\n",
    "p_grid = {\n",
    "    \"n_neighbors\": [3, 5, 7, 9]\n",
    "}\n",
    "\n",
    "cv = StratifiedKFold(n_splits=5, shuffle=True, random_state=10)\n",
    "g = GridSearchCV(knn, p_grid, cv=cv)\n",
    "\n",
    "g.fit(X, y)\n",
    "best = g.best_params_\n",
    "cv = g.cv_results_\n",
    "\n",
    "print('GridSearch found optimal number of neighbors:', best['n_neighbors'])\n",
    "print('Mean CV test scores are:', cv['mean_test_score'])\n",
    "\n",
    "knn = KNeighborsClassifier(n_neighbors = best['n_neighbors']) \n",
    "knn.fit(X_train, y_train)\n",
    "\n",
    "print('Accuracy:', accuracy_score(y_test, knn.predict(X_test)))\n"
   ]
  },
  {
   "cell_type": "markdown",
   "metadata": {},
   "source": [
    "Try Naive Bayes classifier"
   ]
  },
  {
   "cell_type": "code",
   "execution_count": 33,
   "metadata": {},
   "outputs": [
    {
     "name": "stdout",
     "output_type": "stream",
     "text": [
      "{'fit_time': array([0.09751487, 0.09860206, 0.09487414, 0.09613276, 0.09556413]),\n",
      " 'score_time': array([0.04077411, 0.04102874, 0.04062414, 0.03965902, 0.04088187]),\n",
      " 'test_accuracy': array([0.73485216, 0.71906841, 0.70422535, 0.75327829, 0.79193   ]),\n",
      " 'test_f1_micro': array([0.73485216, 0.71906841, 0.70422535, 0.75327829, 0.79193   ]),\n",
      " 'train_accuracy': array([0.74757164, 0.76584122, 0.76978155, 0.71262136, 0.79046348]),\n",
      " 'train_f1_micro': array([0.74757164, 0.76584122, 0.76978155, 0.71262136, 0.79046348])}\n",
      "\n",
      "mean TRAIN accuracy:  0.76\n",
      "mean TEST  accuracy:  0.74\n"
     ]
    }
   ],
   "source": [
    "from sklearn.naive_bayes import GaussianNB\n",
    "from sklearn.model_selection import StratifiedKFold\n",
    "from sklearn.model_selection import cross_validate\n",
    "import pprint\n",
    "\n",
    "# instantiate gradient boosting regressor \n",
    "nb = GaussianNB()\n",
    "# Instantiate statrified k fold cross-validator\n",
    "cv = StratifiedKFold(n_splits=5)\n",
    "\n",
    "# evaluate\n",
    "scores = cross_validate(nb, X, y, cv=cv,\n",
    "                         scoring=('accuracy', 'f1_micro'),\n",
    "                         return_train_score=True)\n",
    "\n",
    "pprint.pprint(scores)\n",
    "print()\n",
    "print('mean TRAIN accuracy: ', np.round(scores['train_accuracy'].mean(), 2))\n",
    "print('mean TEST  accuracy: ', np.round(scores['test_accuracy'].mean(), 2))"
   ]
  },
  {
   "cell_type": "markdown",
   "metadata": {},
   "source": [
    "Try svm one vs rest classifier"
   ]
  },
  {
   "cell_type": "code",
   "execution_count": 34,
   "metadata": {},
   "outputs": [
    {
     "name": "stdout",
     "output_type": "stream",
     "text": [
      "\u001b[1mClassification report on ovr1_train_pred_y:\u001b[0m\n",
      "              precision    recall  f1-score   support\n",
      "\n",
      "           1       1.00      1.00      1.00      1226\n",
      "           2       1.00      1.00      1.00      1073\n",
      "           3       1.00      1.00      1.00       986\n",
      "           4       0.98      0.98      0.98      1286\n",
      "           5       0.98      0.98      0.98      1374\n",
      "           6       1.00      1.00      1.00      1407\n",
      "\n",
      "    accuracy                           0.99      7352\n",
      "   macro avg       0.99      0.99      0.99      7352\n",
      "weighted avg       0.99      0.99      0.99      7352\n",
      "\n",
      "\u001b[1mClassification report on ovr1_test_pred_y:\u001b[0m\n",
      "              precision    recall  f1-score   support\n",
      "\n",
      "           1       0.96      1.00      0.98       496\n",
      "           2       0.98      0.96      0.97       471\n",
      "           3       1.00      0.98      0.99       420\n",
      "           4       0.97      0.87      0.92       491\n",
      "           5       0.90      0.98      0.94       532\n",
      "           6       1.00      1.00      1.00       537\n",
      "\n",
      "    accuracy                           0.96      2947\n",
      "   macro avg       0.97      0.96      0.96      2947\n",
      "weighted avg       0.97      0.96      0.96      2947\n",
      "\n"
     ]
    }
   ],
   "source": [
    "# instantiate one vs rest classifier\n",
    "ovr1 = OneVsRestClassifier(svm.SVC(kernel='linear', probability=True))\n",
    "\n",
    "# fit the model to the training data\n",
    "ovr1.fit(trainX, trainy.ravel())\n",
    "\n",
    "# predict train y values and test y values\n",
    "ovr1_train_pred_y = ovr1.predict(trainX)\n",
    "ovr1_test_pred_y = ovr1.predict(testX)\n",
    "\n",
    "# evaluate classifier performance on test and train pred_y\n",
    "print(color.BOLD + 'Classification report on ovr1_train_pred_y:' + color.END)\n",
    "print(classification_report(trainy.ravel(), ovr1_train_pred_y))\n",
    "print(color.BOLD + 'Classification report on ovr1_test_pred_y:' + color.END)\n",
    "print(classification_report(testy.ravel(), ovr1_test_pred_y))"
   ]
  },
  {
   "cell_type": "code",
   "execution_count": 35,
   "metadata": {},
   "outputs": [
    {
     "name": "stdout",
     "output_type": "stream",
     "text": [
      "{'fit_time': array([49.47737312, 48.44361377, 53.84452987, 52.80243993, 51.48205209]),\n",
      " 'score_time': array([2.63411403, 2.60353208, 2.89678192, 2.80939507, 2.73885083]),\n",
      " 'test_accuracy': array([0.95540475, 0.93449782, 0.9839728 , 0.97231666, 0.97228974]),\n",
      " 'test_f1_micro': array([0.95540475, 0.93449782, 0.9839728 , 0.97231666, 0.97228974]),\n",
      " 'train_accuracy': array([0.99247207, 0.99150279, 0.99199029, 0.99235437, 0.9930842 ]),\n",
      " 'train_f1_micro': array([0.99247207, 0.99150279, 0.99199029, 0.99235437, 0.9930842 ])}\n",
      "\n",
      "mean TRAIN accuracy:  0.99\n",
      "mean TEST  accuracy:  0.96\n"
     ]
    }
   ],
   "source": [
    "# Instantiate stratified k fold cross-validator\n",
    "cv = StratifiedKFold(n_splits=5)\n",
    "\n",
    "# evaluate\n",
    "scores = cross_validate(ovr1, X, y, cv=cv,\n",
    "                         scoring=('accuracy', 'f1_micro'),\n",
    "                         return_train_score=True)\n",
    "# show scores\n",
    "pprint.pprint(scores)\n",
    "print()\n",
    "print('mean TRAIN accuracy: ', np.round(scores['train_accuracy'].mean(), 2))\n",
    "print('mean TEST  accuracy: ', np.round(scores['test_accuracy'].mean(), 2))"
   ]
  }
 ],
 "metadata": {
  "kernelspec": {
   "display_name": "Python 3",
   "language": "python",
   "name": "python3"
  },
  "language_info": {
   "codemirror_mode": {
    "name": "ipython",
    "version": 3
   },
   "file_extension": ".py",
   "mimetype": "text/x-python",
   "name": "python",
   "nbconvert_exporter": "python",
   "pygments_lexer": "ipython3",
   "version": "3.7.3"
  }
 },
 "nbformat": 4,
 "nbformat_minor": 4
}
