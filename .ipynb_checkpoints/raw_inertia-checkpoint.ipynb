{
 "cells": [
  {
   "cell_type": "markdown",
   "metadata": {},
   "source": [
    "# Extracting my own features from the data and training models"
   ]
  },
  {
   "cell_type": "markdown",
   "metadata": {},
   "source": [
    "Below, I load the raw inertial signals that were provided in the dataset, extract my own features, and try to train well-performing models"
   ]
  },
  {
   "cell_type": "markdown",
   "metadata": {},
   "source": [
    "## Load data"
   ]
  },
  {
   "cell_type": "markdown",
   "metadata": {},
   "source": [
    "Import packages"
   ]
  },
  {
   "cell_type": "code",
   "execution_count": 1,
   "metadata": {},
   "outputs": [],
   "source": [
    "import pandas as pd\n",
    "import numpy as np"
   ]
  },
  {
   "cell_type": "markdown",
   "metadata": {},
   "source": [
    "Function to load file as a numpy array:"
   ]
  },
  {
   "cell_type": "code",
   "execution_count": 2,
   "metadata": {},
   "outputs": [],
   "source": [
    "# load a single txt file as a numpy array\n",
    "def load_file(filepath):\n",
    "    df = pd.read_csv(filepath, header=None, delim_whitespace=True)\n",
    "    return df.values"
   ]
  },
  {
   "cell_type": "markdown",
   "metadata": {},
   "source": [
    "Function to load a group of variables into a 3D numpy array:"
   ]
  },
  {
   "cell_type": "code",
   "execution_count": 3,
   "metadata": {},
   "outputs": [],
   "source": [
    "# load a group of files, such as x y and z data for a given variable\n",
    "def load_group(filenames, directory=''):\n",
    "    loaded = []\n",
    "    for name in filenames:\n",
    "        data = load_file(directory + name)\n",
    "        loaded.append(data)\n",
    "    # stack group so that features are in the 3rd dimension\n",
    "    loaded = np.dstack(loaded)\n",
    "    return loaded"
   ]
  },
  {
   "cell_type": "markdown",
   "metadata": {},
   "source": [
    "Function to load all inertial signals in a group, train or test, as a 3D numpy array:"
   ]
  },
  {
   "cell_type": "code",
   "execution_count": 4,
   "metadata": {},
   "outputs": [],
   "source": [
    "# load a dataset group, such as train or test\n",
    "def load_dataset(group, main_data_dir=''):\n",
    "    filepath = main_data_dir + group + '/Inertial Signals/'\n",
    "    # get all 9 files in Inertial Signals into a single filename list\n",
    "    filenames = []\n",
    "    # total acceleration\n",
    "    filenames += ['total_acc_x_'+group+'.txt', 'total_acc_y_'+group+'.txt', 'total_acc_z_'+group+'.txt']\n",
    "    # body acceleration\n",
    "    filenames += ['body_acc_x_'+group+'.txt', 'body_acc_y_'+group+'.txt', 'body_acc_z_'+group+'.txt']\n",
    "    # body gyroscope\n",
    "    filenames += ['body_gyro_x_'+group+'.txt', 'body_gyro_y_'+group+'.txt', 'body_gyro_z_'+group+'.txt']\n",
    "    # load input data\n",
    "    X = load_group(filenames, filepath)\n",
    "    # load class output \n",
    "    y = load_file(main_data_dir + group + '/y_'+group+'.txt')\n",
    "    return X, y"
   ]
  },
  {
   "cell_type": "markdown",
   "metadata": {},
   "source": [
    "Training data raw inertial signals"
   ]
  },
  {
   "cell_type": "code",
   "execution_count": 5,
   "metadata": {},
   "outputs": [],
   "source": [
    "# load raw training data\n",
    "raw_train_X, raw_train_y = load_dataset('train', '~/Desktop/UCI HAR Dataset/')\n",
    "train_sub_map = load_file(\"~/Desktop/UCI HAR Dataset/train/subject_train.txt\")"
   ]
  },
  {
   "cell_type": "markdown",
   "metadata": {},
   "source": [
    "Test data raw inertial signals"
   ]
  },
  {
   "cell_type": "code",
   "execution_count": 6,
   "metadata": {},
   "outputs": [],
   "source": [
    "# load raw test data\n",
    "raw_test_X, raw_test_y = load_dataset('test', '~/Desktop/UCI HAR Dataset/')\n",
    "test_sub_map = load_file(\"~/Desktop/UCI HAR Dataset/test/subject_test.txt\")"
   ]
  },
  {
   "cell_type": "markdown",
   "metadata": {},
   "source": [
    "Concatenate the data so that I can later cross validate it myself"
   ]
  },
  {
   "cell_type": "code",
   "execution_count": 8,
   "metadata": {},
   "outputs": [
    {
     "name": "stdout",
     "output_type": "stream",
     "text": [
      "(10299,)\n",
      "(10299, 128, 9)\n",
      "(10299,)\n"
     ]
    }
   ],
   "source": [
    "concat_sub_map = np.concatenate((train_sub_map, test_sub_map), axis=None)\n",
    "concat_X = np.concatenate((raw_train_X, raw_test_X), axis=0)\n",
    "concat_y = np.concatenate((raw_train_y, raw_test_y), axis=None)\n",
    "print(concat_sub_map.shape)\n",
    "print(concat_X.shape)\n",
    "print(concat_y.shape)"
   ]
  },
  {
   "cell_type": "markdown",
   "metadata": {},
   "source": [
    "## Try to train model on raw motion signals"
   ]
  },
  {
   "cell_type": "markdown",
   "metadata": {},
   "source": [
    "Simply stack the motion time-series in axis 1 of the numpy array. It doesn't make sense to represent the data this way, but I just wanted to see if models could predict activity based on raw data, and I needed to reduce the dimensions the data to do so."
   ]
  },
  {
   "cell_type": "raw",
   "metadata": {},
   "source": [
    "print(np.reshape(concat_X, (10299,1152)).shape)\n",
    "print(concat_X[0,:,0])\n",
    "print(np.reshape(concat_X, (10299,1152))[0,::9])"
   ]
  },
  {
   "cell_type": "markdown",
   "metadata": {},
   "source": [
    "Confirms that reshaping the data this way works"
   ]
  },
  {
   "cell_type": "code",
   "execution_count": 9,
   "metadata": {},
   "outputs": [],
   "source": [
    "assert np.array_equal(concat_X[:,:,0], np.reshape(concat_X, (10299,1152))[:,::9])\n",
    "assert np.array_equal(concat_X[:,:,1], np.reshape(concat_X, (10299,1152))[:,1::9])\n",
    "assert np.array_equal(concat_X[:,:,2], np.reshape(concat_X, (10299,1152))[:,2::9])\n",
    "assert np.array_equal(concat_X[:,:,3], np.reshape(concat_X, (10299,1152))[:,3::9])\n",
    "assert np.array_equal(concat_X[:,:,4], np.reshape(concat_X, (10299,1152))[:,4::9])\n",
    "assert np.array_equal(concat_X[:,:,5], np.reshape(concat_X, (10299,1152))[:,5::9])\n",
    "assert np.array_equal(concat_X[:,:,6], np.reshape(concat_X, (10299,1152))[:,6::9])\n",
    "assert np.array_equal(concat_X[:,:,7], np.reshape(concat_X, (10299,1152))[:,7::9])\n",
    "assert np.array_equal(concat_X[:,:,8], np.reshape(concat_X, (10299,1152))[:,8::9])"
   ]
  },
  {
   "cell_type": "code",
   "execution_count": 10,
   "metadata": {},
   "outputs": [],
   "source": [
    "# reshape numpy array to put all motion time-series in one observation window\n",
    "reshaped_X = np.reshape(concat_X, (10299,1152))"
   ]
  },
  {
   "cell_type": "markdown",
   "metadata": {},
   "source": [
    "Use a K nearest neighbors classifier to predict activity given this nonsensical array of raw data. Hyperparameters are optimized and it is cross-validated with stratifed shuffle split. The classification accuracy is actually not bad, at 0.87. But we can do better."
   ]
  },
  {
   "cell_type": "code",
   "execution_count": 11,
   "metadata": {},
   "outputs": [
    {
     "name": "stdout",
     "output_type": "stream",
     "text": [
      "GridSearch found optimal number of neighbors: 3\n",
      "Mean CV test scores are: [0.86872512 0.84076124 0.81075833 0.78881445]\n",
      "Accuracy: 0.8689320388349514\n"
     ]
    }
   ],
   "source": [
    "from sklearn.neighbors import KNeighborsClassifier\n",
    "from sklearn.model_selection import StratifiedShuffleSplit, StratifiedKFold\n",
    "from sklearn.model_selection import GridSearchCV\n",
    "from sklearn.metrics import accuracy_score\n",
    "\n",
    "X = reshaped_X\n",
    "y = concat_y\n",
    "\n",
    "sss = StratifiedShuffleSplit(n_splits=1, test_size=0.1, random_state=0)\n",
    "# print(len(tuple(sss.split(X, y))))\n",
    "train_index, test_index = tuple(sss.split(X, y))[0]\n",
    "X_train, X_test = X[train_index], X[test_index]\n",
    "y_train, y_test = y[train_index], y[test_index]\n",
    "\n",
    "knn = KNeighborsClassifier()\n",
    "\n",
    "# (Hyper)parameter grid\n",
    "p_grid = {\n",
    "    \"n_neighbors\": [3, 5, 7, 9]\n",
    "}\n",
    "\n",
    "cv = StratifiedKFold(n_splits=5, shuffle=True, random_state=10)\n",
    "g = GridSearchCV(knn, p_grid, cv=cv)\n",
    "\n",
    "g.fit(X, y)\n",
    "best = g.best_params_\n",
    "cv = g.cv_results_\n",
    "\n",
    "print('GridSearch found optimal number of neighbors:', best['n_neighbors'])\n",
    "print('Mean CV test scores are:', cv['mean_test_score'])\n",
    "\n",
    "knn = KNeighborsClassifier(n_neighbors = best['n_neighbors']) \n",
    "knn.fit(X_train, y_train)\n",
    "\n",
    "print('Accuracy:', accuracy_score(y_test, knn.predict(X_test)))\n"
   ]
  },
  {
   "cell_type": "markdown",
   "metadata": {},
   "source": [
    "Now try to predict activity using only one type of motion trace, in this case body_acc in the x direction. The prediction accuracy is much worse"
   ]
  },
  {
   "cell_type": "code",
   "execution_count": 12,
   "metadata": {},
   "outputs": [
    {
     "name": "stdout",
     "output_type": "stream",
     "text": [
      "GridSearch found optimal number of neighbors: 3\n",
      "Mean CV test scores are: [0.64219827 0.64015924 0.63491601 0.62957569]\n",
      "Accuracy: 0.625242718446602\n"
     ]
    }
   ],
   "source": [
    "X = concat_X[:,:,3]\n",
    "y = concat_y\n",
    "\n",
    "sss = StratifiedShuffleSplit(n_splits=1, test_size=0.1, random_state=0)\n",
    "# print(len(tuple(sss.split(X, y))))\n",
    "train_index, test_index = tuple(sss.split(X, y))[0]\n",
    "X_train, X_test = X[train_index], X[test_index]\n",
    "y_train, y_test = y[train_index], y[test_index]\n",
    "\n",
    "knn = KNeighborsClassifier()\n",
    "\n",
    "# (Hyper)parameter grid\n",
    "p_grid = {\n",
    "    \"n_neighbors\": [3, 5, 7, 9]\n",
    "}\n",
    "\n",
    "cv = StratifiedKFold(n_splits=5, shuffle=True, random_state=10)\n",
    "g = GridSearchCV(knn, p_grid, cv=cv)\n",
    "\n",
    "g.fit(X, y)\n",
    "best = g.best_params_\n",
    "cv = g.cv_results_\n",
    "\n",
    "print('GridSearch found optimal number of neighbors:', best['n_neighbors'])\n",
    "print('Mean CV test scores are:', cv['mean_test_score'])\n",
    "\n",
    "knn = KNeighborsClassifier(n_neighbors = best['n_neighbors']) \n",
    "knn.fit(X_train, y_train)\n",
    "\n",
    "print('Accuracy:', accuracy_score(y_test, knn.predict(X_test)))\n"
   ]
  },
  {
   "cell_type": "markdown",
   "metadata": {},
   "source": [
    "## Extract custom features from the data"
   ]
  },
  {
   "cell_type": "markdown",
   "metadata": {},
   "source": [
    "To improve the classification accuracy of models, I extracted features from the data. Using the advice of https://www.mdpi.com/1424-8220/17/9/2058/htm, I selected the following features:\n",
    "</br>\n",
    "mean, median, variance, minimum, maximum, interquartile range, 20th percentile and 80th percentile"
   ]
  },
  {
   "cell_type": "markdown",
   "metadata": {},
   "source": [
    "Extract the features in axis 1 of the dataset, which corresponds to time. The dimensionality of the dataset should be reduced to (10299, 9) in each case."
   ]
  },
  {
   "cell_type": "code",
   "execution_count": 13,
   "metadata": {},
   "outputs": [],
   "source": [
    "from scipy.stats import iqr"
   ]
  },
  {
   "cell_type": "code",
   "execution_count": 14,
   "metadata": {},
   "outputs": [
    {
     "name": "stdout",
     "output_type": "stream",
     "text": [
      "(10299, 9)\n",
      "(10299, 9)\n",
      "(10299, 9)\n",
      "(10299, 9)\n",
      "(10299, 9)\n",
      "(10299, 9)\n",
      "(10299, 9)\n",
      "(10299, 9)\n"
     ]
    }
   ],
   "source": [
    "print(np.mean(concat_X, axis=1).shape)\n",
    "print(np.median(concat_X, axis=1).shape)\n",
    "print(np.var(concat_X, axis=1).shape)\n",
    "print(np.amin(concat_X, axis=1).shape)\n",
    "print(np.amax(concat_X, axis=1).shape)\n",
    "print(iqr(concat_X, axis=1).shape)\n",
    "print(np.percentile(concat_X, 20, axis=1).shape)\n",
    "print(np.percentile(concat_X, 80, axis=1).shape)"
   ]
  },
  {
   "cell_type": "markdown",
   "metadata": {},
   "source": [
    "Concatenate the features to create a new X array. Shape should be (10299, 72)."
   ]
  },
  {
   "cell_type": "code",
   "execution_count": 15,
   "metadata": {},
   "outputs": [],
   "source": [
    "means = np.mean(concat_X, axis=1)\n",
    "medians = np.median(concat_X, axis=1)\n",
    "variances = np.var(concat_X, axis=1)\n",
    "minimums = np.amin(concat_X, axis=1)\n",
    "maximums = np.amax(concat_X, axis=1)\n",
    "IQRs = iqr(concat_X, axis=1)\n",
    "twenties = np.percentile(concat_X, 20, axis=1)\n",
    "eighties = np.percentile(concat_X, 80, axis=1)\n",
    "features_X = np.concatenate((means, medians, variances, minimums, maximums, IQRs, twenties, eighties), \n",
    "                            axis=1)"
   ]
  },
  {
   "cell_type": "code",
   "execution_count": 16,
   "metadata": {},
   "outputs": [
    {
     "data": {
      "text/plain": [
       "(10299, 72)"
      ]
     },
     "execution_count": 16,
     "metadata": {},
     "output_type": "execute_result"
    }
   ],
   "source": [
    "features_X.shape"
   ]
  },
  {
   "cell_type": "markdown",
   "metadata": {},
   "source": [
    "## KNN classifier"
   ]
  },
  {
   "cell_type": "markdown",
   "metadata": {},
   "source": [
    "Try the K nearest neighbors classifier with the extracted feature data. Hyperparameter optimization and CV is the same as before. Classification accuracy is 0.97, which is much better."
   ]
  },
  {
   "cell_type": "code",
   "execution_count": 17,
   "metadata": {},
   "outputs": [
    {
     "name": "stdout",
     "output_type": "stream",
     "text": [
      "GridSearch found optimal number of neighbors: 3\n",
      "Mean CV test scores are: [0.96320031 0.95494708 0.94941256 0.94387805]\n",
      "Accuracy: 0.9660194174757282\n"
     ]
    }
   ],
   "source": [
    "X = features_X\n",
    "y = concat_y\n",
    "\n",
    "sss = StratifiedShuffleSplit(n_splits=1, test_size=0.1, random_state=0)\n",
    "# print(len(tuple(sss.split(X, y))))\n",
    "train_index, test_index = tuple(sss.split(X, y))[0]\n",
    "X_train, X_test = X[train_index], X[test_index]\n",
    "y_train, y_test = y[train_index], y[test_index]\n",
    "\n",
    "knn = KNeighborsClassifier()\n",
    "\n",
    "# (Hyper)parameter grid\n",
    "p_grid = {\n",
    "    \"n_neighbors\": [3, 5, 7, 9]\n",
    "}\n",
    "\n",
    "cv = StratifiedKFold(n_splits=5, shuffle=True, random_state=10)\n",
    "g = GridSearchCV(knn, p_grid, cv=cv)\n",
    "\n",
    "g.fit(X, y)\n",
    "best = g.best_params_\n",
    "cv = g.cv_results_\n",
    "\n",
    "print('GridSearch found optimal number of neighbors:', best['n_neighbors'])\n",
    "print('Mean CV test scores are:', cv['mean_test_score'])\n",
    "\n",
    "knn = KNeighborsClassifier(n_neighbors = best['n_neighbors']) \n",
    "knn.fit(X_train, y_train)\n",
    "\n",
    "print('Accuracy:', accuracy_score(y_test, knn.predict(X_test)))\n"
   ]
  },
  {
   "cell_type": "markdown",
   "metadata": {},
   "source": [
    "Try this KNN classifer with a random train/test split and produce a classification report"
   ]
  },
  {
   "cell_type": "code",
   "execution_count": 42,
   "metadata": {},
   "outputs": [
    {
     "name": "stdout",
     "output_type": "stream",
     "text": [
      "              precision    recall  f1-score   support\n",
      "\n",
      "           1       0.89      0.97      0.93       592\n",
      "           2       0.95      0.93      0.94       466\n",
      "           3       0.98      0.89      0.93       456\n",
      "           4       0.97      0.96      0.97       619\n",
      "           5       0.96      0.97      0.97       605\n",
      "           6       1.00      1.00      1.00       661\n",
      "\n",
      "    accuracy                           0.96      3399\n",
      "   macro avg       0.96      0.95      0.96      3399\n",
      "weighted avg       0.96      0.96      0.96      3399\n",
      "\n"
     ]
    }
   ],
   "source": [
    "from sklearn.model_selection import train_test_split\n",
    "from sklearn.metrics import classification_report\n",
    "\n",
    "# train test split\n",
    "X_train, X_test, y_train, y_test = train_test_split(features_X, concat_y, \n",
    "                                                    test_size=0.33, random_state=42)\n",
    "\n",
    "# instantiate KNN classifier\n",
    "knn = KNeighborsClassifier(n_neighbors = 3)\n",
    "# fit the model to the training data\n",
    "knn.fit(X_train, y_train)\n",
    "\n",
    "# predict test y values\n",
    "pred_y = knn.predict(X_test)\n",
    "\n",
    "# evaluate classifier performance on test pred_y\n",
    "print(classification_report(y_test, pred_y))"
   ]
  },
  {
   "cell_type": "markdown",
   "metadata": {},
   "source": [
    "Confusion matrix for KNN model"
   ]
  },
  {
   "cell_type": "code",
   "execution_count": 43,
   "metadata": {},
   "outputs": [],
   "source": [
    "from sklearn.metrics import confusion_matrix\n",
    "\n",
    "confusion = confusion_matrix(y_test, pred_y)\n",
    "cm = confusion.astype('float') / confusion.sum(axis=1)[:, np.newaxis]"
   ]
  },
  {
   "cell_type": "code",
   "execution_count": 44,
   "metadata": {},
   "outputs": [
    {
     "data": {
      "image/png": "[encoded data removed]",
      "text/plain": [
       "<Figure size 432x288 with 2 Axes>"
      ]
     },
     "metadata": {
      "needs_background": "light"
     },
     "output_type": "display_data"
    }
   ],
   "source": [
    "import seaborn as sns\n",
    "\n",
    "g = sns.heatmap(cm, annot=True)"
   ]
  },
  {
   "cell_type": "markdown",
   "metadata": {},
   "source": [
    "## Logistic Regression Classifier"
   ]
  },
  {
   "cell_type": "markdown",
   "metadata": {},
   "source": [
    "Try logistic regression classifier. Classification for same train/test split is a bit worse than optimized KNN"
   ]
  },
  {
   "cell_type": "code",
   "execution_count": 45,
   "metadata": {},
   "outputs": [
    {
     "name": "stdout",
     "output_type": "stream",
     "text": [
      "              precision    recall  f1-score   support\n",
      "\n",
      "           1       0.87      0.87      0.87       592\n",
      "           2       0.87      0.89      0.88       466\n",
      "           3       0.92      0.91      0.91       456\n",
      "           4       0.89      0.82      0.85       619\n",
      "           5       0.84      0.89      0.86       605\n",
      "           6       1.00      1.00      1.00       661\n",
      "\n",
      "    accuracy                           0.90      3399\n",
      "   macro avg       0.90      0.90      0.90      3399\n",
      "weighted avg       0.90      0.90      0.90      3399\n",
      "\n"
     ]
    }
   ],
   "source": [
    "from sklearn.linear_model import LogisticRegression\n",
    "\n",
    "# instantiate logistic regression\n",
    "# pass default solver 'lbfgs', large # of max iteration, and auto multi-class\n",
    "lr = LogisticRegression(solver='lbfgs', max_iter=10000, multi_class='auto')\n",
    "# fit the model to the training data\n",
    "lr.fit(X_train, y_train)\n",
    "\n",
    "# predict test y values\n",
    "lr_pred_y = lr.predict(X_test)\n",
    "\n",
    "# evaluate classifier performance on test and train pred_y\n",
    "print(classification_report(y_test, lr_pred_y))"
   ]
  },
  {
   "cell_type": "markdown",
   "metadata": {},
   "source": [
    "## One vs rest classifier"
   ]
  },
  {
   "cell_type": "markdown",
   "metadata": {},
   "source": [
    "Try one vs rest classifier. Classification accuracy for same train/test split is about the same as logistic regression"
   ]
  },
  {
   "cell_type": "code",
   "execution_count": 46,
   "metadata": {},
   "outputs": [
    {
     "name": "stdout",
     "output_type": "stream",
     "text": [
      "              precision    recall  f1-score   support\n",
      "\n",
      "           1       0.87      0.88      0.88       592\n",
      "           2       0.87      0.89      0.88       466\n",
      "           3       0.95      0.91      0.93       456\n",
      "           4       0.88      0.82      0.85       619\n",
      "           5       0.83      0.88      0.86       605\n",
      "           6       1.00      1.00      1.00       661\n",
      "\n",
      "    accuracy                           0.90      3399\n",
      "   macro avg       0.90      0.90      0.90      3399\n",
      "weighted avg       0.90      0.90      0.90      3399\n",
      "\n"
     ]
    }
   ],
   "source": [
    "from sklearn import svm\n",
    "from sklearn.multiclass import OneVsRestClassifier\n",
    "\n",
    "# instantiate one vs rest classifier\n",
    "ovr = OneVsRestClassifier(svm.SVC(kernel='linear', probability=True))\n",
    "# Learn to predict each class against the other\n",
    "ovr.fit(X_train, y_train)\n",
    "\n",
    "# predict test y values\n",
    "ovr_pred_y = ovr.predict(X_test)\n",
    "\n",
    "# evaluate classifier performance on test and train pred_y\n",
    "print(classification_report(y_test, ovr_pred_y))"
   ]
  },
  {
   "cell_type": "markdown",
   "metadata": {},
   "source": [
    "Binarize input so that we can evaulate with ROC curve and precision-recall curve"
   ]
  },
  {
   "cell_type": "code",
   "execution_count": 47,
   "metadata": {},
   "outputs": [],
   "source": [
    "from sklearn.preprocessing import label_binarize\n",
    "\n",
    "# Binarize the output\n",
    "trainy_bin = label_binarize(y_train, classes=[1,2,3,4,5,6])\n",
    "testy_bin = label_binarize(y_test, classes=[1,2,3,4,5,6])\n",
    "# now we have one binary column for each class instead of one column with many class names\n",
    "\n",
    "# one vs rest classifier is already instantiated\n",
    "\n",
    "# Learn to predict each class against the other\n",
    "y_score = ovr.fit(X_train, trainy_bin).decision_function(X_test)"
   ]
  },
  {
   "cell_type": "markdown",
   "metadata": {},
   "source": [
    "Evaluate one vs rest classifier with ROC curve and precision-recall curve"
   ]
  },
  {
   "cell_type": "code",
   "execution_count": 48,
   "metadata": {},
   "outputs": [],
   "source": [
    "from sklearn.metrics import roc_curve, auc, precision_recall_curve, average_precision_score\n",
    "\n",
    "# get number of unique classes\n",
    "n_classes = trainy_bin.shape[1]\n",
    "\n",
    "# Compute ROC curve and ROC area for each class\n",
    "fpr = {}\n",
    "tpr = {}\n",
    "roc_auc = {}\n",
    "\n",
    "precision = {}\n",
    "recall = {}\n",
    "pr_auc = {}\n",
    "\n",
    "# we calculate 10 curves, one for each class\n",
    "for i in range(n_classes):\n",
    "    # ROC:\n",
    "    fpr[i], tpr[i], _ = roc_curve(testy_bin[:, i], y_score[:, i])\n",
    "    roc_auc[i] = auc(fpr[i], tpr[i])\n",
    "\n",
    "    # Precision-recall:\n",
    "    precision[i], recall[i], _ = precision_recall_curve(testy_bin[:, i], y_score[:, i])\n",
    "    pr_auc[i] = average_precision_score(testy_bin[:, i], y_score[:, i])"
   ]
  },
  {
   "cell_type": "markdown",
   "metadata": {},
   "source": [
    "ROC curve for activity #0 (walking)"
   ]
  },
  {
   "cell_type": "code",
   "execution_count": 49,
   "metadata": {},
   "outputs": [
    {
     "data": {
      "image/png": "[encoded data removed]",
      "text/plain": [
       "<Figure size 288x288 with 1 Axes>"
      ]
     },
     "metadata": {
      "needs_background": "light"
     },
     "output_type": "display_data"
    }
   ],
   "source": [
    "activity = 0\n",
    "\n",
    "plt.figure(figsize=(4,4))\n",
    "plt.plot(fpr[activity], tpr[activity], color='darkorange',\n",
    "         lw=2, label='ROC curve (area = %0.2f)' % roc_auc[activity])\n",
    "plt.plot([0, 1], [0, 1], color='navy', lw=2, linestyle='--')\n",
    "plt.xlim([0.0, 1.0])\n",
    "plt.ylim([0.0, 1.05])\n",
    "plt.xlabel('False Positive Rate (1 - Sensitivity)')\n",
    "plt.ylabel('True Positive Rate (Specificity)')\n",
    "plt.title('Receiver operating characteristic for activity ' + str(activity))\n",
    "plt.legend(loc=\"lower right\")\n",
    "plt.show()"
   ]
  },
  {
   "cell_type": "markdown",
   "metadata": {},
   "source": [
    "Precision-recall curve for activity #0 (walking)"
   ]
  },
  {
   "cell_type": "code",
   "execution_count": 50,
   "metadata": {},
   "outputs": [
    {
     "data": {
      "image/png": "[encoded data removed]",
      "text/plain": [
       "<Figure size 288x288 with 1 Axes>"
      ]
     },
     "metadata": {
      "needs_background": "light"
     },
     "output_type": "display_data"
    }
   ],
   "source": [
    "# Plot only one Precision-Recall curve for selected class\n",
    "activity = 0\n",
    "\n",
    "plt.figure(figsize=(4,4))\n",
    "plt.plot(recall[activity], precision[activity], color='green',\n",
    "         lw=2, label='PR curve (area = %0.2f)' % pr_auc[activity])\n",
    "plt.xlim([0.0, 1.0])\n",
    "plt.ylim([0.0, 1.05])\n",
    "plt.xlabel('Recall')\n",
    "plt.ylabel('Precision')\n",
    "plt.title('Precision-Recall for activity ' + str(activity))\n",
    "plt.legend(loc=\"lower right\")\n",
    "plt.show()"
   ]
  },
  {
   "cell_type": "markdown",
   "metadata": {},
   "source": [
    "## Random Forest Classifier"
   ]
  },
  {
   "cell_type": "markdown",
   "metadata": {},
   "source": [
    "Tried random forest classifier. Optimized hyperparameters with K fold cross validation. With hyperparameters optimized, got a accuracy score of 0.93"
   ]
  },
  {
   "cell_type": "code",
   "execution_count": 51,
   "metadata": {},
   "outputs": [],
   "source": [
    "from sklearn.model_selection import KFold\n",
    "from sklearn.ensemble import RandomForestClassifier"
   ]
  },
  {
   "cell_type": "code",
   "execution_count": 52,
   "metadata": {},
   "outputs": [],
   "source": [
    "# Instantiate k fold cross-validator \n",
    "kf = KFold(n_splits=5, shuffle=True, random_state=42)\n",
    "# Instantiate RF classifier \n",
    "rf = RandomForestClassifier()"
   ]
  },
  {
   "cell_type": "markdown",
   "metadata": {},
   "source": [
    "Changing min_samples_leaf and min_samples_split doesn't change much. Even changing n_estimators doesn't change much. Changing max_depth changes a lot though."
   ]
  },
  {
   "cell_type": "code",
   "execution_count": 53,
   "metadata": {},
   "outputs": [
    {
     "name": "stderr",
     "output_type": "stream",
     "text": [
      "/Users/hayaw/anaconda3/lib/python3.7/site-packages/joblib/externals/loky/process_executor.py:706: UserWarning: A worker stopped while some jobs were given to the executor. This can be caused by a too short worker timeout or by a memory leak.\n",
      "  \"timeout or by a memory leak.\", UserWarning\n"
     ]
    },
    {
     "data": {
      "text/html": [
       "<style  type=\"text/css\" >\n",
       "    #T_d0d9a0b2_8f40_11ea_af7b_9810e8f290cbrow0_col0 {\n",
       "            background-color:  #0013dd;\n",
       "            color:  #f1f1f1;\n",
       "        }    #T_d0d9a0b2_8f40_11ea_af7b_9810e8f290cbrow0_col1 {\n",
       "            background-color:  #0080dd;\n",
       "            color:  #000000;\n",
       "        }    #T_d0d9a0b2_8f40_11ea_af7b_9810e8f290cbrow0_col2 {\n",
       "            background-color:  #0041dd;\n",
       "            color:  #f1f1f1;\n",
       "        }    #T_d0d9a0b2_8f40_11ea_af7b_9810e8f290cbrow0_col3 {\n",
       "            background-color:  #009ecf;\n",
       "            color:  #000000;\n",
       "        }    #T_d0d9a0b2_8f40_11ea_af7b_9810e8f290cbrow0_col4 {\n",
       "            background-color:  #0098dd;\n",
       "            color:  #000000;\n",
       "        }    #T_d0d9a0b2_8f40_11ea_af7b_9810e8f290cbrow0_col5 {\n",
       "            background-color:  #0098dd;\n",
       "            color:  #000000;\n",
       "        }    #T_d0d9a0b2_8f40_11ea_af7b_9810e8f290cbrow0_col6 {\n",
       "            background-color:  #00aa93;\n",
       "            color:  #000000;\n",
       "        }    #T_d0d9a0b2_8f40_11ea_af7b_9810e8f290cbrow0_col7 {\n",
       "            background-color:  #00aa93;\n",
       "            color:  #000000;\n",
       "        }    #T_d0d9a0b2_8f40_11ea_af7b_9810e8f290cbrow0_col8 {\n",
       "            background-color:  #00aa93;\n",
       "            color:  #000000;\n",
       "        }    #T_d0d9a0b2_8f40_11ea_af7b_9810e8f290cbrow1_col0 {\n",
       "            background-color:  #005ddd;\n",
       "            color:  #f1f1f1;\n",
       "        }    #T_d0d9a0b2_8f40_11ea_af7b_9810e8f290cbrow1_col1 {\n",
       "            background-color:  #1800a7;\n",
       "            color:  #f1f1f1;\n",
       "        }    #T_d0d9a0b2_8f40_11ea_af7b_9810e8f290cbrow1_col2 {\n",
       "            background-color:  #000000;\n",
       "            color:  #f1f1f1;\n",
       "        }    #T_d0d9a0b2_8f40_11ea_af7b_9810e8f290cbrow1_col3 {\n",
       "            background-color:  #00aa93;\n",
       "            color:  #000000;\n",
       "        }    #T_d0d9a0b2_8f40_11ea_af7b_9810e8f290cbrow1_col4 {\n",
       "            background-color:  #009cd3;\n",
       "            color:  #000000;\n",
       "        }    #T_d0d9a0b2_8f40_11ea_af7b_9810e8f290cbrow1_col5 {\n",
       "            background-color:  #00aa93;\n",
       "            color:  #000000;\n",
       "        }    #T_d0d9a0b2_8f40_11ea_af7b_9810e8f290cbrow1_col6 {\n",
       "            background-color:  #009bd7;\n",
       "            color:  #000000;\n",
       "        }    #T_d0d9a0b2_8f40_11ea_af7b_9810e8f290cbrow1_col7 {\n",
       "            background-color:  #00aa93;\n",
       "            color:  #000000;\n",
       "        }    #T_d0d9a0b2_8f40_11ea_af7b_9810e8f290cbrow1_col8 {\n",
       "            background-color:  #0098dd;\n",
       "            color:  #000000;\n",
       "        }    #T_d0d9a0b2_8f40_11ea_af7b_9810e8f290cbrow2_col0 {\n",
       "            background-color:  #7d008e;\n",
       "            color:  #f1f1f1;\n",
       "        }    #T_d0d9a0b2_8f40_11ea_af7b_9810e8f290cbrow2_col1 {\n",
       "            background-color:  #009ecf;\n",
       "            color:  #000000;\n",
       "        }    #T_d0d9a0b2_8f40_11ea_af7b_9810e8f290cbrow2_col2 {\n",
       "            background-color:  #2d00a4;\n",
       "            color:  #f1f1f1;\n",
       "        }    #T_d0d9a0b2_8f40_11ea_af7b_9810e8f290cbrow2_col3 {\n",
       "            background-color:  #002fdd;\n",
       "            color:  #f1f1f1;\n",
       "        }    #T_d0d9a0b2_8f40_11ea_af7b_9810e8f290cbrow2_col4 {\n",
       "            background-color:  #004bdd;\n",
       "            color:  #f1f1f1;\n",
       "        }    #T_d0d9a0b2_8f40_11ea_af7b_9810e8f290cbrow2_col5 {\n",
       "            background-color:  #0098dd;\n",
       "            color:  #000000;\n",
       "        }    #T_d0d9a0b2_8f40_11ea_af7b_9810e8f290cbrow2_col6 {\n",
       "            background-color:  #004bdd;\n",
       "            color:  #f1f1f1;\n",
       "        }    #T_d0d9a0b2_8f40_11ea_af7b_9810e8f290cbrow2_col7 {\n",
       "            background-color:  #00aa93;\n",
       "            color:  #000000;\n",
       "        }    #T_d0d9a0b2_8f40_11ea_af7b_9810e8f290cbrow2_col8 {\n",
       "            background-color:  #00aa93;\n",
       "            color:  #000000;\n",
       "        }    #T_d0d9a0b2_8f40_11ea_af7b_9810e8f290cbrow3_col0 {\n",
       "            background-color:  #00dc00;\n",
       "            color:  #000000;\n",
       "        }    #T_d0d9a0b2_8f40_11ea_af7b_9810e8f290cbrow3_col1 {\n",
       "            background-color:  #2cff00;\n",
       "            color:  #000000;\n",
       "        }    #T_d0d9a0b2_8f40_11ea_af7b_9810e8f290cbrow3_col2 {\n",
       "            background-color:  #00ca00;\n",
       "            color:  #000000;\n",
       "        }    #T_d0d9a0b2_8f40_11ea_af7b_9810e8f290cbrow3_col3 {\n",
       "            background-color:  #bcff00;\n",
       "            color:  #000000;\n",
       "        }    #T_d0d9a0b2_8f40_11ea_af7b_9810e8f290cbrow3_col4 {\n",
       "            background-color:  #00f400;\n",
       "            color:  #000000;\n",
       "        }    #T_d0d9a0b2_8f40_11ea_af7b_9810e8f290cbrow3_col5 {\n",
       "            background-color:  #1dff00;\n",
       "            color:  #000000;\n",
       "        }    #T_d0d9a0b2_8f40_11ea_af7b_9810e8f290cbrow3_col6 {\n",
       "            background-color:  #3bff00;\n",
       "            color:  #000000;\n",
       "        }    #T_d0d9a0b2_8f40_11ea_af7b_9810e8f290cbrow3_col7 {\n",
       "            background-color:  #00f700;\n",
       "            color:  #000000;\n",
       "        }    #T_d0d9a0b2_8f40_11ea_af7b_9810e8f290cbrow3_col8 {\n",
       "            background-color:  #84ff00;\n",
       "            color:  #000000;\n",
       "        }    #T_d0d9a0b2_8f40_11ea_af7b_9810e8f290cbrow4_col0 {\n",
       "            background-color:  #00b200;\n",
       "            color:  #000000;\n",
       "        }    #T_d0d9a0b2_8f40_11ea_af7b_9810e8f290cbrow4_col1 {\n",
       "            background-color:  #1dff00;\n",
       "            color:  #000000;\n",
       "        }    #T_d0d9a0b2_8f40_11ea_af7b_9810e8f290cbrow4_col2 {\n",
       "            background-color:  #00d200;\n",
       "            color:  #000000;\n",
       "        }    #T_d0d9a0b2_8f40_11ea_af7b_9810e8f290cbrow4_col3 {\n",
       "            background-color:  #b0ff00;\n",
       "            color:  #000000;\n",
       "        }    #T_d0d9a0b2_8f40_11ea_af7b_9810e8f290cbrow4_col4 {\n",
       "            background-color:  #49ff00;\n",
       "            color:  #000000;\n",
       "        }    #T_d0d9a0b2_8f40_11ea_af7b_9810e8f290cbrow4_col5 {\n",
       "            background-color:  #1dff00;\n",
       "            color:  #000000;\n",
       "        }    #T_d0d9a0b2_8f40_11ea_af7b_9810e8f290cbrow4_col6 {\n",
       "            background-color:  #00fa00;\n",
       "            color:  #000000;\n",
       "        }    #T_d0d9a0b2_8f40_11ea_af7b_9810e8f290cbrow4_col7 {\n",
       "            background-color:  #2cff00;\n",
       "            color:  #000000;\n",
       "        }    #T_d0d9a0b2_8f40_11ea_af7b_9810e8f290cbrow4_col8 {\n",
       "            background-color:  #bcff00;\n",
       "            color:  #000000;\n",
       "        }    #T_d0d9a0b2_8f40_11ea_af7b_9810e8f290cbrow5_col0 {\n",
       "            background-color:  #00fa00;\n",
       "            color:  #000000;\n",
       "        }    #T_d0d9a0b2_8f40_11ea_af7b_9810e8f290cbrow5_col1 {\n",
       "            background-color:  #00cf00;\n",
       "            color:  #000000;\n",
       "        }    #T_d0d9a0b2_8f40_11ea_af7b_9810e8f290cbrow5_col2 {\n",
       "            background-color:  #75ff00;\n",
       "            color:  #000000;\n",
       "        }    #T_d0d9a0b2_8f40_11ea_af7b_9810e8f290cbrow5_col3 {\n",
       "            background-color:  #c0fd00;\n",
       "            color:  #000000;\n",
       "        }    #T_d0d9a0b2_8f40_11ea_af7b_9810e8f290cbrow5_col4 {\n",
       "            background-color:  #58ff00;\n",
       "            color:  #000000;\n",
       "        }    #T_d0d9a0b2_8f40_11ea_af7b_9810e8f290cbrow5_col5 {\n",
       "            background-color:  #d0f800;\n",
       "            color:  #000000;\n",
       "        }    #T_d0d9a0b2_8f40_11ea_af7b_9810e8f290cbrow5_col6 {\n",
       "            background-color:  #75ff00;\n",
       "            color:  #000000;\n",
       "        }    #T_d0d9a0b2_8f40_11ea_af7b_9810e8f290cbrow5_col7 {\n",
       "            background-color:  #ccf900;\n",
       "            color:  #000000;\n",
       "        }    #T_d0d9a0b2_8f40_11ea_af7b_9810e8f290cbrow5_col8 {\n",
       "            background-color:  #f3e500;\n",
       "            color:  #000000;\n",
       "        }    #T_d0d9a0b2_8f40_11ea_af7b_9810e8f290cbrow6_col0 {\n",
       "            background-color:  #d80000;\n",
       "            color:  #f1f1f1;\n",
       "        }    #T_d0d9a0b2_8f40_11ea_af7b_9810e8f290cbrow6_col1 {\n",
       "            background-color:  #cf0000;\n",
       "            color:  #f1f1f1;\n",
       "        }    #T_d0d9a0b2_8f40_11ea_af7b_9810e8f290cbrow6_col2 {\n",
       "            background-color:  #e90000;\n",
       "            color:  #f1f1f1;\n",
       "        }    #T_d0d9a0b2_8f40_11ea_af7b_9810e8f290cbrow6_col3 {\n",
       "            background-color:  #cc0c0c;\n",
       "            color:  #f1f1f1;\n",
       "        }    #T_d0d9a0b2_8f40_11ea_af7b_9810e8f290cbrow6_col4 {\n",
       "            background-color:  #cc0000;\n",
       "            color:  #f1f1f1;\n",
       "        }    #T_d0d9a0b2_8f40_11ea_af7b_9810e8f290cbrow6_col5 {\n",
       "            background-color:  #cf0000;\n",
       "            color:  #f1f1f1;\n",
       "        }    #T_d0d9a0b2_8f40_11ea_af7b_9810e8f290cbrow6_col6 {\n",
       "            background-color:  #cccccc;\n",
       "            color:  #000000;\n",
       "        }    #T_d0d9a0b2_8f40_11ea_af7b_9810e8f290cbrow6_col7 {\n",
       "            background-color:  #cc6c6c;\n",
       "            color:  #000000;\n",
       "        }    #T_d0d9a0b2_8f40_11ea_af7b_9810e8f290cbrow6_col8 {\n",
       "            background-color:  #cc2c2c;\n",
       "            color:  #f1f1f1;\n",
       "        }    #T_d0d9a0b2_8f40_11ea_af7b_9810e8f290cbrow7_col0 {\n",
       "            background-color:  #da0000;\n",
       "            color:  #f1f1f1;\n",
       "        }    #T_d0d9a0b2_8f40_11ea_af7b_9810e8f290cbrow7_col1 {\n",
       "            background-color:  #e90000;\n",
       "            color:  #f1f1f1;\n",
       "        }    #T_d0d9a0b2_8f40_11ea_af7b_9810e8f290cbrow7_col2 {\n",
       "            background-color:  #d80000;\n",
       "            color:  #f1f1f1;\n",
       "        }    #T_d0d9a0b2_8f40_11ea_af7b_9810e8f290cbrow7_col3 {\n",
       "            background-color:  #cc6c6c;\n",
       "            color:  #000000;\n",
       "        }    #T_d0d9a0b2_8f40_11ea_af7b_9810e8f290cbrow7_col4 {\n",
       "            background-color:  #cc9c9c;\n",
       "            color:  #000000;\n",
       "        }    #T_d0d9a0b2_8f40_11ea_af7b_9810e8f290cbrow7_col5 {\n",
       "            background-color:  #cf0000;\n",
       "            color:  #f1f1f1;\n",
       "        }    #T_d0d9a0b2_8f40_11ea_af7b_9810e8f290cbrow7_col6 {\n",
       "            background-color:  #cc0000;\n",
       "            color:  #f1f1f1;\n",
       "        }    #T_d0d9a0b2_8f40_11ea_af7b_9810e8f290cbrow7_col7 {\n",
       "            background-color:  #cc7c7c;\n",
       "            color:  #000000;\n",
       "        }    #T_d0d9a0b2_8f40_11ea_af7b_9810e8f290cbrow7_col8 {\n",
       "            background-color:  #cc3c3c;\n",
       "            color:  #f1f1f1;\n",
       "        }    #T_d0d9a0b2_8f40_11ea_af7b_9810e8f290cbrow8_col0 {\n",
       "            background-color:  #d60000;\n",
       "            color:  #f1f1f1;\n",
       "        }    #T_d0d9a0b2_8f40_11ea_af7b_9810e8f290cbrow8_col1 {\n",
       "            background-color:  #ce0000;\n",
       "            color:  #f1f1f1;\n",
       "        }    #T_d0d9a0b2_8f40_11ea_af7b_9810e8f290cbrow8_col2 {\n",
       "            background-color:  #fe0000;\n",
       "            color:  #f1f1f1;\n",
       "        }    #T_d0d9a0b2_8f40_11ea_af7b_9810e8f290cbrow8_col3 {\n",
       "            background-color:  #d20000;\n",
       "            color:  #f1f1f1;\n",
       "        }    #T_d0d9a0b2_8f40_11ea_af7b_9810e8f290cbrow8_col4 {\n",
       "            background-color:  #d70000;\n",
       "            color:  #f1f1f1;\n",
       "        }    #T_d0d9a0b2_8f40_11ea_af7b_9810e8f290cbrow8_col5 {\n",
       "            background-color:  #cc1c1c;\n",
       "            color:  #f1f1f1;\n",
       "        }    #T_d0d9a0b2_8f40_11ea_af7b_9810e8f290cbrow8_col6 {\n",
       "            background-color:  #cc5c5c;\n",
       "            color:  #000000;\n",
       "        }    #T_d0d9a0b2_8f40_11ea_af7b_9810e8f290cbrow8_col7 {\n",
       "            background-color:  #cc5c5c;\n",
       "            color:  #000000;\n",
       "        }    #T_d0d9a0b2_8f40_11ea_af7b_9810e8f290cbrow8_col8 {\n",
       "            background-color:  #cc3c3c;\n",
       "            color:  #f1f1f1;\n",
       "        }</style><table id=\"T_d0d9a0b2_8f40_11ea_af7b_9810e8f290cb\" ><thead>    <tr>        <th class=\"blank\" ></th>        <th class=\"index_name level0\" >param_n_estimators</th>        <th class=\"col_heading level0 col0\" colspan=3>2</th>        <th class=\"col_heading level0 col3\" colspan=3>3</th>        <th class=\"col_heading level0 col6\" colspan=3>4</th>    </tr>    <tr>        <th class=\"blank\" ></th>        <th class=\"index_name level1\" >param_min_samples_split</th>        <th class=\"col_heading level1 col0\" >2</th>        <th class=\"col_heading level1 col1\" >3</th>        <th class=\"col_heading level1 col2\" >4</th>        <th class=\"col_heading level1 col3\" >2</th>        <th class=\"col_heading level1 col4\" >3</th>        <th class=\"col_heading level1 col5\" >4</th>        <th class=\"col_heading level1 col6\" >2</th>        <th class=\"col_heading level1 col7\" >3</th>        <th class=\"col_heading level1 col8\" >4</th>    </tr>    <tr>        <th class=\"index_name level0\" >param_max_depth</th>        <th class=\"index_name level1\" >param_min_samples_leaf</th>        <th class=\"blank\" ></th>        <th class=\"blank\" ></th>        <th class=\"blank\" ></th>        <th class=\"blank\" ></th>        <th class=\"blank\" ></th>        <th class=\"blank\" ></th>        <th class=\"blank\" ></th>        <th class=\"blank\" ></th>        <th class=\"blank\" ></th>    </tr></thead><tbody>\n",
       "                <tr>\n",
       "                        <th id=\"T_d0d9a0b2_8f40_11ea_af7b_9810e8f290cblevel0_row0\" class=\"row_heading level0 row0\" rowspan=3>1</th>\n",
       "                        <th id=\"T_d0d9a0b2_8f40_11ea_af7b_9810e8f290cblevel1_row0\" class=\"row_heading level1 row0\" >1</th>\n",
       "                        <td id=\"T_d0d9a0b2_8f40_11ea_af7b_9810e8f290cbrow0_col0\" class=\"data row0 col0\" >0.46</td>\n",
       "                        <td id=\"T_d0d9a0b2_8f40_11ea_af7b_9810e8f290cbrow0_col1\" class=\"data row0 col1\" >0.484</td>\n",
       "                        <td id=\"T_d0d9a0b2_8f40_11ea_af7b_9810e8f290cbrow0_col2\" class=\"data row0 col2\" >0.469</td>\n",
       "                        <td id=\"T_d0d9a0b2_8f40_11ea_af7b_9810e8f290cbrow0_col3\" class=\"data row0 col3\" >0.508</td>\n",
       "                        <td id=\"T_d0d9a0b2_8f40_11ea_af7b_9810e8f290cbrow0_col4\" class=\"data row0 col4\" >0.501</td>\n",
       "                        <td id=\"T_d0d9a0b2_8f40_11ea_af7b_9810e8f290cbrow0_col5\" class=\"data row0 col5\" >0.501</td>\n",
       "                        <td id=\"T_d0d9a0b2_8f40_11ea_af7b_9810e8f290cbrow0_col6\" class=\"data row0 col6\" >0.54</td>\n",
       "                        <td id=\"T_d0d9a0b2_8f40_11ea_af7b_9810e8f290cbrow0_col7\" class=\"data row0 col7\" >0.54</td>\n",
       "                        <td id=\"T_d0d9a0b2_8f40_11ea_af7b_9810e8f290cbrow0_col8\" class=\"data row0 col8\" >0.54</td>\n",
       "            </tr>\n",
       "            <tr>\n",
       "                                <th id=\"T_d0d9a0b2_8f40_11ea_af7b_9810e8f290cblevel1_row1\" class=\"row_heading level1 row1\" >2</th>\n",
       "                        <td id=\"T_d0d9a0b2_8f40_11ea_af7b_9810e8f290cbrow1_col0\" class=\"data row1 col0\" >0.474</td>\n",
       "                        <td id=\"T_d0d9a0b2_8f40_11ea_af7b_9810e8f290cbrow1_col1\" class=\"data row1 col1\" >0.429</td>\n",
       "                        <td id=\"T_d0d9a0b2_8f40_11ea_af7b_9810e8f290cbrow1_col2\" class=\"data row1 col2\" >0.364</td>\n",
       "                        <td id=\"T_d0d9a0b2_8f40_11ea_af7b_9810e8f290cbrow1_col3\" class=\"data row1 col3\" >0.539</td>\n",
       "                        <td id=\"T_d0d9a0b2_8f40_11ea_af7b_9810e8f290cbrow1_col4\" class=\"data row1 col4\" >0.506</td>\n",
       "                        <td id=\"T_d0d9a0b2_8f40_11ea_af7b_9810e8f290cbrow1_col5\" class=\"data row1 col5\" >0.539</td>\n",
       "                        <td id=\"T_d0d9a0b2_8f40_11ea_af7b_9810e8f290cbrow1_col6\" class=\"data row1 col6\" >0.505</td>\n",
       "                        <td id=\"T_d0d9a0b2_8f40_11ea_af7b_9810e8f290cbrow1_col7\" class=\"data row1 col7\" >0.54</td>\n",
       "                        <td id=\"T_d0d9a0b2_8f40_11ea_af7b_9810e8f290cbrow1_col8\" class=\"data row1 col8\" >0.501</td>\n",
       "            </tr>\n",
       "            <tr>\n",
       "                                <th id=\"T_d0d9a0b2_8f40_11ea_af7b_9810e8f290cblevel1_row2\" class=\"row_heading level1 row2\" >3</th>\n",
       "                        <td id=\"T_d0d9a0b2_8f40_11ea_af7b_9810e8f290cbrow2_col0\" class=\"data row2 col0\" >0.396</td>\n",
       "                        <td id=\"T_d0d9a0b2_8f40_11ea_af7b_9810e8f290cbrow2_col1\" class=\"data row2 col1\" >0.508</td>\n",
       "                        <td id=\"T_d0d9a0b2_8f40_11ea_af7b_9810e8f290cbrow2_col2\" class=\"data row2 col2\" >0.426</td>\n",
       "                        <td id=\"T_d0d9a0b2_8f40_11ea_af7b_9810e8f290cbrow2_col3\" class=\"data row2 col3\" >0.464</td>\n",
       "                        <td id=\"T_d0d9a0b2_8f40_11ea_af7b_9810e8f290cbrow2_col4\" class=\"data row2 col4\" >0.47</td>\n",
       "                        <td id=\"T_d0d9a0b2_8f40_11ea_af7b_9810e8f290cbrow2_col5\" class=\"data row2 col5\" >0.5</td>\n",
       "                        <td id=\"T_d0d9a0b2_8f40_11ea_af7b_9810e8f290cbrow2_col6\" class=\"data row2 col6\" >0.471</td>\n",
       "                        <td id=\"T_d0d9a0b2_8f40_11ea_af7b_9810e8f290cbrow2_col7\" class=\"data row2 col7\" >0.54</td>\n",
       "                        <td id=\"T_d0d9a0b2_8f40_11ea_af7b_9810e8f290cbrow2_col8\" class=\"data row2 col8\" >0.54</td>\n",
       "            </tr>\n",
       "            <tr>\n",
       "                        <th id=\"T_d0d9a0b2_8f40_11ea_af7b_9810e8f290cblevel0_row3\" class=\"row_heading level0 row3\" rowspan=3>2</th>\n",
       "                        <th id=\"T_d0d9a0b2_8f40_11ea_af7b_9810e8f290cblevel1_row3\" class=\"row_heading level1 row3\" >1</th>\n",
       "                        <td id=\"T_d0d9a0b2_8f40_11ea_af7b_9810e8f290cbrow3_col0\" class=\"data row3 col0\" >0.614</td>\n",
       "                        <td id=\"T_d0d9a0b2_8f40_11ea_af7b_9810e8f290cbrow3_col1\" class=\"data row3 col1\" >0.644</td>\n",
       "                        <td id=\"T_d0d9a0b2_8f40_11ea_af7b_9810e8f290cbrow3_col2\" class=\"data row3 col2\" >0.603</td>\n",
       "                        <td id=\"T_d0d9a0b2_8f40_11ea_af7b_9810e8f290cbrow3_col3\" class=\"data row3 col3\" >0.662</td>\n",
       "                        <td id=\"T_d0d9a0b2_8f40_11ea_af7b_9810e8f290cbrow3_col4\" class=\"data row3 col4\" >0.63</td>\n",
       "                        <td id=\"T_d0d9a0b2_8f40_11ea_af7b_9810e8f290cbrow3_col5\" class=\"data row3 col5\" >0.642</td>\n",
       "                        <td id=\"T_d0d9a0b2_8f40_11ea_af7b_9810e8f290cbrow3_col6\" class=\"data row3 col6\" >0.645</td>\n",
       "                        <td id=\"T_d0d9a0b2_8f40_11ea_af7b_9810e8f290cbrow3_col7\" class=\"data row3 col7\" >0.633</td>\n",
       "                        <td id=\"T_d0d9a0b2_8f40_11ea_af7b_9810e8f290cbrow3_col8\" class=\"data row3 col8\" >0.654</td>\n",
       "            </tr>\n",
       "            <tr>\n",
       "                                <th id=\"T_d0d9a0b2_8f40_11ea_af7b_9810e8f290cblevel1_row4\" class=\"row_heading level1 row4\" >2</th>\n",
       "                        <td id=\"T_d0d9a0b2_8f40_11ea_af7b_9810e8f290cbrow4_col0\" class=\"data row4 col0\" >0.586</td>\n",
       "                        <td id=\"T_d0d9a0b2_8f40_11ea_af7b_9810e8f290cbrow4_col1\" class=\"data row4 col1\" >0.642</td>\n",
       "                        <td id=\"T_d0d9a0b2_8f40_11ea_af7b_9810e8f290cbrow4_col2\" class=\"data row4 col2\" >0.607</td>\n",
       "                        <td id=\"T_d0d9a0b2_8f40_11ea_af7b_9810e8f290cbrow4_col3\" class=\"data row4 col3\" >0.66</td>\n",
       "                        <td id=\"T_d0d9a0b2_8f40_11ea_af7b_9810e8f290cbrow4_col4\" class=\"data row4 col4\" >0.647</td>\n",
       "                        <td id=\"T_d0d9a0b2_8f40_11ea_af7b_9810e8f290cbrow4_col5\" class=\"data row4 col5\" >0.641</td>\n",
       "                        <td id=\"T_d0d9a0b2_8f40_11ea_af7b_9810e8f290cbrow4_col6\" class=\"data row4 col6\" >0.634</td>\n",
       "                        <td id=\"T_d0d9a0b2_8f40_11ea_af7b_9810e8f290cbrow4_col7\" class=\"data row4 col7\" >0.644</td>\n",
       "                        <td id=\"T_d0d9a0b2_8f40_11ea_af7b_9810e8f290cbrow4_col8\" class=\"data row4 col8\" >0.662</td>\n",
       "            </tr>\n",
       "            <tr>\n",
       "                                <th id=\"T_d0d9a0b2_8f40_11ea_af7b_9810e8f290cblevel1_row5\" class=\"row_heading level1 row5\" >3</th>\n",
       "                        <td id=\"T_d0d9a0b2_8f40_11ea_af7b_9810e8f290cbrow5_col0\" class=\"data row5 col0\" >0.634</td>\n",
       "                        <td id=\"T_d0d9a0b2_8f40_11ea_af7b_9810e8f290cbrow5_col1\" class=\"data row5 col1\" >0.605</td>\n",
       "                        <td id=\"T_d0d9a0b2_8f40_11ea_af7b_9810e8f290cbrow5_col2\" class=\"data row5 col2\" >0.652</td>\n",
       "                        <td id=\"T_d0d9a0b2_8f40_11ea_af7b_9810e8f290cbrow5_col3\" class=\"data row5 col3\" >0.663</td>\n",
       "                        <td id=\"T_d0d9a0b2_8f40_11ea_af7b_9810e8f290cbrow5_col4\" class=\"data row5 col4\" >0.649</td>\n",
       "                        <td id=\"T_d0d9a0b2_8f40_11ea_af7b_9810e8f290cbrow5_col5\" class=\"data row5 col5\" >0.671</td>\n",
       "                        <td id=\"T_d0d9a0b2_8f40_11ea_af7b_9810e8f290cbrow5_col6\" class=\"data row5 col6\" >0.653</td>\n",
       "                        <td id=\"T_d0d9a0b2_8f40_11ea_af7b_9810e8f290cbrow5_col7\" class=\"data row5 col7\" >0.668</td>\n",
       "                        <td id=\"T_d0d9a0b2_8f40_11ea_af7b_9810e8f290cbrow5_col8\" class=\"data row5 col8\" >0.689</td>\n",
       "            </tr>\n",
       "            <tr>\n",
       "                        <th id=\"T_d0d9a0b2_8f40_11ea_af7b_9810e8f290cblevel0_row6\" class=\"row_heading level0 row6\" rowspan=3>3</th>\n",
       "                        <th id=\"T_d0d9a0b2_8f40_11ea_af7b_9810e8f290cblevel1_row6\" class=\"row_heading level1 row6\" >1</th>\n",
       "                        <td id=\"T_d0d9a0b2_8f40_11ea_af7b_9810e8f290cbrow6_col0\" class=\"data row6 col0\" >0.781</td>\n",
       "                        <td id=\"T_d0d9a0b2_8f40_11ea_af7b_9810e8f290cbrow6_col1\" class=\"data row6 col1\" >0.793</td>\n",
       "                        <td id=\"T_d0d9a0b2_8f40_11ea_af7b_9810e8f290cbrow6_col2\" class=\"data row6 col2\" >0.766</td>\n",
       "                        <td id=\"T_d0d9a0b2_8f40_11ea_af7b_9810e8f290cbrow6_col3\" class=\"data row6 col3\" >0.799</td>\n",
       "                        <td id=\"T_d0d9a0b2_8f40_11ea_af7b_9810e8f290cbrow6_col4\" class=\"data row6 col4\" >0.797</td>\n",
       "                        <td id=\"T_d0d9a0b2_8f40_11ea_af7b_9810e8f290cbrow6_col5\" class=\"data row6 col5\" >0.793</td>\n",
       "                        <td id=\"T_d0d9a0b2_8f40_11ea_af7b_9810e8f290cbrow6_col6\" class=\"data row6 col6\" >0.821</td>\n",
       "                        <td id=\"T_d0d9a0b2_8f40_11ea_af7b_9810e8f290cbrow6_col7\" class=\"data row6 col7\" >0.809</td>\n",
       "                        <td id=\"T_d0d9a0b2_8f40_11ea_af7b_9810e8f290cbrow6_col8\" class=\"data row6 col8\" >0.803</td>\n",
       "            </tr>\n",
       "            <tr>\n",
       "                                <th id=\"T_d0d9a0b2_8f40_11ea_af7b_9810e8f290cblevel1_row7\" class=\"row_heading level1 row7\" >2</th>\n",
       "                        <td id=\"T_d0d9a0b2_8f40_11ea_af7b_9810e8f290cbrow7_col0\" class=\"data row7 col0\" >0.779</td>\n",
       "                        <td id=\"T_d0d9a0b2_8f40_11ea_af7b_9810e8f290cbrow7_col1\" class=\"data row7 col1\" >0.766</td>\n",
       "                        <td id=\"T_d0d9a0b2_8f40_11ea_af7b_9810e8f290cbrow7_col2\" class=\"data row7 col2\" >0.781</td>\n",
       "                        <td id=\"T_d0d9a0b2_8f40_11ea_af7b_9810e8f290cbrow7_col3\" class=\"data row7 col3\" >0.81</td>\n",
       "                        <td id=\"T_d0d9a0b2_8f40_11ea_af7b_9810e8f290cbrow7_col4\" class=\"data row7 col4\" >0.815</td>\n",
       "                        <td id=\"T_d0d9a0b2_8f40_11ea_af7b_9810e8f290cbrow7_col5\" class=\"data row7 col5\" >0.793</td>\n",
       "                        <td id=\"T_d0d9a0b2_8f40_11ea_af7b_9810e8f290cbrow7_col6\" class=\"data row7 col6\" >0.797</td>\n",
       "                        <td id=\"T_d0d9a0b2_8f40_11ea_af7b_9810e8f290cbrow7_col7\" class=\"data row7 col7\" >0.812</td>\n",
       "                        <td id=\"T_d0d9a0b2_8f40_11ea_af7b_9810e8f290cbrow7_col8\" class=\"data row7 col8\" >0.804</td>\n",
       "            </tr>\n",
       "            <tr>\n",
       "                                <th id=\"T_d0d9a0b2_8f40_11ea_af7b_9810e8f290cblevel1_row8\" class=\"row_heading level1 row8\" >3</th>\n",
       "                        <td id=\"T_d0d9a0b2_8f40_11ea_af7b_9810e8f290cbrow8_col0\" class=\"data row8 col0\" >0.784</td>\n",
       "                        <td id=\"T_d0d9a0b2_8f40_11ea_af7b_9810e8f290cbrow8_col1\" class=\"data row8 col1\" >0.796</td>\n",
       "                        <td id=\"T_d0d9a0b2_8f40_11ea_af7b_9810e8f290cbrow8_col2\" class=\"data row8 col2\" >0.753</td>\n",
       "                        <td id=\"T_d0d9a0b2_8f40_11ea_af7b_9810e8f290cbrow8_col3\" class=\"data row8 col3\" >0.789</td>\n",
       "                        <td id=\"T_d0d9a0b2_8f40_11ea_af7b_9810e8f290cbrow8_col4\" class=\"data row8 col4\" >0.782</td>\n",
       "                        <td id=\"T_d0d9a0b2_8f40_11ea_af7b_9810e8f290cbrow8_col5\" class=\"data row8 col5\" >0.801</td>\n",
       "                        <td id=\"T_d0d9a0b2_8f40_11ea_af7b_9810e8f290cbrow8_col6\" class=\"data row8 col6\" >0.807</td>\n",
       "                        <td id=\"T_d0d9a0b2_8f40_11ea_af7b_9810e8f290cbrow8_col7\" class=\"data row8 col7\" >0.807</td>\n",
       "                        <td id=\"T_d0d9a0b2_8f40_11ea_af7b_9810e8f290cbrow8_col8\" class=\"data row8 col8\" >0.804</td>\n",
       "            </tr>\n",
       "    </tbody></table>"
      ],
      "text/plain": [
       "<pandas.io.formats.style.Styler at 0x7f8363ff04e0>"
      ]
     },
     "execution_count": 53,
     "metadata": {},
     "output_type": "execute_result"
    }
   ],
   "source": [
    "# Instantiate grid search with 4 hyperparameters \n",
    "gscv = GridSearchCV(\n",
    "    rf, \n",
    "    {\"max_depth\": range(1, 4),\n",
    "     \"n_estimators\": range(2, 5), \n",
    "     \"min_samples_leaf\": range(1, 4),\n",
    "     \"min_samples_split\": range(2, 5)},\n",
    "    cv=kf, \n",
    "    n_jobs=-1\n",
    ")\n",
    "gscv.fit(features_X, concat_y)\n",
    "\n",
    "# Get cross-validation data\n",
    "cv_df = pd.DataFrame(gscv.cv_results_)\n",
    "\n",
    "# Create a heatmap-style table, use df.pivot_table\n",
    "piv_df = cv_df.pivot_table(index=[\"param_max_depth\", \"param_min_samples_leaf\"],\n",
    "           columns=[\"param_n_estimators\", \"param_min_samples_split\"],\n",
    "           values=\"mean_test_score\").round(3)\n",
    "piv_df.style.background_gradient(cmap=\"nipy_spectral\", axis=None)"
   ]
  },
  {
   "cell_type": "markdown",
   "metadata": {},
   "source": [
    "Changing max_depth (levels of tree) improves classification score more than changing n_estimators (number of trees)"
   ]
  },
  {
   "cell_type": "code",
   "execution_count": 55,
   "metadata": {},
   "outputs": [
    {
     "name": "stderr",
     "output_type": "stream",
     "text": [
      "/Users/hayaw/anaconda3/lib/python3.7/site-packages/joblib/externals/loky/process_executor.py:706: UserWarning: A worker stopped while some jobs were given to the executor. This can be caused by a too short worker timeout or by a memory leak.\n",
      "  \"timeout or by a memory leak.\", UserWarning\n"
     ]
    },
    {
     "data": {
      "text/html": [
       "<style  type=\"text/css\" >\n",
       "    #T_53fa414a_8f41_11ea_af7b_9810e8f290cbrow0_col0 {\n",
       "            background-color:  #000000;\n",
       "            color:  #f1f1f1;\n",
       "        }    #T_53fa414a_8f41_11ea_af7b_9810e8f290cbrow0_col1 {\n",
       "            background-color:  #0000cd;\n",
       "            color:  #f1f1f1;\n",
       "        }    #T_53fa414a_8f41_11ea_af7b_9810e8f290cbrow0_col2 {\n",
       "            background-color:  #007ddd;\n",
       "            color:  #f1f1f1;\n",
       "        }    #T_53fa414a_8f41_11ea_af7b_9810e8f290cbrow0_col3 {\n",
       "            background-color:  #0080dd;\n",
       "            color:  #000000;\n",
       "        }    #T_53fa414a_8f41_11ea_af7b_9810e8f290cbrow0_col4 {\n",
       "            background-color:  #007ddd;\n",
       "            color:  #f1f1f1;\n",
       "        }    #T_53fa414a_8f41_11ea_af7b_9810e8f290cbrow0_col5 {\n",
       "            background-color:  #007ddd;\n",
       "            color:  #f1f1f1;\n",
       "        }    #T_53fa414a_8f41_11ea_af7b_9810e8f290cbrow0_col6 {\n",
       "            background-color:  #007ddd;\n",
       "            color:  #f1f1f1;\n",
       "        }    #T_53fa414a_8f41_11ea_af7b_9810e8f290cbrow0_col7 {\n",
       "            background-color:  #007ddd;\n",
       "            color:  #f1f1f1;\n",
       "        }    #T_53fa414a_8f41_11ea_af7b_9810e8f290cbrow1_col0 {\n",
       "            background-color:  #00aa93;\n",
       "            color:  #000000;\n",
       "        }    #T_53fa414a_8f41_11ea_af7b_9810e8f290cbrow1_col1 {\n",
       "            background-color:  #00ca00;\n",
       "            color:  #000000;\n",
       "        }    #T_53fa414a_8f41_11ea_af7b_9810e8f290cbrow1_col2 {\n",
       "            background-color:  #00b200;\n",
       "            color:  #000000;\n",
       "        }    #T_53fa414a_8f41_11ea_af7b_9810e8f290cbrow1_col3 {\n",
       "            background-color:  #00b700;\n",
       "            color:  #000000;\n",
       "        }    #T_53fa414a_8f41_11ea_af7b_9810e8f290cbrow1_col4 {\n",
       "            background-color:  #00b200;\n",
       "            color:  #000000;\n",
       "        }    #T_53fa414a_8f41_11ea_af7b_9810e8f290cbrow1_col5 {\n",
       "            background-color:  #00cc00;\n",
       "            color:  #000000;\n",
       "        }    #T_53fa414a_8f41_11ea_af7b_9810e8f290cbrow1_col6 {\n",
       "            background-color:  #00b400;\n",
       "            color:  #000000;\n",
       "        }    #T_53fa414a_8f41_11ea_af7b_9810e8f290cbrow1_col7 {\n",
       "            background-color:  #1dff00;\n",
       "            color:  #000000;\n",
       "        }    #T_53fa414a_8f41_11ea_af7b_9810e8f290cbrow2_col0 {\n",
       "            background-color:  #f3e500;\n",
       "            color:  #000000;\n",
       "        }    #T_53fa414a_8f41_11ea_af7b_9810e8f290cbrow2_col1 {\n",
       "            background-color:  #ffc100;\n",
       "            color:  #000000;\n",
       "        }    #T_53fa414a_8f41_11ea_af7b_9810e8f290cbrow2_col2 {\n",
       "            background-color:  #ffad00;\n",
       "            color:  #000000;\n",
       "        }    #T_53fa414a_8f41_11ea_af7b_9810e8f290cbrow2_col3 {\n",
       "            background-color:  #ffad00;\n",
       "            color:  #000000;\n",
       "        }    #T_53fa414a_8f41_11ea_af7b_9810e8f290cbrow2_col4 {\n",
       "            background-color:  #ffa900;\n",
       "            color:  #000000;\n",
       "        }    #T_53fa414a_8f41_11ea_af7b_9810e8f290cbrow2_col5 {\n",
       "            background-color:  #ff8100;\n",
       "            color:  #000000;\n",
       "        }    #T_53fa414a_8f41_11ea_af7b_9810e8f290cbrow2_col6 {\n",
       "            background-color:  #ff9900;\n",
       "            color:  #000000;\n",
       "        }    #T_53fa414a_8f41_11ea_af7b_9810e8f290cbrow2_col7 {\n",
       "            background-color:  #ff8d00;\n",
       "            color:  #000000;\n",
       "        }    #T_53fa414a_8f41_11ea_af7b_9810e8f290cbrow3_col0 {\n",
       "            background-color:  #ffc100;\n",
       "            color:  #000000;\n",
       "        }    #T_53fa414a_8f41_11ea_af7b_9810e8f290cbrow3_col1 {\n",
       "            background-color:  #ff9900;\n",
       "            color:  #000000;\n",
       "        }    #T_53fa414a_8f41_11ea_af7b_9810e8f290cbrow3_col2 {\n",
       "            background-color:  #ff4500;\n",
       "            color:  #f1f1f1;\n",
       "        }    #T_53fa414a_8f41_11ea_af7b_9810e8f290cbrow3_col3 {\n",
       "            background-color:  #ff3900;\n",
       "            color:  #f1f1f1;\n",
       "        }    #T_53fa414a_8f41_11ea_af7b_9810e8f290cbrow3_col4 {\n",
       "            background-color:  #ff3900;\n",
       "            color:  #f1f1f1;\n",
       "        }    #T_53fa414a_8f41_11ea_af7b_9810e8f290cbrow3_col5 {\n",
       "            background-color:  #ff2d00;\n",
       "            color:  #f1f1f1;\n",
       "        }    #T_53fa414a_8f41_11ea_af7b_9810e8f290cbrow3_col6 {\n",
       "            background-color:  #ff0900;\n",
       "            color:  #f1f1f1;\n",
       "        }    #T_53fa414a_8f41_11ea_af7b_9810e8f290cbrow3_col7 {\n",
       "            background-color:  #ff1500;\n",
       "            color:  #f1f1f1;\n",
       "        }    #T_53fa414a_8f41_11ea_af7b_9810e8f290cbrow4_col0 {\n",
       "            background-color:  #ff2100;\n",
       "            color:  #f1f1f1;\n",
       "        }    #T_53fa414a_8f41_11ea_af7b_9810e8f290cbrow4_col1 {\n",
       "            background-color:  #f40000;\n",
       "            color:  #f1f1f1;\n",
       "        }    #T_53fa414a_8f41_11ea_af7b_9810e8f290cbrow4_col2 {\n",
       "            background-color:  #f40000;\n",
       "            color:  #f1f1f1;\n",
       "        }    #T_53fa414a_8f41_11ea_af7b_9810e8f290cbrow4_col3 {\n",
       "            background-color:  #ec0000;\n",
       "            color:  #f1f1f1;\n",
       "        }    #T_53fa414a_8f41_11ea_af7b_9810e8f290cbrow4_col4 {\n",
       "            background-color:  #e60000;\n",
       "            color:  #f1f1f1;\n",
       "        }    #T_53fa414a_8f41_11ea_af7b_9810e8f290cbrow4_col5 {\n",
       "            background-color:  #e90000;\n",
       "            color:  #f1f1f1;\n",
       "        }    #T_53fa414a_8f41_11ea_af7b_9810e8f290cbrow4_col6 {\n",
       "            background-color:  #ee0000;\n",
       "            color:  #f1f1f1;\n",
       "        }    #T_53fa414a_8f41_11ea_af7b_9810e8f290cbrow4_col7 {\n",
       "            background-color:  #ee0000;\n",
       "            color:  #f1f1f1;\n",
       "        }    #T_53fa414a_8f41_11ea_af7b_9810e8f290cbrow5_col0 {\n",
       "            background-color:  #ee0000;\n",
       "            color:  #f1f1f1;\n",
       "        }    #T_53fa414a_8f41_11ea_af7b_9810e8f290cbrow5_col1 {\n",
       "            background-color:  #de0000;\n",
       "            color:  #f1f1f1;\n",
       "        }    #T_53fa414a_8f41_11ea_af7b_9810e8f290cbrow5_col2 {\n",
       "            background-color:  #dc0000;\n",
       "            color:  #f1f1f1;\n",
       "        }    #T_53fa414a_8f41_11ea_af7b_9810e8f290cbrow5_col3 {\n",
       "            background-color:  #de0000;\n",
       "            color:  #f1f1f1;\n",
       "        }    #T_53fa414a_8f41_11ea_af7b_9810e8f290cbrow5_col4 {\n",
       "            background-color:  #dc0000;\n",
       "            color:  #f1f1f1;\n",
       "        }    #T_53fa414a_8f41_11ea_af7b_9810e8f290cbrow5_col5 {\n",
       "            background-color:  #da0000;\n",
       "            color:  #f1f1f1;\n",
       "        }    #T_53fa414a_8f41_11ea_af7b_9810e8f290cbrow5_col6 {\n",
       "            background-color:  #d70000;\n",
       "            color:  #f1f1f1;\n",
       "        }    #T_53fa414a_8f41_11ea_af7b_9810e8f290cbrow5_col7 {\n",
       "            background-color:  #d60000;\n",
       "            color:  #f1f1f1;\n",
       "        }    #T_53fa414a_8f41_11ea_af7b_9810e8f290cbrow6_col0 {\n",
       "            background-color:  #dc0000;\n",
       "            color:  #f1f1f1;\n",
       "        }    #T_53fa414a_8f41_11ea_af7b_9810e8f290cbrow6_col1 {\n",
       "            background-color:  #d70000;\n",
       "            color:  #f1f1f1;\n",
       "        }    #T_53fa414a_8f41_11ea_af7b_9810e8f290cbrow6_col2 {\n",
       "            background-color:  #d20000;\n",
       "            color:  #f1f1f1;\n",
       "        }    #T_53fa414a_8f41_11ea_af7b_9810e8f290cbrow6_col3 {\n",
       "            background-color:  #d00000;\n",
       "            color:  #f1f1f1;\n",
       "        }    #T_53fa414a_8f41_11ea_af7b_9810e8f290cbrow6_col4 {\n",
       "            background-color:  #ce0000;\n",
       "            color:  #f1f1f1;\n",
       "        }    #T_53fa414a_8f41_11ea_af7b_9810e8f290cbrow6_col5 {\n",
       "            background-color:  #cc0000;\n",
       "            color:  #f1f1f1;\n",
       "        }    #T_53fa414a_8f41_11ea_af7b_9810e8f290cbrow6_col6 {\n",
       "            background-color:  #cc1c1c;\n",
       "            color:  #f1f1f1;\n",
       "        }    #T_53fa414a_8f41_11ea_af7b_9810e8f290cbrow6_col7 {\n",
       "            background-color:  #ce0000;\n",
       "            color:  #f1f1f1;\n",
       "        }    #T_53fa414a_8f41_11ea_af7b_9810e8f290cbrow7_col0 {\n",
       "            background-color:  #db0000;\n",
       "            color:  #f1f1f1;\n",
       "        }    #T_53fa414a_8f41_11ea_af7b_9810e8f290cbrow7_col1 {\n",
       "            background-color:  #ce0000;\n",
       "            color:  #f1f1f1;\n",
       "        }    #T_53fa414a_8f41_11ea_af7b_9810e8f290cbrow7_col2 {\n",
       "            background-color:  #ce0000;\n",
       "            color:  #f1f1f1;\n",
       "        }    #T_53fa414a_8f41_11ea_af7b_9810e8f290cbrow7_col3 {\n",
       "            background-color:  #cc6c6c;\n",
       "            color:  #000000;\n",
       "        }    #T_53fa414a_8f41_11ea_af7b_9810e8f290cbrow7_col4 {\n",
       "            background-color:  #cc5c5c;\n",
       "            color:  #000000;\n",
       "        }    #T_53fa414a_8f41_11ea_af7b_9810e8f290cbrow7_col5 {\n",
       "            background-color:  #cc8c8c;\n",
       "            color:  #000000;\n",
       "        }    #T_53fa414a_8f41_11ea_af7b_9810e8f290cbrow7_col6 {\n",
       "            background-color:  #cc5c5c;\n",
       "            color:  #000000;\n",
       "        }    #T_53fa414a_8f41_11ea_af7b_9810e8f290cbrow7_col7 {\n",
       "            background-color:  #cc6c6c;\n",
       "            color:  #000000;\n",
       "        }    #T_53fa414a_8f41_11ea_af7b_9810e8f290cbrow8_col0 {\n",
       "            background-color:  #d30000;\n",
       "            color:  #f1f1f1;\n",
       "        }    #T_53fa414a_8f41_11ea_af7b_9810e8f290cbrow8_col1 {\n",
       "            background-color:  #cc4c4c;\n",
       "            color:  #f1f1f1;\n",
       "        }    #T_53fa414a_8f41_11ea_af7b_9810e8f290cbrow8_col2 {\n",
       "            background-color:  #cc7c7c;\n",
       "            color:  #000000;\n",
       "        }    #T_53fa414a_8f41_11ea_af7b_9810e8f290cbrow8_col3 {\n",
       "            background-color:  #cc7c7c;\n",
       "            color:  #000000;\n",
       "        }    #T_53fa414a_8f41_11ea_af7b_9810e8f290cbrow8_col4 {\n",
       "            background-color:  #ccacac;\n",
       "            color:  #000000;\n",
       "        }    #T_53fa414a_8f41_11ea_af7b_9810e8f290cbrow8_col5 {\n",
       "            background-color:  #ccbcbc;\n",
       "            color:  #000000;\n",
       "        }    #T_53fa414a_8f41_11ea_af7b_9810e8f290cbrow8_col6 {\n",
       "            background-color:  #cccccc;\n",
       "            color:  #000000;\n",
       "        }    #T_53fa414a_8f41_11ea_af7b_9810e8f290cbrow8_col7 {\n",
       "            background-color:  #cccccc;\n",
       "            color:  #000000;\n",
       "        }</style><table id=\"T_53fa414a_8f41_11ea_af7b_9810e8f290cb\" ><thead>    <tr>        <th class=\"index_name level0\" >param_n_estimators</th>        <th class=\"col_heading level0 col0\" >2</th>        <th class=\"col_heading level0 col1\" >3</th>        <th class=\"col_heading level0 col2\" >4</th>        <th class=\"col_heading level0 col3\" >5</th>        <th class=\"col_heading level0 col4\" >6</th>        <th class=\"col_heading level0 col5\" >7</th>        <th class=\"col_heading level0 col6\" >8</th>        <th class=\"col_heading level0 col7\" >9</th>    </tr>    <tr>        <th class=\"index_name level0\" >param_max_depth</th>        <th class=\"blank\" ></th>        <th class=\"blank\" ></th>        <th class=\"blank\" ></th>        <th class=\"blank\" ></th>        <th class=\"blank\" ></th>        <th class=\"blank\" ></th>        <th class=\"blank\" ></th>        <th class=\"blank\" ></th>    </tr></thead><tbody>\n",
       "                <tr>\n",
       "                        <th id=\"T_53fa414a_8f41_11ea_af7b_9810e8f290cblevel0_row0\" class=\"row_heading level0 row0\" >1</th>\n",
       "                        <td id=\"T_53fa414a_8f41_11ea_af7b_9810e8f290cbrow0_col0\" class=\"data row0 col0\" >0.403</td>\n",
       "                        <td id=\"T_53fa414a_8f41_11ea_af7b_9810e8f290cbrow0_col1\" class=\"data row0 col1\" >0.502</td>\n",
       "                        <td id=\"T_53fa414a_8f41_11ea_af7b_9810e8f290cbrow0_col2\" class=\"data row0 col2\" >0.54</td>\n",
       "                        <td id=\"T_53fa414a_8f41_11ea_af7b_9810e8f290cbrow0_col3\" class=\"data row0 col3\" >0.543</td>\n",
       "                        <td id=\"T_53fa414a_8f41_11ea_af7b_9810e8f290cbrow0_col4\" class=\"data row0 col4\" >0.541</td>\n",
       "                        <td id=\"T_53fa414a_8f41_11ea_af7b_9810e8f290cbrow0_col5\" class=\"data row0 col5\" >0.54</td>\n",
       "                        <td id=\"T_53fa414a_8f41_11ea_af7b_9810e8f290cbrow0_col6\" class=\"data row0 col6\" >0.541</td>\n",
       "                        <td id=\"T_53fa414a_8f41_11ea_af7b_9810e8f290cbrow0_col7\" class=\"data row0 col7\" >0.54</td>\n",
       "            </tr>\n",
       "            <tr>\n",
       "                        <th id=\"T_53fa414a_8f41_11ea_af7b_9810e8f290cblevel0_row1\" class=\"row_heading level0 row1\" >2</th>\n",
       "                        <td id=\"T_53fa414a_8f41_11ea_af7b_9810e8f290cbrow1_col0\" class=\"data row1 col0\" >0.607</td>\n",
       "                        <td id=\"T_53fa414a_8f41_11ea_af7b_9810e8f290cbrow1_col1\" class=\"data row1 col1\" >0.679</td>\n",
       "                        <td id=\"T_53fa414a_8f41_11ea_af7b_9810e8f290cbrow1_col2\" class=\"data row1 col2\" >0.66</td>\n",
       "                        <td id=\"T_53fa414a_8f41_11ea_af7b_9810e8f290cbrow1_col3\" class=\"data row1 col3\" >0.664</td>\n",
       "                        <td id=\"T_53fa414a_8f41_11ea_af7b_9810e8f290cbrow1_col4\" class=\"data row1 col4\" >0.661</td>\n",
       "                        <td id=\"T_53fa414a_8f41_11ea_af7b_9810e8f290cbrow1_col5\" class=\"data row1 col5\" >0.682</td>\n",
       "                        <td id=\"T_53fa414a_8f41_11ea_af7b_9810e8f290cbrow1_col6\" class=\"data row1 col6\" >0.663</td>\n",
       "                        <td id=\"T_53fa414a_8f41_11ea_af7b_9810e8f290cbrow1_col7\" class=\"data row1 col7\" >0.725</td>\n",
       "            </tr>\n",
       "            <tr>\n",
       "                        <th id=\"T_53fa414a_8f41_11ea_af7b_9810e8f290cblevel0_row2\" class=\"row_heading level0 row2\" >3</th>\n",
       "                        <td id=\"T_53fa414a_8f41_11ea_af7b_9810e8f290cbrow2_col0\" class=\"data row2 col0\" >0.78</td>\n",
       "                        <td id=\"T_53fa414a_8f41_11ea_af7b_9810e8f290cbrow2_col1\" class=\"data row2 col1\" >0.805</td>\n",
       "                        <td id=\"T_53fa414a_8f41_11ea_af7b_9810e8f290cbrow2_col2\" class=\"data row2 col2\" >0.817</td>\n",
       "                        <td id=\"T_53fa414a_8f41_11ea_af7b_9810e8f290cbrow2_col3\" class=\"data row2 col3\" >0.817</td>\n",
       "                        <td id=\"T_53fa414a_8f41_11ea_af7b_9810e8f290cbrow2_col4\" class=\"data row2 col4\" >0.818</td>\n",
       "                        <td id=\"T_53fa414a_8f41_11ea_af7b_9810e8f290cbrow2_col5\" class=\"data row2 col5\" >0.831</td>\n",
       "                        <td id=\"T_53fa414a_8f41_11ea_af7b_9810e8f290cbrow2_col6\" class=\"data row2 col6\" >0.827</td>\n",
       "                        <td id=\"T_53fa414a_8f41_11ea_af7b_9810e8f290cbrow2_col7\" class=\"data row2 col7\" >0.828</td>\n",
       "            </tr>\n",
       "            <tr>\n",
       "                        <th id=\"T_53fa414a_8f41_11ea_af7b_9810e8f290cblevel0_row3\" class=\"row_heading level0 row3\" >4</th>\n",
       "                        <td id=\"T_53fa414a_8f41_11ea_af7b_9810e8f290cbrow3_col0\" class=\"data row3 col0\" >0.806</td>\n",
       "                        <td id=\"T_53fa414a_8f41_11ea_af7b_9810e8f290cbrow3_col1\" class=\"data row3 col1\" >0.827</td>\n",
       "                        <td id=\"T_53fa414a_8f41_11ea_af7b_9810e8f290cbrow3_col2\" class=\"data row3 col2\" >0.84</td>\n",
       "                        <td id=\"T_53fa414a_8f41_11ea_af7b_9810e8f290cbrow3_col3\" class=\"data row3 col3\" >0.843</td>\n",
       "                        <td id=\"T_53fa414a_8f41_11ea_af7b_9810e8f290cbrow3_col4\" class=\"data row3 col4\" >0.843</td>\n",
       "                        <td id=\"T_53fa414a_8f41_11ea_af7b_9810e8f290cbrow3_col5\" class=\"data row3 col5\" >0.846</td>\n",
       "                        <td id=\"T_53fa414a_8f41_11ea_af7b_9810e8f290cbrow3_col6\" class=\"data row3 col6\" >0.852</td>\n",
       "                        <td id=\"T_53fa414a_8f41_11ea_af7b_9810e8f290cbrow3_col7\" class=\"data row3 col7\" >0.85</td>\n",
       "            </tr>\n",
       "            <tr>\n",
       "                        <th id=\"T_53fa414a_8f41_11ea_af7b_9810e8f290cblevel0_row4\" class=\"row_heading level0 row4\" >5</th>\n",
       "                        <td id=\"T_53fa414a_8f41_11ea_af7b_9810e8f290cbrow4_col0\" class=\"data row4 col0\" >0.847</td>\n",
       "                        <td id=\"T_53fa414a_8f41_11ea_af7b_9810e8f290cbrow4_col1\" class=\"data row4 col1\" >0.861</td>\n",
       "                        <td id=\"T_53fa414a_8f41_11ea_af7b_9810e8f290cbrow4_col2\" class=\"data row4 col2\" >0.861</td>\n",
       "                        <td id=\"T_53fa414a_8f41_11ea_af7b_9810e8f290cbrow4_col3\" class=\"data row4 col3\" >0.867</td>\n",
       "                        <td id=\"T_53fa414a_8f41_11ea_af7b_9810e8f290cbrow4_col4\" class=\"data row4 col4\" >0.872</td>\n",
       "                        <td id=\"T_53fa414a_8f41_11ea_af7b_9810e8f290cbrow4_col5\" class=\"data row4 col5\" >0.87</td>\n",
       "                        <td id=\"T_53fa414a_8f41_11ea_af7b_9810e8f290cbrow4_col6\" class=\"data row4 col6\" >0.866</td>\n",
       "                        <td id=\"T_53fa414a_8f41_11ea_af7b_9810e8f290cbrow4_col7\" class=\"data row4 col7\" >0.866</td>\n",
       "            </tr>\n",
       "            <tr>\n",
       "                        <th id=\"T_53fa414a_8f41_11ea_af7b_9810e8f290cblevel0_row5\" class=\"row_heading level0 row5\" >6</th>\n",
       "                        <td id=\"T_53fa414a_8f41_11ea_af7b_9810e8f290cbrow5_col0\" class=\"data row5 col0\" >0.865</td>\n",
       "                        <td id=\"T_53fa414a_8f41_11ea_af7b_9810e8f290cbrow5_col1\" class=\"data row5 col1\" >0.878</td>\n",
       "                        <td id=\"T_53fa414a_8f41_11ea_af7b_9810e8f290cbrow5_col2\" class=\"data row5 col2\" >0.881</td>\n",
       "                        <td id=\"T_53fa414a_8f41_11ea_af7b_9810e8f290cbrow5_col3\" class=\"data row5 col3\" >0.878</td>\n",
       "                        <td id=\"T_53fa414a_8f41_11ea_af7b_9810e8f290cbrow5_col4\" class=\"data row5 col4\" >0.88</td>\n",
       "                        <td id=\"T_53fa414a_8f41_11ea_af7b_9810e8f290cbrow5_col5\" class=\"data row5 col5\" >0.884</td>\n",
       "                        <td id=\"T_53fa414a_8f41_11ea_af7b_9810e8f290cbrow5_col6\" class=\"data row5 col6\" >0.888</td>\n",
       "                        <td id=\"T_53fa414a_8f41_11ea_af7b_9810e8f290cbrow5_col7\" class=\"data row5 col7\" >0.891</td>\n",
       "            </tr>\n",
       "            <tr>\n",
       "                        <th id=\"T_53fa414a_8f41_11ea_af7b_9810e8f290cblevel0_row6\" class=\"row_heading level0 row6\" >7</th>\n",
       "                        <td id=\"T_53fa414a_8f41_11ea_af7b_9810e8f290cbrow6_col0\" class=\"data row6 col0\" >0.88</td>\n",
       "                        <td id=\"T_53fa414a_8f41_11ea_af7b_9810e8f290cbrow6_col1\" class=\"data row6 col1\" >0.889</td>\n",
       "                        <td id=\"T_53fa414a_8f41_11ea_af7b_9810e8f290cbrow6_col2\" class=\"data row6 col2\" >0.896</td>\n",
       "                        <td id=\"T_53fa414a_8f41_11ea_af7b_9810e8f290cbrow6_col3\" class=\"data row6 col3\" >0.899</td>\n",
       "                        <td id=\"T_53fa414a_8f41_11ea_af7b_9810e8f290cbrow6_col4\" class=\"data row6 col4\" >0.902</td>\n",
       "                        <td id=\"T_53fa414a_8f41_11ea_af7b_9810e8f290cbrow6_col5\" class=\"data row6 col5\" >0.906</td>\n",
       "                        <td id=\"T_53fa414a_8f41_11ea_af7b_9810e8f290cbrow6_col6\" class=\"data row6 col6\" >0.909</td>\n",
       "                        <td id=\"T_53fa414a_8f41_11ea_af7b_9810e8f290cbrow6_col7\" class=\"data row6 col7\" >0.903</td>\n",
       "            </tr>\n",
       "            <tr>\n",
       "                        <th id=\"T_53fa414a_8f41_11ea_af7b_9810e8f290cblevel0_row7\" class=\"row_heading level0 row7\" >8</th>\n",
       "                        <td id=\"T_53fa414a_8f41_11ea_af7b_9810e8f290cbrow7_col0\" class=\"data row7 col0\" >0.883</td>\n",
       "                        <td id=\"T_53fa414a_8f41_11ea_af7b_9810e8f290cbrow7_col1\" class=\"data row7 col1\" >0.902</td>\n",
       "                        <td id=\"T_53fa414a_8f41_11ea_af7b_9810e8f290cbrow7_col2\" class=\"data row7 col2\" >0.904</td>\n",
       "                        <td id=\"T_53fa414a_8f41_11ea_af7b_9810e8f290cbrow7_col3\" class=\"data row7 col3\" >0.92</td>\n",
       "                        <td id=\"T_53fa414a_8f41_11ea_af7b_9810e8f290cbrow7_col4\" class=\"data row7 col4\" >0.917</td>\n",
       "                        <td id=\"T_53fa414a_8f41_11ea_af7b_9810e8f290cbrow7_col5\" class=\"data row7 col5\" >0.923</td>\n",
       "                        <td id=\"T_53fa414a_8f41_11ea_af7b_9810e8f290cbrow7_col6\" class=\"data row7 col6\" >0.918</td>\n",
       "                        <td id=\"T_53fa414a_8f41_11ea_af7b_9810e8f290cbrow7_col7\" class=\"data row7 col7\" >0.92</td>\n",
       "            </tr>\n",
       "            <tr>\n",
       "                        <th id=\"T_53fa414a_8f41_11ea_af7b_9810e8f290cblevel0_row8\" class=\"row_heading level0 row8\" >9</th>\n",
       "                        <td id=\"T_53fa414a_8f41_11ea_af7b_9810e8f290cbrow8_col0\" class=\"data row8 col0\" >0.895</td>\n",
       "                        <td id=\"T_53fa414a_8f41_11ea_af7b_9810e8f290cbrow8_col1\" class=\"data row8 col1\" >0.915</td>\n",
       "                        <td id=\"T_53fa414a_8f41_11ea_af7b_9810e8f290cbrow8_col2\" class=\"data row8 col2\" >0.921</td>\n",
       "                        <td id=\"T_53fa414a_8f41_11ea_af7b_9810e8f290cbrow8_col3\" class=\"data row8 col3\" >0.921</td>\n",
       "                        <td id=\"T_53fa414a_8f41_11ea_af7b_9810e8f290cbrow8_col4\" class=\"data row8 col4\" >0.927</td>\n",
       "                        <td id=\"T_53fa414a_8f41_11ea_af7b_9810e8f290cbrow8_col5\" class=\"data row8 col5\" >0.93</td>\n",
       "                        <td id=\"T_53fa414a_8f41_11ea_af7b_9810e8f290cbrow8_col6\" class=\"data row8 col6\" >0.931</td>\n",
       "                        <td id=\"T_53fa414a_8f41_11ea_af7b_9810e8f290cbrow8_col7\" class=\"data row8 col7\" >0.933</td>\n",
       "            </tr>\n",
       "    </tbody></table>"
      ],
      "text/plain": [
       "<pandas.io.formats.style.Styler at 0x7f836435c978>"
      ]
     },
     "execution_count": 55,
     "metadata": {},
     "output_type": "execute_result"
    }
   ],
   "source": [
    "# rf and kf already instantiated\n",
    "\n",
    "# Instantiate grid search with 2 hyperparameters\n",
    "gscv1 = GridSearchCV(\n",
    "    rf, \n",
    "    {\"max_depth\": range(1, 10), \"n_estimators\": range(2, 10)}, \n",
    "    cv=kf, \n",
    "    n_jobs=-1\n",
    ")\n",
    "gscv1.fit(features_X, concat_y)\n",
    "\n",
    "# Get cross-validation data\n",
    "cv1_df = pd.DataFrame(gscv1.cv_results_)\n",
    "\n",
    "# Pivot table\n",
    "pivoted_df = cv1_df.pivot(index=\"param_max_depth\",\n",
    "           columns=\"param_n_estimators\",\n",
    "           values=\"mean_test_score\").round(3)\n",
    "pivoted_df.style.background_gradient(cmap=\"nipy_spectral\", axis=None)"
   ]
  },
  {
   "cell_type": "markdown",
   "metadata": {},
   "source": [
    "Ran the RF classifier with optimized hyperparameters"
   ]
  },
  {
   "cell_type": "code",
   "execution_count": 57,
   "metadata": {},
   "outputs": [
    {
     "name": "stdout",
     "output_type": "stream",
     "text": [
      "GridSearch found optimal number of estimators: 8\n",
      "GridSearch found optimal max depth: 9\n",
      "Accuracy: 0.933009708737864\n"
     ]
    }
   ],
   "source": [
    "X = features_X\n",
    "y = concat_y\n",
    "\n",
    "sss = StratifiedShuffleSplit(n_splits=1, test_size=0.1, random_state=0)\n",
    "\n",
    "train_index, test_index = tuple(sss.split(X, y))[0]\n",
    "X_train, X_test = X[train_index], X[test_index]\n",
    "y_train, y_test = y[train_index], y[test_index]\n",
    "\n",
    "# RF classifier is already instantiated\n",
    "\n",
    "# (Hyper)parameter grid\n",
    "p_grid = {\n",
    "    \"max_depth\": range(1, 10), \n",
    "    \"n_estimators\": range(2, 10)\n",
    "}\n",
    "\n",
    "cv = StratifiedKFold(n_splits=5, shuffle=True, random_state=10)\n",
    "g = GridSearchCV(rf, p_grid, cv=cv)\n",
    "\n",
    "g.fit(X, y)\n",
    "best = g.best_params_\n",
    "cv = g.cv_results_\n",
    "\n",
    "print('GridSearch found optimal number of estimators:', best[\"n_estimators\"])\n",
    "print('GridSearch found optimal max depth:', best['max_depth'])\n",
    "# print('Mean CV test scores are:', cv['mean_test_score'])\n",
    "\n",
    "rf = RandomForestClassifier(n_estimators = best['n_estimators'], max_depth = best['max_depth'])\n",
    "rf.fit(X_train, y_train)\n",
    "\n",
    "print('Accuracy:', accuracy_score(y_test, rf.predict(X_test)))\n"
   ]
  },
  {
   "cell_type": "markdown",
   "metadata": {},
   "source": [
    "Tried the RF classifier on the same train/test split as the other models"
   ]
  },
  {
   "cell_type": "code",
   "execution_count": 60,
   "metadata": {},
   "outputs": [
    {
     "name": "stdout",
     "output_type": "stream",
     "text": [
      "              precision    recall  f1-score   support\n",
      "\n",
      "           1       0.88      0.90      0.89       592\n",
      "           2       0.89      0.92      0.90       466\n",
      "           3       0.93      0.88      0.91       456\n",
      "           4       0.92      0.94      0.93       619\n",
      "           5       0.94      0.92      0.93       605\n",
      "           6       1.00      1.00      1.00       661\n",
      "\n",
      "    accuracy                           0.93      3399\n",
      "   macro avg       0.93      0.93      0.93      3399\n",
      "weighted avg       0.93      0.93      0.93      3399\n",
      "\n"
     ]
    }
   ],
   "source": [
    "# train test split\n",
    "X_train, X_test, y_train, y_test = train_test_split(features_X, concat_y, \n",
    "                                                    test_size=0.33, random_state=42)\n",
    "\n",
    "# optimized RF classifier was instantiated above\n",
    "\n",
    "# model was fit to same train/test split as other models\n",
    "rf.fit(X_train, y_train)\n",
    "\n",
    "# predict test y values\n",
    "rf_pred_y = rf.predict(X_test)\n",
    "\n",
    "# evaluate classifier performance on test and train pred_y\n",
    "print(classification_report(y_test, rf_pred_y))"
   ]
  },
  {
   "cell_type": "markdown",
   "metadata": {},
   "source": [
    "## Gradient Boosting Classifier"
   ]
  },
  {
   "cell_type": "markdown",
   "metadata": {},
   "source": [
    "Tried gradient boosting classifier. Tried to do similar optimization as I did for random forest"
   ]
  },
  {
   "cell_type": "code",
   "execution_count": 61,
   "metadata": {},
   "outputs": [],
   "source": [
    "from sklearn.ensemble import GradientBoostingClassifier\n",
    "\n",
    "# Instantiate k fold cross-validator \n",
    "kf = KFold(n_splits=5, shuffle=True, random_state=42)\n",
    "# instantiate gradient boosting classifier\n",
    "gbr = GradientBoostingClassifier()"
   ]
  },
  {
   "cell_type": "code",
   "execution_count": 62,
   "metadata": {},
   "outputs": [
    {
     "name": "stderr",
     "output_type": "stream",
     "text": [
      "/Users/hayaw/anaconda3/lib/python3.7/site-packages/joblib/externals/loky/process_executor.py:706: UserWarning: A worker stopped while some jobs were given to the executor. This can be caused by a too short worker timeout or by a memory leak.\n",
      "  \"timeout or by a memory leak.\", UserWarning\n"
     ]
    },
    {
     "data": {
      "text/html": [
       "<style  type=\"text/css\" >\n",
       "    #T_0a340ec0_8f45_11ea_af7b_9810e8f290cbrow0_col0 {\n",
       "            background-color:  #000000;\n",
       "            color:  #f1f1f1;\n",
       "        }    #T_0a340ec0_8f45_11ea_af7b_9810e8f290cbrow0_col1 {\n",
       "            background-color:  #830094;\n",
       "            color:  #f1f1f1;\n",
       "        }    #T_0a340ec0_8f45_11ea_af7b_9810e8f290cbrow0_col2 {\n",
       "            background-color:  #0038dd;\n",
       "            color:  #f1f1f1;\n",
       "        }    #T_0a340ec0_8f45_11ea_af7b_9810e8f290cbrow0_col3 {\n",
       "            background-color:  #0000d5;\n",
       "            color:  #f1f1f1;\n",
       "        }    #T_0a340ec0_8f45_11ea_af7b_9810e8f290cbrow0_col4 {\n",
       "            background-color:  #008add;\n",
       "            color:  #000000;\n",
       "        }    #T_0a340ec0_8f45_11ea_af7b_9810e8f290cbrow0_col5 {\n",
       "            background-color:  #00a7b3;\n",
       "            color:  #000000;\n",
       "        }    #T_0a340ec0_8f45_11ea_af7b_9810e8f290cbrow0_col6 {\n",
       "            background-color:  #00aa98;\n",
       "            color:  #000000;\n",
       "        }    #T_0a340ec0_8f45_11ea_af7b_9810e8f290cbrow0_col7 {\n",
       "            background-color:  #00a55d;\n",
       "            color:  #000000;\n",
       "        }    #T_0a340ec0_8f45_11ea_af7b_9810e8f290cbrow1_col0 {\n",
       "            background-color:  #00aaa0;\n",
       "            color:  #000000;\n",
       "        }    #T_0a340ec0_8f45_11ea_af7b_9810e8f290cbrow1_col1 {\n",
       "            background-color:  #00a248;\n",
       "            color:  #000000;\n",
       "        }    #T_0a340ec0_8f45_11ea_af7b_9810e8f290cbrow1_col2 {\n",
       "            background-color:  #009d1d;\n",
       "            color:  #000000;\n",
       "        }    #T_0a340ec0_8f45_11ea_af7b_9810e8f290cbrow1_col3 {\n",
       "            background-color:  #00b200;\n",
       "            color:  #000000;\n",
       "        }    #T_0a340ec0_8f45_11ea_af7b_9810e8f290cbrow1_col4 {\n",
       "            background-color:  #00ca00;\n",
       "            color:  #000000;\n",
       "        }    #T_0a340ec0_8f45_11ea_af7b_9810e8f290cbrow1_col5 {\n",
       "            background-color:  #00d700;\n",
       "            color:  #000000;\n",
       "        }    #T_0a340ec0_8f45_11ea_af7b_9810e8f290cbrow1_col6 {\n",
       "            background-color:  #00df00;\n",
       "            color:  #000000;\n",
       "        }    #T_0a340ec0_8f45_11ea_af7b_9810e8f290cbrow1_col7 {\n",
       "            background-color:  #00e700;\n",
       "            color:  #000000;\n",
       "        }    #T_0a340ec0_8f45_11ea_af7b_9810e8f290cbrow2_col0 {\n",
       "            background-color:  #00da00;\n",
       "            color:  #000000;\n",
       "        }    #T_0a340ec0_8f45_11ea_af7b_9810e8f290cbrow2_col1 {\n",
       "            background-color:  #00fa00;\n",
       "            color:  #000000;\n",
       "        }    #T_0a340ec0_8f45_11ea_af7b_9810e8f290cbrow2_col2 {\n",
       "            background-color:  #3bff00;\n",
       "            color:  #000000;\n",
       "        }    #T_0a340ec0_8f45_11ea_af7b_9810e8f290cbrow2_col3 {\n",
       "            background-color:  #93ff00;\n",
       "            color:  #000000;\n",
       "        }    #T_0a340ec0_8f45_11ea_af7b_9810e8f290cbrow2_col4 {\n",
       "            background-color:  #d0f800;\n",
       "            color:  #000000;\n",
       "        }    #T_0a340ec0_8f45_11ea_af7b_9810e8f290cbrow2_col5 {\n",
       "            background-color:  #ecef00;\n",
       "            color:  #000000;\n",
       "        }    #T_0a340ec0_8f45_11ea_af7b_9810e8f290cbrow2_col6 {\n",
       "            background-color:  #efed00;\n",
       "            color:  #000000;\n",
       "        }    #T_0a340ec0_8f45_11ea_af7b_9810e8f290cbrow2_col7 {\n",
       "            background-color:  #f5df00;\n",
       "            color:  #000000;\n",
       "        }    #T_0a340ec0_8f45_11ea_af7b_9810e8f290cbrow3_col0 {\n",
       "            background-color:  #84ff00;\n",
       "            color:  #000000;\n",
       "        }    #T_0a340ec0_8f45_11ea_af7b_9810e8f290cbrow3_col1 {\n",
       "            background-color:  #efed00;\n",
       "            color:  #000000;\n",
       "        }    #T_0a340ec0_8f45_11ea_af7b_9810e8f290cbrow3_col2 {\n",
       "            background-color:  #f9d700;\n",
       "            color:  #000000;\n",
       "        }    #T_0a340ec0_8f45_11ea_af7b_9810e8f290cbrow3_col3 {\n",
       "            background-color:  #ffc500;\n",
       "            color:  #000000;\n",
       "        }    #T_0a340ec0_8f45_11ea_af7b_9810e8f290cbrow3_col4 {\n",
       "            background-color:  #ffb100;\n",
       "            color:  #000000;\n",
       "        }    #T_0a340ec0_8f45_11ea_af7b_9810e8f290cbrow3_col5 {\n",
       "            background-color:  #ffa500;\n",
       "            color:  #000000;\n",
       "        }    #T_0a340ec0_8f45_11ea_af7b_9810e8f290cbrow3_col6 {\n",
       "            background-color:  #ff8d00;\n",
       "            color:  #000000;\n",
       "        }    #T_0a340ec0_8f45_11ea_af7b_9810e8f290cbrow3_col7 {\n",
       "            background-color:  #ff6900;\n",
       "            color:  #000000;\n",
       "        }    #T_0a340ec0_8f45_11ea_af7b_9810e8f290cbrow4_col0 {\n",
       "            background-color:  #f3e500;\n",
       "            color:  #000000;\n",
       "        }    #T_0a340ec0_8f45_11ea_af7b_9810e8f290cbrow4_col1 {\n",
       "            background-color:  #ffbd00;\n",
       "            color:  #000000;\n",
       "        }    #T_0a340ec0_8f45_11ea_af7b_9810e8f290cbrow4_col2 {\n",
       "            background-color:  #ff5d00;\n",
       "            color:  #000000;\n",
       "        }    #T_0a340ec0_8f45_11ea_af7b_9810e8f290cbrow4_col3 {\n",
       "            background-color:  #ff0900;\n",
       "            color:  #f1f1f1;\n",
       "        }    #T_0a340ec0_8f45_11ea_af7b_9810e8f290cbrow4_col4 {\n",
       "            background-color:  #f90000;\n",
       "            color:  #f1f1f1;\n",
       "        }    #T_0a340ec0_8f45_11ea_af7b_9810e8f290cbrow4_col5 {\n",
       "            background-color:  #e90000;\n",
       "            color:  #f1f1f1;\n",
       "        }    #T_0a340ec0_8f45_11ea_af7b_9810e8f290cbrow4_col6 {\n",
       "            background-color:  #e10000;\n",
       "            color:  #f1f1f1;\n",
       "        }    #T_0a340ec0_8f45_11ea_af7b_9810e8f290cbrow4_col7 {\n",
       "            background-color:  #dc0000;\n",
       "            color:  #f1f1f1;\n",
       "        }    #T_0a340ec0_8f45_11ea_af7b_9810e8f290cbrow5_col0 {\n",
       "            background-color:  #ffa500;\n",
       "            color:  #000000;\n",
       "        }    #T_0a340ec0_8f45_11ea_af7b_9810e8f290cbrow5_col1 {\n",
       "            background-color:  #ff2d00;\n",
       "            color:  #f1f1f1;\n",
       "        }    #T_0a340ec0_8f45_11ea_af7b_9810e8f290cbrow5_col2 {\n",
       "            background-color:  #e90000;\n",
       "            color:  #f1f1f1;\n",
       "        }    #T_0a340ec0_8f45_11ea_af7b_9810e8f290cbrow5_col3 {\n",
       "            background-color:  #dc0000;\n",
       "            color:  #f1f1f1;\n",
       "        }    #T_0a340ec0_8f45_11ea_af7b_9810e8f290cbrow5_col4 {\n",
       "            background-color:  #d20000;\n",
       "            color:  #f1f1f1;\n",
       "        }    #T_0a340ec0_8f45_11ea_af7b_9810e8f290cbrow5_col5 {\n",
       "            background-color:  #ce0000;\n",
       "            color:  #f1f1f1;\n",
       "        }    #T_0a340ec0_8f45_11ea_af7b_9810e8f290cbrow5_col6 {\n",
       "            background-color:  #cc3c3c;\n",
       "            color:  #f1f1f1;\n",
       "        }    #T_0a340ec0_8f45_11ea_af7b_9810e8f290cbrow5_col7 {\n",
       "            background-color:  #cc6c6c;\n",
       "            color:  #000000;\n",
       "        }    #T_0a340ec0_8f45_11ea_af7b_9810e8f290cbrow6_col0 {\n",
       "            background-color:  #ff6900;\n",
       "            color:  #000000;\n",
       "        }    #T_0a340ec0_8f45_11ea_af7b_9810e8f290cbrow6_col1 {\n",
       "            background-color:  #f40000;\n",
       "            color:  #f1f1f1;\n",
       "        }    #T_0a340ec0_8f45_11ea_af7b_9810e8f290cbrow6_col2 {\n",
       "            background-color:  #da0000;\n",
       "            color:  #f1f1f1;\n",
       "        }    #T_0a340ec0_8f45_11ea_af7b_9810e8f290cbrow6_col3 {\n",
       "            background-color:  #d20000;\n",
       "            color:  #f1f1f1;\n",
       "        }    #T_0a340ec0_8f45_11ea_af7b_9810e8f290cbrow6_col4 {\n",
       "            background-color:  #cc0c0c;\n",
       "            color:  #f1f1f1;\n",
       "        }    #T_0a340ec0_8f45_11ea_af7b_9810e8f290cbrow6_col5 {\n",
       "            background-color:  #cc5c5c;\n",
       "            color:  #000000;\n",
       "        }    #T_0a340ec0_8f45_11ea_af7b_9810e8f290cbrow6_col6 {\n",
       "            background-color:  #cc8c8c;\n",
       "            color:  #000000;\n",
       "        }    #T_0a340ec0_8f45_11ea_af7b_9810e8f290cbrow6_col7 {\n",
       "            background-color:  #cc9c9c;\n",
       "            color:  #000000;\n",
       "        }    #T_0a340ec0_8f45_11ea_af7b_9810e8f290cbrow7_col0 {\n",
       "            background-color:  #ff5d00;\n",
       "            color:  #000000;\n",
       "        }    #T_0a340ec0_8f45_11ea_af7b_9810e8f290cbrow7_col1 {\n",
       "            background-color:  #f40000;\n",
       "            color:  #f1f1f1;\n",
       "        }    #T_0a340ec0_8f45_11ea_af7b_9810e8f290cbrow7_col2 {\n",
       "            background-color:  #dc0000;\n",
       "            color:  #f1f1f1;\n",
       "        }    #T_0a340ec0_8f45_11ea_af7b_9810e8f290cbrow7_col3 {\n",
       "            background-color:  #d20000;\n",
       "            color:  #f1f1f1;\n",
       "        }    #T_0a340ec0_8f45_11ea_af7b_9810e8f290cbrow7_col4 {\n",
       "            background-color:  #cc1c1c;\n",
       "            color:  #f1f1f1;\n",
       "        }    #T_0a340ec0_8f45_11ea_af7b_9810e8f290cbrow7_col5 {\n",
       "            background-color:  #cc5c5c;\n",
       "            color:  #000000;\n",
       "        }    #T_0a340ec0_8f45_11ea_af7b_9810e8f290cbrow7_col6 {\n",
       "            background-color:  #cc8c8c;\n",
       "            color:  #000000;\n",
       "        }    #T_0a340ec0_8f45_11ea_af7b_9810e8f290cbrow7_col7 {\n",
       "            background-color:  #cccccc;\n",
       "            color:  #000000;\n",
       "        }    #T_0a340ec0_8f45_11ea_af7b_9810e8f290cbrow8_col0 {\n",
       "            background-color:  #ffa900;\n",
       "            color:  #000000;\n",
       "        }    #T_0a340ec0_8f45_11ea_af7b_9810e8f290cbrow8_col1 {\n",
       "            background-color:  #f40000;\n",
       "            color:  #f1f1f1;\n",
       "        }    #T_0a340ec0_8f45_11ea_af7b_9810e8f290cbrow8_col2 {\n",
       "            background-color:  #dc0000;\n",
       "            color:  #f1f1f1;\n",
       "        }    #T_0a340ec0_8f45_11ea_af7b_9810e8f290cbrow8_col3 {\n",
       "            background-color:  #d80000;\n",
       "            color:  #f1f1f1;\n",
       "        }    #T_0a340ec0_8f45_11ea_af7b_9810e8f290cbrow8_col4 {\n",
       "            background-color:  #cc0c0c;\n",
       "            color:  #f1f1f1;\n",
       "        }    #T_0a340ec0_8f45_11ea_af7b_9810e8f290cbrow8_col5 {\n",
       "            background-color:  #cc5c5c;\n",
       "            color:  #000000;\n",
       "        }    #T_0a340ec0_8f45_11ea_af7b_9810e8f290cbrow8_col6 {\n",
       "            background-color:  #cc8c8c;\n",
       "            color:  #000000;\n",
       "        }    #T_0a340ec0_8f45_11ea_af7b_9810e8f290cbrow8_col7 {\n",
       "            background-color:  #cc9c9c;\n",
       "            color:  #000000;\n",
       "        }</style><table id=\"T_0a340ec0_8f45_11ea_af7b_9810e8f290cb\" ><thead>    <tr>        <th class=\"index_name level0\" >param_n_estimators</th>        <th class=\"col_heading level0 col0\" >2</th>        <th class=\"col_heading level0 col1\" >3</th>        <th class=\"col_heading level0 col2\" >4</th>        <th class=\"col_heading level0 col3\" >5</th>        <th class=\"col_heading level0 col4\" >6</th>        <th class=\"col_heading level0 col5\" >7</th>        <th class=\"col_heading level0 col6\" >8</th>        <th class=\"col_heading level0 col7\" >9</th>    </tr>    <tr>        <th class=\"index_name level0\" >param_max_depth</th>        <th class=\"blank\" ></th>        <th class=\"blank\" ></th>        <th class=\"blank\" ></th>        <th class=\"blank\" ></th>        <th class=\"blank\" ></th>        <th class=\"blank\" ></th>        <th class=\"blank\" ></th>        <th class=\"blank\" ></th>    </tr></thead><tbody>\n",
       "                <tr>\n",
       "                        <th id=\"T_0a340ec0_8f45_11ea_af7b_9810e8f290cblevel0_row0\" class=\"row_heading level0 row0\" >1</th>\n",
       "                        <td id=\"T_0a340ec0_8f45_11ea_af7b_9810e8f290cbrow0_col0\" class=\"data row0 col0\" >0.784</td>\n",
       "                        <td id=\"T_0a340ec0_8f45_11ea_af7b_9810e8f290cbrow0_col1\" class=\"data row0 col1\" >0.798</td>\n",
       "                        <td id=\"T_0a340ec0_8f45_11ea_af7b_9810e8f290cbrow0_col2\" class=\"data row0 col2\" >0.82</td>\n",
       "                        <td id=\"T_0a340ec0_8f45_11ea_af7b_9810e8f290cbrow0_col3\" class=\"data row0 col3\" >0.815</td>\n",
       "                        <td id=\"T_0a340ec0_8f45_11ea_af7b_9810e8f290cbrow0_col4\" class=\"data row0 col4\" >0.829</td>\n",
       "                        <td id=\"T_0a340ec0_8f45_11ea_af7b_9810e8f290cbrow0_col5\" class=\"data row0 col5\" >0.839</td>\n",
       "                        <td id=\"T_0a340ec0_8f45_11ea_af7b_9810e8f290cbrow0_col6\" class=\"data row0 col6\" >0.845</td>\n",
       "                        <td id=\"T_0a340ec0_8f45_11ea_af7b_9810e8f290cbrow0_col7\" class=\"data row0 col7\" >0.851</td>\n",
       "            </tr>\n",
       "            <tr>\n",
       "                        <th id=\"T_0a340ec0_8f45_11ea_af7b_9810e8f290cblevel0_row1\" class=\"row_heading level0 row1\" >2</th>\n",
       "                        <td id=\"T_0a340ec0_8f45_11ea_af7b_9810e8f290cbrow1_col0\" class=\"data row1 col0\" >0.843</td>\n",
       "                        <td id=\"T_0a340ec0_8f45_11ea_af7b_9810e8f290cbrow1_col1\" class=\"data row1 col1\" >0.852</td>\n",
       "                        <td id=\"T_0a340ec0_8f45_11ea_af7b_9810e8f290cbrow1_col2\" class=\"data row1 col2\" >0.855</td>\n",
       "                        <td id=\"T_0a340ec0_8f45_11ea_af7b_9810e8f290cbrow1_col3\" class=\"data row1 col3\" >0.862</td>\n",
       "                        <td id=\"T_0a340ec0_8f45_11ea_af7b_9810e8f290cbrow1_col4\" class=\"data row1 col4\" >0.868</td>\n",
       "                        <td id=\"T_0a340ec0_8f45_11ea_af7b_9810e8f290cbrow1_col5\" class=\"data row1 col5\" >0.871</td>\n",
       "                        <td id=\"T_0a340ec0_8f45_11ea_af7b_9810e8f290cbrow1_col6\" class=\"data row1 col6\" >0.873</td>\n",
       "                        <td id=\"T_0a340ec0_8f45_11ea_af7b_9810e8f290cbrow1_col7\" class=\"data row1 col7\" >0.875</td>\n",
       "            </tr>\n",
       "            <tr>\n",
       "                        <th id=\"T_0a340ec0_8f45_11ea_af7b_9810e8f290cblevel0_row2\" class=\"row_heading level0 row2\" >3</th>\n",
       "                        <td id=\"T_0a340ec0_8f45_11ea_af7b_9810e8f290cbrow2_col0\" class=\"data row2 col0\" >0.872</td>\n",
       "                        <td id=\"T_0a340ec0_8f45_11ea_af7b_9810e8f290cbrow2_col1\" class=\"data row2 col1\" >0.879</td>\n",
       "                        <td id=\"T_0a340ec0_8f45_11ea_af7b_9810e8f290cbrow2_col2\" class=\"data row2 col2\" >0.883</td>\n",
       "                        <td id=\"T_0a340ec0_8f45_11ea_af7b_9810e8f290cbrow2_col3\" class=\"data row2 col3\" >0.887</td>\n",
       "                        <td id=\"T_0a340ec0_8f45_11ea_af7b_9810e8f290cbrow2_col4\" class=\"data row2 col4\" >0.892</td>\n",
       "                        <td id=\"T_0a340ec0_8f45_11ea_af7b_9810e8f290cbrow2_col5\" class=\"data row2 col5\" >0.896</td>\n",
       "                        <td id=\"T_0a340ec0_8f45_11ea_af7b_9810e8f290cbrow2_col6\" class=\"data row2 col6\" >0.897</td>\n",
       "                        <td id=\"T_0a340ec0_8f45_11ea_af7b_9810e8f290cbrow2_col7\" class=\"data row2 col7\" >0.9</td>\n",
       "            </tr>\n",
       "            <tr>\n",
       "                        <th id=\"T_0a340ec0_8f45_11ea_af7b_9810e8f290cblevel0_row3\" class=\"row_heading level0 row3\" >4</th>\n",
       "                        <td id=\"T_0a340ec0_8f45_11ea_af7b_9810e8f290cbrow3_col0\" class=\"data row3 col0\" >0.886</td>\n",
       "                        <td id=\"T_0a340ec0_8f45_11ea_af7b_9810e8f290cbrow3_col1\" class=\"data row3 col1\" >0.897</td>\n",
       "                        <td id=\"T_0a340ec0_8f45_11ea_af7b_9810e8f290cbrow3_col2\" class=\"data row3 col2\" >0.902</td>\n",
       "                        <td id=\"T_0a340ec0_8f45_11ea_af7b_9810e8f290cbrow3_col3\" class=\"data row3 col3\" >0.906</td>\n",
       "                        <td id=\"T_0a340ec0_8f45_11ea_af7b_9810e8f290cbrow3_col4\" class=\"data row3 col4\" >0.909</td>\n",
       "                        <td id=\"T_0a340ec0_8f45_11ea_af7b_9810e8f290cbrow3_col5\" class=\"data row3 col5\" >0.911</td>\n",
       "                        <td id=\"T_0a340ec0_8f45_11ea_af7b_9810e8f290cbrow3_col6\" class=\"data row3 col6\" >0.913</td>\n",
       "                        <td id=\"T_0a340ec0_8f45_11ea_af7b_9810e8f290cbrow3_col7\" class=\"data row3 col7\" >0.915</td>\n",
       "            </tr>\n",
       "            <tr>\n",
       "                        <th id=\"T_0a340ec0_8f45_11ea_af7b_9810e8f290cblevel0_row4\" class=\"row_heading level0 row4\" >5</th>\n",
       "                        <td id=\"T_0a340ec0_8f45_11ea_af7b_9810e8f290cbrow4_col0\" class=\"data row4 col0\" >0.899</td>\n",
       "                        <td id=\"T_0a340ec0_8f45_11ea_af7b_9810e8f290cbrow4_col1\" class=\"data row4 col1\" >0.907</td>\n",
       "                        <td id=\"T_0a340ec0_8f45_11ea_af7b_9810e8f290cbrow4_col2\" class=\"data row4 col2\" >0.916</td>\n",
       "                        <td id=\"T_0a340ec0_8f45_11ea_af7b_9810e8f290cbrow4_col3\" class=\"data row4 col3\" >0.92</td>\n",
       "                        <td id=\"T_0a340ec0_8f45_11ea_af7b_9810e8f290cbrow4_col4\" class=\"data row4 col4\" >0.922</td>\n",
       "                        <td id=\"T_0a340ec0_8f45_11ea_af7b_9810e8f290cbrow4_col5\" class=\"data row4 col5\" >0.926</td>\n",
       "                        <td id=\"T_0a340ec0_8f45_11ea_af7b_9810e8f290cbrow4_col6\" class=\"data row4 col6\" >0.928</td>\n",
       "                        <td id=\"T_0a340ec0_8f45_11ea_af7b_9810e8f290cbrow4_col7\" class=\"data row4 col7\" >0.929</td>\n",
       "            </tr>\n",
       "            <tr>\n",
       "                        <th id=\"T_0a340ec0_8f45_11ea_af7b_9810e8f290cblevel0_row5\" class=\"row_heading level0 row5\" >6</th>\n",
       "                        <td id=\"T_0a340ec0_8f45_11ea_af7b_9810e8f290cbrow5_col0\" class=\"data row5 col0\" >0.911</td>\n",
       "                        <td id=\"T_0a340ec0_8f45_11ea_af7b_9810e8f290cbrow5_col1\" class=\"data row5 col1\" >0.918</td>\n",
       "                        <td id=\"T_0a340ec0_8f45_11ea_af7b_9810e8f290cbrow5_col2\" class=\"data row5 col2\" >0.926</td>\n",
       "                        <td id=\"T_0a340ec0_8f45_11ea_af7b_9810e8f290cbrow5_col3\" class=\"data row5 col3\" >0.929</td>\n",
       "                        <td id=\"T_0a340ec0_8f45_11ea_af7b_9810e8f290cbrow5_col4\" class=\"data row5 col4\" >0.934</td>\n",
       "                        <td id=\"T_0a340ec0_8f45_11ea_af7b_9810e8f290cbrow5_col5\" class=\"data row5 col5\" >0.936</td>\n",
       "                        <td id=\"T_0a340ec0_8f45_11ea_af7b_9810e8f290cbrow5_col6\" class=\"data row5 col6\" >0.939</td>\n",
       "                        <td id=\"T_0a340ec0_8f45_11ea_af7b_9810e8f290cbrow5_col7\" class=\"data row5 col7\" >0.941</td>\n",
       "            </tr>\n",
       "            <tr>\n",
       "                        <th id=\"T_0a340ec0_8f45_11ea_af7b_9810e8f290cblevel0_row6\" class=\"row_heading level0 row6\" >7</th>\n",
       "                        <td id=\"T_0a340ec0_8f45_11ea_af7b_9810e8f290cbrow6_col0\" class=\"data row6 col0\" >0.915</td>\n",
       "                        <td id=\"T_0a340ec0_8f45_11ea_af7b_9810e8f290cbrow6_col1\" class=\"data row6 col1\" >0.923</td>\n",
       "                        <td id=\"T_0a340ec0_8f45_11ea_af7b_9810e8f290cbrow6_col2\" class=\"data row6 col2\" >0.93</td>\n",
       "                        <td id=\"T_0a340ec0_8f45_11ea_af7b_9810e8f290cbrow6_col3\" class=\"data row6 col3\" >0.934</td>\n",
       "                        <td id=\"T_0a340ec0_8f45_11ea_af7b_9810e8f290cbrow6_col4\" class=\"data row6 col4\" >0.937</td>\n",
       "                        <td id=\"T_0a340ec0_8f45_11ea_af7b_9810e8f290cbrow6_col5\" class=\"data row6 col5\" >0.94</td>\n",
       "                        <td id=\"T_0a340ec0_8f45_11ea_af7b_9810e8f290cbrow6_col6\" class=\"data row6 col6\" >0.942</td>\n",
       "                        <td id=\"T_0a340ec0_8f45_11ea_af7b_9810e8f290cbrow6_col7\" class=\"data row6 col7\" >0.943</td>\n",
       "            </tr>\n",
       "            <tr>\n",
       "                        <th id=\"T_0a340ec0_8f45_11ea_af7b_9810e8f290cblevel0_row7\" class=\"row_heading level0 row7\" >8</th>\n",
       "                        <td id=\"T_0a340ec0_8f45_11ea_af7b_9810e8f290cbrow7_col0\" class=\"data row7 col0\" >0.916</td>\n",
       "                        <td id=\"T_0a340ec0_8f45_11ea_af7b_9810e8f290cbrow7_col1\" class=\"data row7 col1\" >0.923</td>\n",
       "                        <td id=\"T_0a340ec0_8f45_11ea_af7b_9810e8f290cbrow7_col2\" class=\"data row7 col2\" >0.929</td>\n",
       "                        <td id=\"T_0a340ec0_8f45_11ea_af7b_9810e8f290cbrow7_col3\" class=\"data row7 col3\" >0.934</td>\n",
       "                        <td id=\"T_0a340ec0_8f45_11ea_af7b_9810e8f290cbrow7_col4\" class=\"data row7 col4\" >0.938</td>\n",
       "                        <td id=\"T_0a340ec0_8f45_11ea_af7b_9810e8f290cbrow7_col5\" class=\"data row7 col5\" >0.94</td>\n",
       "                        <td id=\"T_0a340ec0_8f45_11ea_af7b_9810e8f290cbrow7_col6\" class=\"data row7 col6\" >0.942</td>\n",
       "                        <td id=\"T_0a340ec0_8f45_11ea_af7b_9810e8f290cbrow7_col7\" class=\"data row7 col7\" >0.945</td>\n",
       "            </tr>\n",
       "            <tr>\n",
       "                        <th id=\"T_0a340ec0_8f45_11ea_af7b_9810e8f290cblevel0_row8\" class=\"row_heading level0 row8\" >9</th>\n",
       "                        <td id=\"T_0a340ec0_8f45_11ea_af7b_9810e8f290cbrow8_col0\" class=\"data row8 col0\" >0.91</td>\n",
       "                        <td id=\"T_0a340ec0_8f45_11ea_af7b_9810e8f290cbrow8_col1\" class=\"data row8 col1\" >0.923</td>\n",
       "                        <td id=\"T_0a340ec0_8f45_11ea_af7b_9810e8f290cbrow8_col2\" class=\"data row8 col2\" >0.929</td>\n",
       "                        <td id=\"T_0a340ec0_8f45_11ea_af7b_9810e8f290cbrow8_col3\" class=\"data row8 col3\" >0.931</td>\n",
       "                        <td id=\"T_0a340ec0_8f45_11ea_af7b_9810e8f290cbrow8_col4\" class=\"data row8 col4\" >0.937</td>\n",
       "                        <td id=\"T_0a340ec0_8f45_11ea_af7b_9810e8f290cbrow8_col5\" class=\"data row8 col5\" >0.94</td>\n",
       "                        <td id=\"T_0a340ec0_8f45_11ea_af7b_9810e8f290cbrow8_col6\" class=\"data row8 col6\" >0.942</td>\n",
       "                        <td id=\"T_0a340ec0_8f45_11ea_af7b_9810e8f290cbrow8_col7\" class=\"data row8 col7\" >0.943</td>\n",
       "            </tr>\n",
       "    </tbody></table>"
      ],
      "text/plain": [
       "<pandas.io.formats.style.Styler at 0x7f8363884da0>"
      ]
     },
     "execution_count": 62,
     "metadata": {},
     "output_type": "execute_result"
    }
   ],
   "source": [
    "# Instantiate grid search with 2 hyperparameters\n",
    "gscv2 = GridSearchCV(\n",
    "    gbr, \n",
    "    {\"max_depth\": range(1, 10), \"n_estimators\": range(2, 10)}, \n",
    "    cv=kf, \n",
    "    n_jobs=-1\n",
    ")\n",
    "gscv2.fit(features_X, concat_y)\n",
    "\n",
    "# Get cross-validation data\n",
    "cv2_df = pd.DataFrame(gscv2.cv_results_)\n",
    "\n",
    "# Create a heatmap-style table, use df.pivot bc only 2 hyperparameters\n",
    "piv_df1 = cv2_df.pivot(index=\"param_max_depth\",\n",
    "           columns=\"param_n_estimators\",\n",
    "           values=\"mean_test_score\").round(3)\n",
    "piv_df1.style.background_gradient(\"nipy_spectral\", axis=None)"
   ]
  },
  {
   "cell_type": "markdown",
   "metadata": {},
   "source": [
    "Ran the gradient boosting classifier with optimized hyperparameters"
   ]
  },
  {
   "cell_type": "code",
   "execution_count": 63,
   "metadata": {},
   "outputs": [
    {
     "name": "stdout",
     "output_type": "stream",
     "text": [
      "GridSearch found optimal number of estimators: 9\n",
      "GridSearch found optimal max depth: 9\n",
      "Accuracy: 0.9310679611650485\n"
     ]
    }
   ],
   "source": [
    "X = features_X\n",
    "y = concat_y\n",
    "\n",
    "sss = StratifiedShuffleSplit(n_splits=1, test_size=0.1, random_state=0)\n",
    "\n",
    "train_index, test_index = tuple(sss.split(X, y))[0]\n",
    "X_train, X_test = X[train_index], X[test_index]\n",
    "y_train, y_test = y[train_index], y[test_index]\n",
    "\n",
    "# GBR classifier is already instantiated\n",
    "\n",
    "# (Hyper)parameter grid\n",
    "p_grid = {\n",
    "    \"max_depth\": range(1, 10), \n",
    "    \"n_estimators\": range(2, 10)\n",
    "}\n",
    "\n",
    "cv = StratifiedKFold(n_splits=5, shuffle=True, random_state=10)\n",
    "g = GridSearchCV(gbr, p_grid, cv=cv)\n",
    "\n",
    "g.fit(X, y)\n",
    "best = g.best_params_\n",
    "cv = g.cv_results_\n",
    "\n",
    "print('GridSearch found optimal number of estimators:', best[\"n_estimators\"])\n",
    "print('GridSearch found optimal max depth:', best['max_depth'])\n",
    "# print('Mean CV test scores are:', cv['mean_test_score'])\n",
    "\n",
    "gbr = GradientBoostingClassifier(n_estimators = best['n_estimators'], max_depth = best['max_depth'])\n",
    "gbr.fit(X_train, y_train)\n",
    "\n",
    "print('Accuracy:', accuracy_score(y_test, gbr.predict(X_test)))\n"
   ]
  },
  {
   "cell_type": "markdown",
   "metadata": {},
   "source": [
    "Ran the optimized gradient boosting classifier on the same train/test split as other models"
   ]
  },
  {
   "cell_type": "code",
   "execution_count": 64,
   "metadata": {},
   "outputs": [
    {
     "name": "stdout",
     "output_type": "stream",
     "text": [
      "              precision    recall  f1-score   support\n",
      "\n",
      "           1       0.91      0.93      0.92       592\n",
      "           2       0.91      0.92      0.92       466\n",
      "           3       0.96      0.90      0.93       456\n",
      "           4       0.94      0.94      0.94       619\n",
      "           5       0.92      0.94      0.93       605\n",
      "           6       1.00      1.00      1.00       661\n",
      "\n",
      "    accuracy                           0.94      3399\n",
      "   macro avg       0.94      0.94      0.94      3399\n",
      "weighted avg       0.94      0.94      0.94      3399\n",
      "\n"
     ]
    }
   ],
   "source": [
    "# train test split\n",
    "X_train, X_test, y_train, y_test = train_test_split(features_X, concat_y, \n",
    "                                                    test_size=0.33, random_state=42)\n",
    "\n",
    "# optimized Gradient boosting classifier was instantiated above\n",
    "\n",
    "# model was fit to same train/test split as other models\n",
    "gbr.fit(X_train, y_train)\n",
    "\n",
    "# predict test y values\n",
    "gbr_pred_y = gbr.predict(X_test)\n",
    "\n",
    "# evaluate classifier performance on test and train pred_y\n",
    "print(classification_report(y_test, gbr_pred_y))"
   ]
  }
 ],
 "metadata": {
  "kernelspec": {
   "display_name": "Python 3",
   "language": "python",
   "name": "python3"
  },
  "language_info": {
   "codemirror_mode": {
    "name": "ipython",
    "version": 3
   },
   "file_extension": ".py",
   "mimetype": "text/x-python",
   "name": "python",
   "nbconvert_exporter": "python",
   "pygments_lexer": "ipython3",
   "version": "3.7.3"
  }
 },
 "nbformat": 4,
 "nbformat_minor": 4
}
