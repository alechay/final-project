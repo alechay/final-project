{
 "cells": [
  {
   "cell_type": "code",
   "execution_count": 95,
   "metadata": {},
   "outputs": [],
   "source": [
    "import pandas as pd\n",
    "import numpy as np\n",
    "import matplotlib.pyplot as plt"
   ]
  },
  {
   "cell_type": "code",
   "execution_count": 15,
   "metadata": {},
   "outputs": [
    {
     "data": {
      "text/plain": [
       "(7352, 128)"
      ]
     },
     "execution_count": 15,
     "metadata": {},
     "output_type": "execute_result"
    }
   ],
   "source": [
    "filepath = '~/Desktop/UCI HAR Dataset/train/Inertial Signals/total_acc_y_train.txt'\n",
    "df = pd.read_csv(filepath, header=None, delim_whitespace=True)\n",
    "df.values.shape"
   ]
  },
  {
   "cell_type": "code",
   "execution_count": 17,
   "metadata": {},
   "outputs": [],
   "source": [
    "# load a single txt file as a numpy array\n",
    "def load_file(filepath):\n",
    "    df = pd.read_csv(filepath, header=None, delim_whitespace=True)\n",
    "    return df.values"
   ]
  },
  {
   "cell_type": "code",
   "execution_count": 19,
   "metadata": {},
   "outputs": [
    {
     "data": {
      "text/plain": [
       "(7352, 128)"
      ]
     },
     "execution_count": 19,
     "metadata": {},
     "output_type": "execute_result"
    }
   ],
   "source": [
    "load_file(filepath).shape"
   ]
  },
  {
   "cell_type": "code",
   "execution_count": 28,
   "metadata": {},
   "outputs": [],
   "source": [
    "# load a group of files, such as x y and z data for a given variable\n",
    "def load_group(filenames, directory=''):\n",
    "    loaded = []\n",
    "    for name in filenames:\n",
    "        data = load_file(directory + name)\n",
    "        loaded.append(data)\n",
    "    # stack group so that features are in the 3rd dimension\n",
    "    loaded = np.dstack(loaded)\n",
    "    return loaded"
   ]
  },
  {
   "cell_type": "code",
   "execution_count": 29,
   "metadata": {},
   "outputs": [
    {
     "data": {
      "text/plain": [
       "(7352, 128, 3)"
      ]
     },
     "execution_count": 29,
     "metadata": {},
     "output_type": "execute_result"
    }
   ],
   "source": [
    "train_dir = '~/Desktop/UCI HAR Dataset/train/Inertial Signals/'\n",
    "filenames = ['total_acc_x_train.txt', 'total_acc_y_train.txt', 'total_acc_z_train.txt']\n",
    "total_acc = load_group(filenames, directory=train_dir)\n",
    "total_acc.shape"
   ]
  },
  {
   "cell_type": "code",
   "execution_count": 35,
   "metadata": {},
   "outputs": [],
   "source": [
    "# load a dataset group, such as train or test\n",
    "def load_dataset(group, main_data_dir=''):\n",
    "    filepath = main_data_dir + group + '/Inertial Signals/'\n",
    "    # get all 9 files in Inertial Signals into a single filename list\n",
    "    filenames = []\n",
    "    # total acceleration\n",
    "    filenames += ['total_acc_x_'+group+'.txt', 'total_acc_y_'+group+'.txt', 'total_acc_z_'+group+'.txt']\n",
    "    # body acceleration\n",
    "    filenames += ['body_acc_x_'+group+'.txt', 'body_acc_y_'+group+'.txt', 'body_acc_z_'+group+'.txt']\n",
    "    # body gyroscope\n",
    "    filenames += ['body_gyro_x_'+group+'.txt', 'body_gyro_y_'+group+'.txt', 'body_gyro_z_'+group+'.txt']\n",
    "    # load input data\n",
    "    X = load_group(filenames, filepath)\n",
    "    # load class output \n",
    "    y = load_file(main_data_dir + group + '/y_'+group+'.txt')\n",
    "    return X, y"
   ]
  },
  {
   "cell_type": "code",
   "execution_count": 36,
   "metadata": {},
   "outputs": [
    {
     "name": "stdout",
     "output_type": "stream",
     "text": [
      "(7352, 128, 9) (7352, 1)\n"
     ]
    }
   ],
   "source": [
    "# load train data\n",
    "trainX, trainy = load_dataset('train', '~/Desktop/UCI HAR Dataset/')\n",
    "print(trainX.shape, trainy.shape)"
   ]
  },
  {
   "cell_type": "code",
   "execution_count": 37,
   "metadata": {},
   "outputs": [
    {
     "name": "stdout",
     "output_type": "stream",
     "text": [
      "(2947, 128, 9) (2947, 1)\n"
     ]
    }
   ],
   "source": [
    "# load test data\n",
    "testX, testy = load_dataset('test', '~/Desktop/UCI HAR Dataset/')\n",
    "print(testX.shape, testy.shape)"
   ]
  },
  {
   "cell_type": "code",
   "execution_count": 64,
   "metadata": {},
   "outputs": [],
   "source": [
    "# summarize the balance of class in an output variable column\n",
    "def class_breakdown(data):\n",
    "    # convert numpy array to dataframe\n",
    "    df = pd.DataFrame(data)\n",
    "    # get value_counts number\n",
    "    counts = df[0].value_counts()\n",
    "    # get value_counts percentage\n",
    "    percent = df[0].value_counts(normalize=True)*100\n",
    "    # summarize\n",
    "    for i in np.sort(df[0].unique()):\n",
    "        print('Class=%d, total=%d, percentage=%.3f' % (i, counts[i], percent[i]))    "
   ]
  },
  {
   "cell_type": "code",
   "execution_count": 66,
   "metadata": {},
   "outputs": [
    {
     "name": "stdout",
     "output_type": "stream",
     "text": [
      "Train Dataset\n",
      "Class=1, total=1226, percentage=16.676\n",
      "Class=2, total=1073, percentage=14.595\n",
      "Class=3, total=986, percentage=13.411\n",
      "Class=4, total=1286, percentage=17.492\n",
      "Class=5, total=1374, percentage=18.689\n",
      "Class=6, total=1407, percentage=19.138\n",
      "Test Dataset\n",
      "Class=1, total=496, percentage=16.831\n",
      "Class=2, total=471, percentage=15.982\n",
      "Class=3, total=420, percentage=14.252\n",
      "Class=4, total=491, percentage=16.661\n",
      "Class=5, total=532, percentage=18.052\n",
      "Class=6, total=537, percentage=18.222\n",
      "Both\n",
      "Class=1, total=1722, percentage=16.720\n",
      "Class=2, total=1544, percentage=14.992\n",
      "Class=3, total=1406, percentage=13.652\n",
      "Class=4, total=1777, percentage=17.254\n",
      "Class=5, total=1906, percentage=18.507\n",
      "Class=6, total=1944, percentage=18.876\n"
     ]
    }
   ],
   "source": [
    "# train file class breakdown\n",
    "print('Train Dataset')\n",
    "class_breakdown(trainy)\n",
    "\n",
    "#test file class breakdown\n",
    "print('Test Dataset')\n",
    "class_breakdown(testy)\n",
    "\n",
    "# summarize combined class breakdown\n",
    "print('Both')\n",
    "combined = np.vstack((trainy, testy))\n",
    "class_breakdown(combined)"
   ]
  },
  {
   "cell_type": "code",
   "execution_count": 102,
   "metadata": {},
   "outputs": [
    {
     "name": "stdout",
     "output_type": "stream",
     "text": [
      "[ 1  3  5  6  7  8 11 14 15 16 17 19 21 22 23 25 26 27 28 29 30]\n",
      "(7352, 1)\n"
     ]
    }
   ],
   "source": [
    "sub_map = load_file('~/Desktop/UCI HAR Dataset/train/subject_train.txt')\n",
    "train_subjects = np.unique(sub_map)\n",
    "print(train_subjects)\n",
    "print(sub_map.shape)"
   ]
  },
  {
   "cell_type": "code",
   "execution_count": 84,
   "metadata": {},
   "outputs": [],
   "source": [
    "sub_id = train_subjects[0]\n",
    "ix = [i for i in range(len(sub_map)) if sub_map[i]==sub_id]"
   ]
  },
  {
   "cell_type": "code",
   "execution_count": 104,
   "metadata": {},
   "outputs": [
    {
     "name": "stdout",
     "output_type": "stream",
     "text": [
      "1\n",
      "3\n"
     ]
    }
   ],
   "source": [
    "print(train_subjects[0])\n",
    "print(train_subjects[1])"
   ]
  },
  {
   "cell_type": "code",
   "execution_count": 106,
   "metadata": {},
   "outputs": [
    {
     "data": {
      "text/plain": [
       "7352"
      ]
     },
     "execution_count": 106,
     "metadata": {},
     "output_type": "execute_result"
    }
   ],
   "source": [
    "len(sub_map)"
   ]
  },
  {
   "cell_type": "code",
   "execution_count": 109,
   "metadata": {},
   "outputs": [
    {
     "data": {
      "text/plain": [
       "array([3])"
      ]
     },
     "execution_count": 109,
     "metadata": {},
     "output_type": "execute_result"
    }
   ],
   "source": [
    "sub_map[400]"
   ]
  },
  {
   "cell_type": "code",
   "execution_count": 88,
   "metadata": {},
   "outputs": [
    {
     "data": {
      "text/plain": [
       "341"
      ]
     },
     "execution_count": 88,
     "metadata": {},
     "output_type": "execute_result"
    }
   ],
   "source": [
    "len(ix)"
   ]
  },
  {
   "cell_type": "code",
   "execution_count": 110,
   "metadata": {},
   "outputs": [],
   "source": [
    "# get all data for one subject\n",
    "def data_for_subject(X, y, sub_map, sub_id):\n",
    "    # get row indexes for the subject id\n",
    "    ix = [i for i in range(len(sub_map)) if sub_map[i]==sub_id]\n",
    "    # return the selected samples\n",
    "    return X[ix, :, :], y[ix]"
   ]
  },
  {
   "cell_type": "code",
   "execution_count": 111,
   "metadata": {},
   "outputs": [],
   "source": [
    "# convert a series of windows to a 1D list\n",
    "def to_series(windows):\n",
    "    series = []\n",
    "    for window in windows:\n",
    "        # remove the overlap from the window\n",
    "        half = int(len(window) / 2) - 1\n",
    "        for value in window[-half:]:\n",
    "            series.append(value)\n",
    "    return series"
   ]
  },
  {
   "cell_type": "code",
   "execution_count": 112,
   "metadata": {},
   "outputs": [],
   "source": [
    "# plot the data for one subject\n",
    "def plot_subject(X, y):\n",
    "    plt.figure()\n",
    "    # determine the total number of plots\n",
    "    n, off = X.shape[2] + 1, 0\n",
    "    # plot total acc\n",
    "    for i in range(3):\n",
    "        plt.subplot(n, 1, off+1)\n",
    "        plt.plot(to_series(X[:, :, off]))\n",
    "        plt.title('total acc '+str(i), y=0, loc='left')\n",
    "        off += 1\n",
    "    # plot body acc\n",
    "    for i in range(3):\n",
    "        plt.subplot(n, 1, off+1)\n",
    "        plt.plot(to_series(X[:, :, off]))\n",
    "        plt.title('body acc '+str(i), y=0, loc='left')\n",
    "        off += 1\n",
    "    # plot body gyro\n",
    "    for i in range(3):\n",
    "        plt.subplot(n, 1, off+1)\n",
    "        plt.plot(to_series(X[:, :, off]))\n",
    "        plt.title('body gyro '+str(i), y=0, loc='left')\n",
    "        off += 1\n",
    "    # plot activities\n",
    "    plt.subplot(n, 1, n)\n",
    "    plt.plot(y)\n",
    "    plt.title('activity', y=0, loc='left')\n",
    "    plt.show()"
   ]
  },
  {
   "cell_type": "code",
   "execution_count": 113,
   "metadata": {},
   "outputs": [
    {
     "name": "stdout",
     "output_type": "stream",
     "text": [
      "[ 1  3  5  6  7  8 11 14 15 16 17 19 21 22 23 25 26 27 28 29 30]\n",
      "(347, 128, 9) (347, 1)\n"
     ]
    },
    {
     "data": {
      "image/png": "[encoded data removed]",
      "text/plain": [
       "<Figure size 432x288 with 10 Axes>"
      ]
     },
     "metadata": {
      "needs_background": "light"
     },
     "output_type": "display_data"
    }
   ],
   "source": [
    "# load data\n",
    "trainX, trainy = load_dataset('test', '~/Desktop/UCI HAR Dataset/')\n",
    "# load mapping of rows to subjects\n",
    "sub_map = load_file('~/Desktop/UCI HAR Dataset/train/subject_train.txt')\n",
    "train_subjects = np.unique(sub_map)\n",
    "print(train_subjects)\n",
    "# get the data for one subject\n",
    "sub_id = train_subjects[0]\n",
    "subX, suby = data_for_subject(trainX, trainy, sub_map, sub_id)\n",
    "print(subX.shape, suby.shape)\n",
    "# plot data for subject\n",
    "plot_subject(subX, suby)"
   ]
  },
  {
   "cell_type": "code",
   "execution_count": null,
   "metadata": {},
   "outputs": [],
   "source": []
  }
 ],
 "metadata": {
  "kernelspec": {
   "display_name": "Python 3",
   "language": "python",
   "name": "python3"
  },
  "language_info": {
   "codemirror_mode": {
    "name": "ipython",
    "version": 3
   },
   "file_extension": ".py",
   "mimetype": "text/x-python",
   "name": "python",
   "nbconvert_exporter": "python",
   "pygments_lexer": "ipython3",
   "version": "3.7.3"
  }
 },
 "nbformat": 4,
 "nbformat_minor": 4
}
