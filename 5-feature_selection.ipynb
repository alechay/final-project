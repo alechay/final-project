{
 "cells": [
  {
   "cell_type": "markdown",
   "metadata": {},
   "source": [
    "# Feature Selection"
   ]
  },
  {
   "cell_type": "markdown",
   "metadata": {},
   "source": [
    "Below, I try to see which features are the most predictive of the y-values using feature selection"
   ]
  },
  {
   "cell_type": "markdown",
   "metadata": {},
   "source": [
    "## Load data"
   ]
  },
  {
   "cell_type": "markdown",
   "metadata": {},
   "source": [
    "Import packages"
   ]
  },
  {
   "cell_type": "code",
   "execution_count": 1,
   "metadata": {},
   "outputs": [],
   "source": [
    "import pandas as pd\n",
    "import numpy as np"
   ]
  },
  {
   "cell_type": "markdown",
   "metadata": {},
   "source": [
    "Function to load file as a numpy array:"
   ]
  },
  {
   "cell_type": "code",
   "execution_count": 2,
   "metadata": {},
   "outputs": [],
   "source": [
    "# load a single txt file as a numpy array\n",
    "def load_file(filepath):\n",
    "    df = pd.read_csv(filepath, header=None, delim_whitespace=True)\n",
    "    return df.values"
   ]
  },
  {
   "cell_type": "markdown",
   "metadata": {},
   "source": [
    "Function to load a group of variables into a 3D numpy array:"
   ]
  },
  {
   "cell_type": "code",
   "execution_count": 3,
   "metadata": {},
   "outputs": [],
   "source": [
    "# load a group of files, such as x y and z data for a given variable\n",
    "def load_group(filenames, directory=''):\n",
    "    loaded = []\n",
    "    for name in filenames:\n",
    "        data = load_file(directory + name)\n",
    "        loaded.append(data)\n",
    "    # stack group so that features are in the 3rd dimension\n",
    "    loaded = np.dstack(loaded)\n",
    "    return loaded"
   ]
  },
  {
   "cell_type": "markdown",
   "metadata": {},
   "source": [
    "Function to load all inertial signals in a group, train or test, as a 3D numpy array:"
   ]
  },
  {
   "cell_type": "code",
   "execution_count": 4,
   "metadata": {},
   "outputs": [],
   "source": [
    "# load a dataset group, such as train or test\n",
    "def load_dataset(group, main_data_dir=''):\n",
    "    filepath = main_data_dir + group + '/Inertial Signals/'\n",
    "    # get all 9 files in Inertial Signals into a single filename list\n",
    "    filenames = []\n",
    "    # total acceleration\n",
    "    filenames += ['total_acc_x_'+group+'.txt', 'total_acc_y_'+group+'.txt', 'total_acc_z_'+group+'.txt']\n",
    "    # body acceleration\n",
    "    filenames += ['body_acc_x_'+group+'.txt', 'body_acc_y_'+group+'.txt', 'body_acc_z_'+group+'.txt']\n",
    "    # body gyroscope\n",
    "    filenames += ['body_gyro_x_'+group+'.txt', 'body_gyro_y_'+group+'.txt', 'body_gyro_z_'+group+'.txt']\n",
    "    # load input data\n",
    "    X = load_group(filenames, filepath)\n",
    "    # load class output \n",
    "    y = load_file(main_data_dir + group + '/y_'+group+'.txt')\n",
    "    return X, y"
   ]
  },
  {
   "cell_type": "markdown",
   "metadata": {},
   "source": [
    "Training data raw inertial signals"
   ]
  },
  {
   "cell_type": "code",
   "execution_count": 5,
   "metadata": {},
   "outputs": [],
   "source": [
    "# load raw training data\n",
    "raw_train_X, raw_train_y = load_dataset('train', 'UCI HAR Dataset/')\n",
    "train_sub_map = load_file(\"UCI HAR Dataset/train/subject_train.txt\")"
   ]
  },
  {
   "cell_type": "markdown",
   "metadata": {},
   "source": [
    "Test data raw inertial signals"
   ]
  },
  {
   "cell_type": "code",
   "execution_count": 6,
   "metadata": {},
   "outputs": [],
   "source": [
    "# load raw test data\n",
    "raw_test_X, raw_test_y = load_dataset('test', 'UCI HAR Dataset/')\n",
    "test_sub_map = load_file(\"UCI HAR Dataset/test/subject_test.txt\")"
   ]
  },
  {
   "cell_type": "markdown",
   "metadata": {},
   "source": [
    "Concatenate the data so that I can later cross validate it myself"
   ]
  },
  {
   "cell_type": "code",
   "execution_count": 7,
   "metadata": {},
   "outputs": [
    {
     "name": "stdout",
     "output_type": "stream",
     "text": [
      "(10299,)\n",
      "(10299, 128, 9)\n",
      "(10299,)\n"
     ]
    }
   ],
   "source": [
    "concat_sub_map = np.concatenate((train_sub_map, test_sub_map), axis=None)\n",
    "concat_X = np.concatenate((raw_train_X, raw_test_X), axis=0)\n",
    "concat_y = np.concatenate((raw_train_y, raw_test_y), axis=None)\n",
    "print(concat_sub_map.shape)\n",
    "print(concat_X.shape)\n",
    "print(concat_y.shape)"
   ]
  },
  {
   "cell_type": "markdown",
   "metadata": {},
   "source": [
    "Load processed train data"
   ]
  },
  {
   "cell_type": "code",
   "execution_count": 8,
   "metadata": {},
   "outputs": [],
   "source": [
    "eng_train_X = load_file(\"UCI HAR Dataset/train/X_train.txt\")\n",
    "eng_train_y = load_file(\"UCI HAR Dataset/train/y_train.txt\")"
   ]
  },
  {
   "cell_type": "markdown",
   "metadata": {},
   "source": [
    "Load test data and print data shape"
   ]
  },
  {
   "cell_type": "code",
   "execution_count": 9,
   "metadata": {},
   "outputs": [],
   "source": [
    "eng_test_X = load_file(\"UCI HAR Dataset/test/X_test.txt\")\n",
    "eng_test_y = load_file(\"UCI HAR Dataset/test/y_test.txt\")"
   ]
  },
  {
   "cell_type": "markdown",
   "metadata": {},
   "source": [
    "Concatenate the data so that I can later cross validate it myself"
   ]
  },
  {
   "cell_type": "code",
   "execution_count": 11,
   "metadata": {},
   "outputs": [
    {
     "name": "stdout",
     "output_type": "stream",
     "text": [
      "(10299,)\n",
      "(10299, 561)\n",
      "(10299,)\n"
     ]
    }
   ],
   "source": [
    "eng_concat_X = np.concatenate((eng_train_X, eng_test_X), axis=0)\n",
    "eng_concat_y = np.concatenate((eng_train_y, eng_test_y), axis=None)\n",
    "print(concat_sub_map.shape)\n",
    "print(eng_concat_X.shape)\n",
    "print(eng_concat_y.shape)"
   ]
  },
  {
   "cell_type": "markdown",
   "metadata": {},
   "source": [
    "## Extract custom features from the data"
   ]
  },
  {
   "cell_type": "markdown",
   "metadata": {},
   "source": [
    "To improve the classification accuracy of models, I extracted features from the data. Using the advice of Martin et al. (2017) www.mdpi.com/1424-8220/17/9/2058/htm, \n",
    "</br>\n",
    "I selected the following features:\n",
    "</br>\n",
    "mean, median, variance, minimum, maximum, interquartile range, 20th percentile and 80th percentile\n",
    "\n",
    "Extract the features in axis 1 of the dataset, which corresponds to time. The dimensionality of the dataset should be reduced to (10299, 9) in each case."
   ]
  },
  {
   "cell_type": "code",
   "execution_count": 12,
   "metadata": {},
   "outputs": [],
   "source": [
    "from scipy.stats import iqr"
   ]
  },
  {
   "cell_type": "code",
   "execution_count": 13,
   "metadata": {},
   "outputs": [
    {
     "name": "stdout",
     "output_type": "stream",
     "text": [
      "(10299, 9)\n",
      "(10299, 9)\n",
      "(10299, 9)\n",
      "(10299, 9)\n",
      "(10299, 9)\n",
      "(10299, 9)\n",
      "(10299, 9)\n",
      "(10299, 9)\n"
     ]
    }
   ],
   "source": [
    "print(np.mean(concat_X, axis=1).shape)\n",
    "print(np.median(concat_X, axis=1).shape)\n",
    "print(np.var(concat_X, axis=1).shape)\n",
    "print(np.amin(concat_X, axis=1).shape)\n",
    "print(np.amax(concat_X, axis=1).shape)\n",
    "print(iqr(concat_X, axis=1).shape)\n",
    "print(np.percentile(concat_X, 20, axis=1).shape)\n",
    "print(np.percentile(concat_X, 80, axis=1).shape)"
   ]
  },
  {
   "cell_type": "markdown",
   "metadata": {},
   "source": [
    "Concatenate the features to create a new X array. Shape should be (10299, 72)."
   ]
  },
  {
   "cell_type": "code",
   "execution_count": 14,
   "metadata": {},
   "outputs": [],
   "source": [
    "means = np.mean(concat_X, axis=1)\n",
    "medians = np.median(concat_X, axis=1)\n",
    "variances = np.var(concat_X, axis=1)\n",
    "minimums = np.amin(concat_X, axis=1)\n",
    "maximums = np.amax(concat_X, axis=1)\n",
    "IQRs = iqr(concat_X, axis=1)\n",
    "twenties = np.percentile(concat_X, 20, axis=1)\n",
    "eighties = np.percentile(concat_X, 80, axis=1)\n",
    "features_X = np.concatenate((means, medians, variances, minimums, maximums, IQRs, twenties, eighties), \n",
    "                            axis=1)"
   ]
  },
  {
   "cell_type": "code",
   "execution_count": 15,
   "metadata": {},
   "outputs": [
    {
     "data": {
      "text/plain": [
       "(10299, 72)"
      ]
     },
     "execution_count": 15,
     "metadata": {},
     "output_type": "execute_result"
    }
   ],
   "source": [
    "features_X.shape"
   ]
  },
  {
   "cell_type": "markdown",
   "metadata": {},
   "source": [
    "## Variance threshold\n",
    "\n",
    "Eliminates all features with variance across samples less than the threshold. We find that there are only 8 features out of the 72 with variances greater than 0.2. As you decrease the threshold, more features are included."
   ]
  },
  {
   "cell_type": "markdown",
   "metadata": {},
   "source": [
    "Variance thresholding for my feature engineered data."
   ]
  },
  {
   "cell_type": "code",
   "execution_count": 48,
   "metadata": {},
   "outputs": [
    {
     "name": "stdout",
     "output_type": "stream",
     "text": [
      "variance 0.2 (10299, 8)\n",
      "variance 0.1 (10299, 25)\n",
      "variance 0.05 (10299, 34)\n",
      "variance 0.01 (10299, 49)\n"
     ]
    }
   ],
   "source": [
    "from sklearn.feature_selection import VarianceThreshold\n",
    "\n",
    "variances = [0.2, 0.1, 0.05, 0.01]\n",
    "for x in variances:\n",
    "    sel = VarianceThreshold(threshold=x)\n",
    "    sel.fit(features_X)\n",
    "    # print(sel.variances_)\n",
    "    X_selected = sel.transform(features_X)\n",
    "    print(\"variance\", x, X_selected.shape)"
   ]
  },
  {
   "cell_type": "markdown",
   "metadata": {},
   "source": [
    "Get indexes of features that have greatest variance"
   ]
  },
  {
   "cell_type": "code",
   "execution_count": 52,
   "metadata": {},
   "outputs": [
    {
     "data": {
      "text/plain": [
       "array([28, 29, 33, 34, 35, 36, 42, 43])"
      ]
     },
     "execution_count": 52,
     "metadata": {},
     "output_type": "execute_result"
    }
   ],
   "source": [
    "from sklearn.feature_selection import VarianceThreshold\n",
    "\n",
    "sel = VarianceThreshold(threshold=0.2)\n",
    "sel.fit(features_X)\n",
    "a = sel.variances_\n",
    "i = np.where(a>0.2)[0]\n",
    "i"
   ]
  },
  {
   "cell_type": "markdown",
   "metadata": {},
   "source": [
    "Create array of features in the order that they appear in the array of loaded data"
   ]
  },
  {
   "cell_type": "code",
   "execution_count": 61,
   "metadata": {},
   "outputs": [
    {
     "data": {
      "text/plain": [
       "(72, 2)"
      ]
     },
     "execution_count": 61,
     "metadata": {},
     "output_type": "execute_result"
    }
   ],
   "source": [
    "a=['mean','median','variance','min','max','IQR','20','80']\n",
    "b=['total_acc_x','total_acc_y','total_acc_z','body_acc_x','body_acc_y','body_acc_z',\n",
    "   'body_gyro_x','body_gyro_y','body_gyro_z',]\n",
    "\n",
    "comb = np.array([(x,y) for x in a for y in b])\n",
    "comb.shape"
   ]
  },
  {
   "cell_type": "markdown",
   "metadata": {},
   "source": [
    "The features that have the greatest variance are printed out below"
   ]
  },
  {
   "cell_type": "code",
   "execution_count": 54,
   "metadata": {},
   "outputs": [
    {
     "data": {
      "text/plain": [
       "array([['min', 'total_acc_y'],\n",
       "       ['min', 'total_acc_z'],\n",
       "       ['min', 'body_gyro_x'],\n",
       "       ['min', 'body_gyro_y'],\n",
       "       ['min', 'body_gyro_z'],\n",
       "       ['max', 'total_acc_x'],\n",
       "       ['max', 'body_gyro_x'],\n",
       "       ['max', 'body_gyro_y']], dtype='<U11')"
      ]
     },
     "execution_count": 54,
     "metadata": {},
     "output_type": "execute_result"
    }
   ],
   "source": [
    "comb[i]"
   ]
  },
  {
   "cell_type": "markdown",
   "metadata": {},
   "source": [
    "Variance thresholding for the pre-engineered data."
   ]
  },
  {
   "cell_type": "code",
   "execution_count": 55,
   "metadata": {},
   "outputs": [
    {
     "name": "stdout",
     "output_type": "stream",
     "text": [
      "variance 0.2 (10299, 55)\n",
      "variance 0.1 (10299, 183)\n",
      "variance 0.05 (10299, 364)\n",
      "variance 0.01 (10299, 521)\n"
     ]
    }
   ],
   "source": [
    "variances = [0.2, 0.1, 0.05, 0.01]\n",
    "for x in variances:\n",
    "    sel = VarianceThreshold(threshold=x)\n",
    "    sel.fit(eng_concat_X)\n",
    "    X_selected = sel.transform(eng_concat_X)\n",
    "    print(\"variance\", x, X_selected.shape)"
   ]
  },
  {
   "cell_type": "markdown",
   "metadata": {},
   "source": [
    "Get indexes of features that have greatest variance"
   ]
  },
  {
   "cell_type": "code",
   "execution_count": 63,
   "metadata": {},
   "outputs": [
    {
     "data": {
      "text/plain": [
       "array([  4,   7,   9,  15,  22,  40,  49,  52,  56,  57,  77,  78,  79,\n",
       "       102, 103, 104, 142, 144, 182, 183, 184, 200, 203, 205, 208, 213,\n",
       "       216, 218, 221, 234, 247, 260, 266, 269, 271, 272, 280, 287, 288,\n",
       "       289, 350, 366, 367, 368, 445, 446, 447, 510, 523, 536, 549, 555,\n",
       "       556, 557, 558])"
      ]
     },
     "execution_count": 63,
     "metadata": {},
     "output_type": "execute_result"
    }
   ],
   "source": [
    "from sklearn.feature_selection import VarianceThreshold\n",
    "\n",
    "sel = VarianceThreshold(threshold=0.2)\n",
    "sel.fit(eng_concat_X)\n",
    "a = sel.variances_\n",
    "i = np.where(a>0.2)[0]"
   ]
  },
  {
   "cell_type": "markdown",
   "metadata": {},
   "source": [
    "Load features.txt"
   ]
  },
  {
   "cell_type": "code",
   "execution_count": 64,
   "metadata": {},
   "outputs": [
    {
     "data": {
      "text/plain": [
       "(561, 2)"
      ]
     },
     "execution_count": 64,
     "metadata": {},
     "output_type": "execute_result"
    }
   ],
   "source": [
    "eng_features = load_file('UCI HAR Dataset/features.txt')\n",
    "eng_features.shape"
   ]
  },
  {
   "cell_type": "markdown",
   "metadata": {},
   "source": [
    "The features that have the greatest variance are printed out below"
   ]
  },
  {
   "cell_type": "code",
   "execution_count": 65,
   "metadata": {},
   "outputs": [
    {
     "data": {
      "text/plain": [
       "array([[5, 'tBodyAcc-std()-Y'],\n",
       "       [8, 'tBodyAcc-mad()-Y'],\n",
       "       [10, 'tBodyAcc-max()-X'],\n",
       "       [16, 'tBodyAcc-sma()'],\n",
       "       [23, 'tBodyAcc-entropy()-X'],\n",
       "       [41, 'tGravityAcc-mean()-X'],\n",
       "       [50, 'tGravityAcc-max()-X'],\n",
       "       [53, 'tGravityAcc-min()-X'],\n",
       "       [57, 'tGravityAcc-energy()-X'],\n",
       "       [58, 'tGravityAcc-energy()-Y'],\n",
       "       [78, 'tGravityAcc-correlation()-X,Y'],\n",
       "       [79, 'tGravityAcc-correlation()-X,Z'],\n",
       "       [80, 'tGravityAcc-correlation()-Y,Z'],\n",
       "       [103, 'tBodyAccJerk-entropy()-X'],\n",
       "       [104, 'tBodyAccJerk-entropy()-Y'],\n",
       "       [105, 'tBodyAccJerk-entropy()-Z'],\n",
       "       [143, 'tBodyGyro-entropy()-X'],\n",
       "       [145, 'tBodyGyro-entropy()-Z'],\n",
       "       [183, 'tBodyGyroJerk-entropy()-X'],\n",
       "       [184, 'tBodyGyroJerk-entropy()-Y'],\n",
       "       [185, 'tBodyGyroJerk-entropy()-Z'],\n",
       "       [201, 'tBodyAccMag-mean()'],\n",
       "       [204, 'tBodyAccMag-max()'],\n",
       "       [206, 'tBodyAccMag-sma()'],\n",
       "       [209, 'tBodyAccMag-entropy()'],\n",
       "       [214, 'tGravityAccMag-mean()'],\n",
       "       [217, 'tGravityAccMag-max()'],\n",
       "       [219, 'tGravityAccMag-sma()'],\n",
       "       [222, 'tGravityAccMag-entropy()'],\n",
       "       [235, 'tBodyAccJerkMag-entropy()'],\n",
       "       [248, 'tBodyGyroMag-entropy()'],\n",
       "       [261, 'tBodyGyroJerkMag-entropy()'],\n",
       "       [267, 'fBodyAcc-mean()-Y'],\n",
       "       [270, 'fBodyAcc-std()-Y'],\n",
       "       [272, 'fBodyAcc-mad()-X'],\n",
       "       [273, 'fBodyAcc-mad()-Y'],\n",
       "       [281, 'fBodyAcc-sma()'],\n",
       "       [288, 'fBodyAcc-entropy()-X'],\n",
       "       [289, 'fBodyAcc-entropy()-Y'],\n",
       "       [290, 'fBodyAcc-entropy()-Z'],\n",
       "       [351, 'fBodyAccJerk-mad()-X'],\n",
       "       [367, 'fBodyAccJerk-entropy()-X'],\n",
       "       [368, 'fBodyAccJerk-entropy()-Y'],\n",
       "       [369, 'fBodyAccJerk-entropy()-Z'],\n",
       "       [446, 'fBodyGyro-entropy()-X'],\n",
       "       [447, 'fBodyGyro-entropy()-Y'],\n",
       "       [448, 'fBodyGyro-entropy()-Z'],\n",
       "       [511, 'fBodyAccMag-entropy()'],\n",
       "       [524, 'fBodyBodyAccJerkMag-entropy()'],\n",
       "       [537, 'fBodyBodyGyroMag-entropy()'],\n",
       "       [550, 'fBodyBodyGyroJerkMag-entropy()'],\n",
       "       [556, 'angle(tBodyAccJerkMean),gravityMean)'],\n",
       "       [557, 'angle(tBodyGyroMean,gravityMean)'],\n",
       "       [558, 'angle(tBodyGyroJerkMean,gravityMean)'],\n",
       "       [559, 'angle(X,gravityMean)']], dtype=object)"
      ]
     },
     "execution_count": 65,
     "metadata": {},
     "output_type": "execute_result"
    }
   ],
   "source": [
    "eng_features[i]"
   ]
  },
  {
   "cell_type": "markdown",
   "metadata": {},
   "source": [
    "The features that I have identified, for both my feature extracted dataset and the pre-engineered dataset, are assumedly the best predictors of the class of activity because they have the greatest variance."
   ]
  },
  {
   "cell_type": "markdown",
   "metadata": {},
   "source": [
    "## Recursive feature elimination\n",
    "\n",
    "Select best features using recursive feature elimination and cross validate with K fold"
   ]
  },
  {
   "cell_type": "markdown",
   "metadata": {},
   "source": [
    "Tried RFE with random forest classifier because it exposes the `coef_` and `feature_importances_` attributes. Also it handles interactions well and doesn't require careful tuning of parameters"
   ]
  },
  {
   "cell_type": "markdown",
   "metadata": {},
   "source": [
    "Recursive feature elimination cross validation with my extracted feature data"
   ]
  },
  {
   "cell_type": "code",
   "execution_count": 66,
   "metadata": {},
   "outputs": [
    {
     "name": "stdout",
     "output_type": "stream",
     "text": [
      "Number of features corresponding to max CV score : 55\n"
     ]
    },
    {
     "data": {
      "image/png": "[encoded data removed]",
      "text/plain": [
       "<Figure size 432x288 with 1 Axes>"
      ]
     },
     "metadata": {
      "needs_background": "light"
     },
     "output_type": "display_data"
    }
   ],
   "source": [
    "from sklearn.ensemble import RandomForestClassifier\n",
    "from sklearn.model_selection import KFold\n",
    "from sklearn.feature_selection import RFECV\n",
    "import matplotlib.pyplot as plt\n",
    "\n",
    "# instantiate the random forest classifier and the cross validation object\n",
    "clf = RandomForestClassifier(n_estimators=10)\n",
    "kf = KFold(n_splits=5, shuffle=True, random_state=42)\n",
    "\n",
    "# Create the RFE object and compute a cross-validated score.\n",
    "rfecv = RFECV(estimator=clf,\n",
    "                        step=1,\n",
    "                        cv=kf,\n",
    "                        scoring='accuracy')\n",
    "rfecv.fit(features_X, concat_y)\n",
    "\n",
    "print(\"Number of features corresponding to max CV score : %d\" % rfecv.n_features_)\n",
    "\n",
    "# Plot number of features VS. cross-validation scores\n",
    "plt.figure()\n",
    "plt.xlabel(\"Number of features selected\")\n",
    "plt.ylabel(\"Cross validation score (# of correct classifications)\")\n",
    "plt.plot(range(1, len(rfecv.grid_scores_) + 1), rfecv.grid_scores_)\n",
    "plt.show()"
   ]
  },
  {
   "cell_type": "markdown",
   "metadata": {},
   "source": [
    "RFECV with the pre-engineered feature data"
   ]
  },
  {
   "cell_type": "code",
   "execution_count": 67,
   "metadata": {},
   "outputs": [
    {
     "name": "stdout",
     "output_type": "stream",
     "text": [
      "Number of features corresponding to max CV score : 90\n"
     ]
    },
    {
     "data": {
      "image/png": "[encoded data removed]",
      "text/plain": [
       "<Figure size 432x288 with 1 Axes>"
      ]
     },
     "metadata": {
      "needs_background": "light"
     },
     "output_type": "display_data"
    }
   ],
   "source": [
    "# random forest classifier and cross validation object already instantiated\n",
    "# RFECV object already instantiated\n",
    "\n",
    "# fit RFECV to pre-engineered data this time\n",
    "rfecv.fit(eng_concat_X, eng_concat_y)\n",
    "\n",
    "print(\"Number of features corresponding to max CV score : %d\" % rfecv.n_features_)\n",
    "\n",
    "# Plot number of features VS. cross-validation scores\n",
    "plt.figure()\n",
    "plt.xlabel(\"Number of features selected\")\n",
    "plt.ylabel(\"Cross validation score (# of correct classifications)\")\n",
    "plt.plot(range(1, len(rfecv.grid_scores_) + 1), rfecv.grid_scores_)\n",
    "plt.show()"
   ]
  },
  {
   "cell_type": "markdown",
   "metadata": {},
   "source": [
    "I found that using more features, in both my feature extracted dataset and the pre-engineered dataset, only increased performance of the model up to a certain point. After a while, in fact, it seems that using more features decreases performance of the model due to overfitting."
   ]
  }
 ],
 "metadata": {
  "kernelspec": {
   "display_name": "Python 3",
   "language": "python",
   "name": "python3"
  },
  "language_info": {
   "codemirror_mode": {
    "name": "ipython",
    "version": 3
   },
   "file_extension": ".py",
   "mimetype": "text/x-python",
   "name": "python",
   "nbconvert_exporter": "python",
   "pygments_lexer": "ipython3",
   "version": "3.7.3"
  }
 },
 "nbformat": 4,
 "nbformat_minor": 4
}
