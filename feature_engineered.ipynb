{
 "cells": [
  {
   "cell_type": "code",
   "execution_count": 1,
   "metadata": {},
   "outputs": [],
   "source": [
    "import pandas as pd\n",
    "import numpy as np\n",
    "import matplotlib.pyplot as plt"
   ]
  },
  {
   "cell_type": "code",
   "execution_count": 2,
   "metadata": {},
   "outputs": [],
   "source": [
    "# load a single txt file as a numpy array\n",
    "def load_file(filepath):\n",
    "    df = pd.read_csv(filepath, header=None, delim_whitespace=True)\n",
    "    return df.values"
   ]
  },
  {
   "cell_type": "code",
   "execution_count": 3,
   "metadata": {},
   "outputs": [
    {
     "name": "stdout",
     "output_type": "stream",
     "text": [
      "(7352, 1)\n",
      "(7352, 561)\n",
      "(7352, 1)\n"
     ]
    }
   ],
   "source": [
    "sub_map = load_file(\"~/Desktop/UCI HAR Dataset/train/subject_train.txt\")\n",
    "trainX = load_file(\"~/Desktop/UCI HAR Dataset/train/X_train.txt\")\n",
    "trainy = load_file(\"~/Desktop/UCI HAR Dataset/train/y_train.txt\")\n",
    "print(sub_map.shape)\n",
    "print(trainX.shape)\n",
    "print(trainy.shape)"
   ]
  },
  {
   "cell_type": "code",
   "execution_count": 9,
   "metadata": {},
   "outputs": [
    {
     "name": "stdout",
     "output_type": "stream",
     "text": [
      "<class 'numpy.ndarray'>\n",
      "(7352,)\n"
     ]
    }
   ],
   "source": [
    "print(type(trainy))\n",
    "print(trainy.ravel().shape)"
   ]
  },
  {
   "cell_type": "code",
   "execution_count": 12,
   "metadata": {},
   "outputs": [
    {
     "name": "stdout",
     "output_type": "stream",
     "text": [
      "\n",
      "Original labels  [[5]\n",
      " [5]\n",
      " [5]\n",
      " ...\n",
      " [2]\n",
      " [2]\n",
      " [2]]\n",
      "Predicted labels [5 5 5 ... 2 2 2]\n",
      "[[7.45608223e-10 2.06423315e-09 2.68827233e-10 1.08172850e-04\n",
      "  9.99890400e-01 1.42392225e-06]\n",
      " [1.61771573e-07 2.37600371e-09 6.24693618e-09 6.04076202e-03\n",
      "  9.93947396e-01 1.16717995e-05]\n",
      " [6.94976388e-08 2.03039684e-10 5.18881872e-10 1.67691618e-04\n",
      "  9.99831229e-01 1.00905244e-06]\n",
      " ...\n",
      " [2.92456279e-03 9.97014776e-01 5.02953849e-05 1.42320975e-06\n",
      "  1.35661694e-07 8.80706646e-06]\n",
      " [5.50167508e-04 9.99438685e-01 6.01471437e-06 8.77963868e-07\n",
      "  5.56771962e-08 4.19926411e-06]\n",
      " [5.37639826e-04 9.99294558e-01 1.61051106e-04 9.87126308e-07\n",
      "  3.46147102e-07 5.41743176e-06]]\n",
      "Prediction of label for one point:  [5 5 5 ... 2 2 2]\n"
     ]
    }
   ],
   "source": [
    "from sklearn.linear_model import LogisticRegression\n",
    "# from sklearn.metrics import f1_score, precision_score\n",
    "\n",
    "lr = LogisticRegression(solver='lbfgs', max_iter=10000, multi_class='auto')\n",
    "lr.fit(trainX, trainy.ravel())\n",
    "# print(lr.coef_)\n",
    "# print(lr.intercept_)\n",
    "# print(y)\n",
    "# print(lr.predict(X))\n",
    "\n",
    "print(\"\\nOriginal labels \", trainy)\n",
    "print(\"Predicted labels\", lr.predict(trainX))\n",
    "print(lr.predict_proba(trainX))\n",
    "\n",
    "print(\"Prediction of label for one point: \", lr.predict(trainX))"
   ]
  },
  {
   "cell_type": "code",
   "execution_count": 13,
   "metadata": {},
   "outputs": [],
   "source": [
    "from sklearn.neighbors import KNeighborsClassifier\n",
    "clf = KNeighborsClassifier(n_neighbors = 7)\n",
    "clf.fit(trainX, trainy.ravel())\n",
    "# print(trainy)\n",
    "pred_y = clf.predict(trainX)\n",
    "# print(pred_y)"
   ]
  },
  {
   "cell_type": "code",
   "execution_count": 14,
   "metadata": {},
   "outputs": [
    {
     "data": {
      "text/plain": [
       "array([[1226,    0,    0,    0,    0,    0],\n",
       "       [   0, 1073,    0,    0,    0,    0],\n",
       "       [   1,    4,  981,    0,    0,    0],\n",
       "       [   0,    1,    0, 1193,   88,    4],\n",
       "       [   0,    0,    0,   35, 1339,    0],\n",
       "       [   0,    0,    0,    1,    0, 1406]])"
      ]
     },
     "execution_count": 14,
     "metadata": {},
     "output_type": "execute_result"
    }
   ],
   "source": [
    "from sklearn.metrics import confusion_matrix\n",
    "confusion_matrix(trainy.ravel(), pred_y)"
   ]
  },
  {
   "cell_type": "code",
   "execution_count": 15,
   "metadata": {},
   "outputs": [
    {
     "name": "stdout",
     "output_type": "stream",
     "text": [
      "              precision    recall  f1-score   support\n",
      "\n",
      "           1       1.00      1.00      1.00      1226\n",
      "           2       1.00      1.00      1.00      1073\n",
      "           3       1.00      0.99      1.00       986\n",
      "           4       0.97      0.93      0.95      1286\n",
      "           5       0.94      0.97      0.96      1374\n",
      "           6       1.00      1.00      1.00      1407\n",
      "\n",
      "    accuracy                           0.98      7352\n",
      "   macro avg       0.98      0.98      0.98      7352\n",
      "weighted avg       0.98      0.98      0.98      7352\n",
      "\n"
     ]
    }
   ],
   "source": [
    "from sklearn.metrics import classification_report\n",
    "\n",
    "print(classification_report(trainy.ravel(), pred_y))"
   ]
  },
  {
   "cell_type": "code",
   "execution_count": null,
   "metadata": {},
   "outputs": [],
   "source": []
  }
 ],
 "metadata": {
  "kernelspec": {
   "display_name": "Python 3",
   "language": "python",
   "name": "python3"
  },
  "language_info": {
   "codemirror_mode": {
    "name": "ipython",
    "version": 3
   },
   "file_extension": ".py",
   "mimetype": "text/x-python",
   "name": "python",
   "nbconvert_exporter": "python",
   "pygments_lexer": "ipython3",
   "version": "3.7.3"
  }
 },
 "nbformat": 4,
 "nbformat_minor": 4
}
